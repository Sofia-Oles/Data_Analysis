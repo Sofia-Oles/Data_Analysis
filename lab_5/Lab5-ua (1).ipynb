{
 "cells": [
  {
   "cell_type": "markdown",
   "metadata": {
    "id": "y2VgPk2mTThF"
   },
   "source": [
    "# **Лабораторна робота 5. Класифікація в банківській справі**"
   ]
  },
  {
   "cell_type": "markdown",
   "metadata": {
    "id": "jkRBtAnQTThK",
    "tags": []
   },
   "source": [
    "Метою лабораторної роботи є вивчення методів класифікації клієнтів у банківській справі згідно моделей машинного навчання.\n",
    "\n",
    "Після завершення лабораторної роботи Ви зможете:\n",
    "\n",
    "1. попередньо обробляти (нормалізовувати та перетворювати категорійні дані) та створювати Набір Даних\n",
    "2. обирати вхідні поля\n",
    "3. проводити класифікацію клієнтів\n",
    "4. візуалізувати дерево рішень моделі класифікації"
   ]
  },
  {
   "cell_type": "markdown",
   "metadata": {
    "id": "CHwOXFUpTThK"
   },
   "source": [
    "## Виконала: Олескевич Софія, КН-314"
   ]
  },
  {
   "cell_type": "markdown",
   "metadata": {
    "id": "bHSc4iksTThP"
   },
   "source": [
    "Статистика взаємно залежної інформації* Матеріали та методи\n",
    "* Основна частина\n",
    "  * Імпорт бібліотек\n",
    "  * Завантаження даних\n",
    "  * Підготовка даних\n",
    "      * Перетворення даних\n",
    "      * Кодування та нормалізація\n",
    "  * Вибір вхідних полів\n",
    "      * Критерій хі-квадрат\n",
    "      * Статистика взаємно залежної інформації\n",
    "      * Вага вхідних полів\n",
    "      * Кореляційна матриця з Heatmap\n",
    "  * Моделі класифікації\n",
    "       * Створення навчальних та тестових наборів даних\n",
    "       * Класифікатор Extra Trees\n",
    "       * Логістична регресія\n",
    "  * Дерево рішень\n",
    "      * Побудова моделі\n",
    "      * Візуалізація дерева рішень\n",
    "* Завдання\n",
    "* Автори\n"
   ]
  },
  {
   "cell_type": "markdown",
   "metadata": {
    "id": "S4t5rpwITThQ"
   },
   "source": [
    "----"
   ]
  },
  {
   "cell_type": "markdown",
   "metadata": {
    "id": "KoNAvKmglBm-"
   },
   "source": [
    "## Матеріали та методи"
   ]
  },
  {
   "cell_type": "markdown",
   "metadata": {
    "id": "ZOgyr5RSlI40"
   },
   "source": [
    "Дані, які ми будемо використовувати для цієї лабораторної роботи, є частиною набору маркетингових даних банку з відкритим вихідним кодом зі сховища UCI ML: https://archive.ics.uci.edu/ml/citation_policy.html.\n",
    "\n",
    "> Цей набір даних є загальнодоступним для дослідження. Деталі описані в  [Moro et al., 2014].\n",
    "Будь ласка, додайте цитування, якщо ви плануєте використовувати цю базу даних:\n",
    "[Moro et al., 2014] S. Moro, P. Cortez and P. Rita. A Data-Driven Approach to Predict the Success of Bank Telemarketing. Decision Support Systems, Elsevier, 62:22-31, June 2014\n",
    "\n",
    "Під час роботи вирішується задача попереднього аналізу отримання позитивної відповіді (щодо строкового депозиту) при  прямих дзвінках з банку. По суті, завдання полягає в оцінюванні відповідно до вхідних полів клієнтів (потенційних клієнтів) та прогнозуванні їх поведінки (дефолт за кредитом, бажання відкрити депозит тощо).\n",
    "\n",
    "У цій лабораторній роботі ми спробуємо дати відповіді на питання, які є актуальними при аналізі банківських даних:\n",
    "\n",
    "1. Які бібліотеки Python найчастіше використовують для класифікаційного аналізу?\n",
    "2. Як перетворити категорійні дані?\n",
    "3. Як створити Набір Даних?\n",
    "4. Як зробити вибірку за характерними ознаками?\n",
    "5. Як створити, обрати та візуалізувати класифікаційну модель?\n",
    "\n",
    "Також ми зробимо висновки щодо отриманих результатів класифікаційного аналізу для більш ефективного планування маркетингових кампаній у банківськиій сфері."
   ]
  },
  {
   "cell_type": "markdown",
   "metadata": {
    "id": "t6D_qFGMqUaN"
   },
   "source": [
    "[Scikit-learn](https://scikit-learn.org/stable/) (раніше scikits.learn також відома як sklearn) це безкоштовна бібліотека для машинного навчання мовою програмування Python. Вона надає функціонал для створення та тренування різноманітних алгоритмів класифікації, регресії та кластеризації, таких як лінійна регресія, random forests, градієнтний бустинг, кластеризація методом к–середніх, алгоритм DBSCAN і призначена для взаємодії з бібліотеками NumPy та SciPy."
   ]
  },
  {
   "cell_type": "code",
   "execution_count": 1,
   "metadata": {},
   "outputs": [],
   "source": [
    "# conda install scikit-learn==0.24.2"
   ]
  },
  {
   "cell_type": "markdown",
   "metadata": {
    "id": "xS8UOiQOTThR"
   },
   "source": [
    "## Імпорт бібліотек"
   ]
  },
  {
   "cell_type": "markdown",
   "metadata": {
    "id": "H6YFQWnQHKui"
   },
   "source": [
    "Завантажимо дані використовуючи URL-адресу https://archive.ics.uci.edu/ml/machine-learning-databases/00222/bank-additional.zip"
   ]
  },
  {
   "cell_type": "markdown",
   "metadata": {
    "id": "-BnB2tiSZh4R"
   },
   "source": [
    "Альтернативна URL-адреса для завантаження даних."
   ]
  },
  {
   "cell_type": "markdown",
   "metadata": {
    "id": "eGH5DhdLHmOp"
   },
   "source": [
    "Імпортуємо бібліотеки, необхідні для використання в цій лабораторній роботі. Додати деякі псевдоніми для полегшення використання бібліотек у нашому коді та встановимо розмір фігури за замовчуванням для подальших графіків. Попередження слід ігнорувати.\n"
   ]
  },
  {
   "cell_type": "code",
   "execution_count": 2,
   "metadata": {
    "id": "jdVcijxmTTha"
   },
   "outputs": [],
   "source": [
    "import pandas as pd\n",
    "import matplotlib.pyplot as plt\n",
    "import seaborn as sns\n",
    "import numpy as np\n",
    "%matplotlib inline\n",
    "plt.rcParams[\"figure.figsize\"] = (8, 6)\n",
    "# Data transformation\n",
    "from sklearn.preprocessing import LabelEncoder, OrdinalEncoder\n",
    "from sklearn.preprocessing import MinMaxScaler\n",
    "# Features Selection\n",
    "from sklearn.feature_selection import SelectKBest\n",
    "from sklearn.feature_selection import chi2, mutual_info_classif\n",
    "# Classificators\n",
    "from sklearn.model_selection import train_test_split\n",
    "from sklearn.ensemble import ExtraTreesClassifier\n",
    "from sklearn.linear_model import LogisticRegression\n",
    "from sklearn.metrics import accuracy_score\n",
    "from sklearn.tree import DecisionTreeClassifier\n",
    "from sklearn import tree\n",
    "# warnings deactivate\n",
    "import warnings\n",
    "warnings.filterwarnings('ignore')"
   ]
  },
  {
   "cell_type": "markdown",
   "metadata": {
    "id": "evtbog-C13Z2"
   },
   "source": [
    "Далі вказуємо значення параметру `precision` рівне 2 для відображення двох знаків після коми (замість 6 за замовчуванням)."
   ]
  },
  {
   "cell_type": "code",
   "execution_count": 3,
   "metadata": {
    "id": "nwMoaJLV13Z3"
   },
   "outputs": [],
   "source": [
    "pd.set_option(\"precision\", 2)\n",
    "pd.options.display.float_format = '{:.2f}'.format"
   ]
  },
  {
   "cell_type": "markdown",
   "metadata": {
    "id": "SbmrZguMTThd"
   },
   "source": [
    "## Завантаження даних"
   ]
  },
  {
   "cell_type": "markdown",
   "metadata": {
    "id": "EvMGO3m4TThd"
   },
   "source": [
    "Завантажуємо дані."
   ]
  },
  {
   "cell_type": "code",
   "execution_count": 4,
   "metadata": {
    "id": "wamAf3HLm_FS"
   },
   "outputs": [
    {
     "data": {
      "text/plain": "   age        job  marital    education  default housing loan    contact  \\\n0   56  housemaid  married     basic.4y       no      no   no  telephone   \n1   57   services  married  high.school  unknown      no   no  telephone   \n2   37   services  married  high.school       no     yes   no  telephone   \n3   40     admin.  married     basic.6y       no      no   no  telephone   \n4   56   services  married  high.school       no      no  yes  telephone   \n\n  month day_of_week  ...  campaign  pdays  previous     poutcome emp.var.rate  \\\n0   may         mon  ...         1    999         0  nonexistent         1.10   \n1   may         mon  ...         1    999         0  nonexistent         1.10   \n2   may         mon  ...         1    999         0  nonexistent         1.10   \n3   may         mon  ...         1    999         0  nonexistent         1.10   \n4   may         mon  ...         1    999         0  nonexistent         1.10   \n\n   cons.price.idx  cons.conf.idx  euribor3m  nr.employed   y  \n0           93.99         -36.40       4.86      5191.00  no  \n1           93.99         -36.40       4.86      5191.00  no  \n2           93.99         -36.40       4.86      5191.00  no  \n3           93.99         -36.40       4.86      5191.00  no  \n4           93.99         -36.40       4.86      5191.00  no  \n\n[5 rows x 21 columns]",
      "text/html": "<div>\n<style scoped>\n    .dataframe tbody tr th:only-of-type {\n        vertical-align: middle;\n    }\n\n    .dataframe tbody tr th {\n        vertical-align: top;\n    }\n\n    .dataframe thead th {\n        text-align: right;\n    }\n</style>\n<table border=\"1\" class=\"dataframe\">\n  <thead>\n    <tr style=\"text-align: right;\">\n      <th></th>\n      <th>age</th>\n      <th>job</th>\n      <th>marital</th>\n      <th>education</th>\n      <th>default</th>\n      <th>housing</th>\n      <th>loan</th>\n      <th>contact</th>\n      <th>month</th>\n      <th>day_of_week</th>\n      <th>...</th>\n      <th>campaign</th>\n      <th>pdays</th>\n      <th>previous</th>\n      <th>poutcome</th>\n      <th>emp.var.rate</th>\n      <th>cons.price.idx</th>\n      <th>cons.conf.idx</th>\n      <th>euribor3m</th>\n      <th>nr.employed</th>\n      <th>y</th>\n    </tr>\n  </thead>\n  <tbody>\n    <tr>\n      <th>0</th>\n      <td>56</td>\n      <td>housemaid</td>\n      <td>married</td>\n      <td>basic.4y</td>\n      <td>no</td>\n      <td>no</td>\n      <td>no</td>\n      <td>telephone</td>\n      <td>may</td>\n      <td>mon</td>\n      <td>...</td>\n      <td>1</td>\n      <td>999</td>\n      <td>0</td>\n      <td>nonexistent</td>\n      <td>1.10</td>\n      <td>93.99</td>\n      <td>-36.40</td>\n      <td>4.86</td>\n      <td>5191.00</td>\n      <td>no</td>\n    </tr>\n    <tr>\n      <th>1</th>\n      <td>57</td>\n      <td>services</td>\n      <td>married</td>\n      <td>high.school</td>\n      <td>unknown</td>\n      <td>no</td>\n      <td>no</td>\n      <td>telephone</td>\n      <td>may</td>\n      <td>mon</td>\n      <td>...</td>\n      <td>1</td>\n      <td>999</td>\n      <td>0</td>\n      <td>nonexistent</td>\n      <td>1.10</td>\n      <td>93.99</td>\n      <td>-36.40</td>\n      <td>4.86</td>\n      <td>5191.00</td>\n      <td>no</td>\n    </tr>\n    <tr>\n      <th>2</th>\n      <td>37</td>\n      <td>services</td>\n      <td>married</td>\n      <td>high.school</td>\n      <td>no</td>\n      <td>yes</td>\n      <td>no</td>\n      <td>telephone</td>\n      <td>may</td>\n      <td>mon</td>\n      <td>...</td>\n      <td>1</td>\n      <td>999</td>\n      <td>0</td>\n      <td>nonexistent</td>\n      <td>1.10</td>\n      <td>93.99</td>\n      <td>-36.40</td>\n      <td>4.86</td>\n      <td>5191.00</td>\n      <td>no</td>\n    </tr>\n    <tr>\n      <th>3</th>\n      <td>40</td>\n      <td>admin.</td>\n      <td>married</td>\n      <td>basic.6y</td>\n      <td>no</td>\n      <td>no</td>\n      <td>no</td>\n      <td>telephone</td>\n      <td>may</td>\n      <td>mon</td>\n      <td>...</td>\n      <td>1</td>\n      <td>999</td>\n      <td>0</td>\n      <td>nonexistent</td>\n      <td>1.10</td>\n      <td>93.99</td>\n      <td>-36.40</td>\n      <td>4.86</td>\n      <td>5191.00</td>\n      <td>no</td>\n    </tr>\n    <tr>\n      <th>4</th>\n      <td>56</td>\n      <td>services</td>\n      <td>married</td>\n      <td>high.school</td>\n      <td>no</td>\n      <td>no</td>\n      <td>yes</td>\n      <td>telephone</td>\n      <td>may</td>\n      <td>mon</td>\n      <td>...</td>\n      <td>1</td>\n      <td>999</td>\n      <td>0</td>\n      <td>nonexistent</td>\n      <td>1.10</td>\n      <td>93.99</td>\n      <td>-36.40</td>\n      <td>4.86</td>\n      <td>5191.00</td>\n      <td>no</td>\n    </tr>\n  </tbody>\n</table>\n<p>5 rows × 21 columns</p>\n</div>"
     },
     "execution_count": 4,
     "metadata": {},
     "output_type": "execute_result"
    }
   ],
   "source": [
    "df = pd.read_csv('bank-additional/bank-additional-full.csv', sep = ';')\n",
    "df.head(5)"
   ]
  },
  {
   "cell_type": "code",
   "execution_count": 5,
   "metadata": {},
   "outputs": [
    {
     "data": {
      "text/plain": "(41188, 21)"
     },
     "execution_count": 5,
     "metadata": {},
     "output_type": "execute_result"
    }
   ],
   "source": [
    "df.shape"
   ]
  },
  {
   "cell_type": "markdown",
   "metadata": {},
   "source": [
    "Як можна побачити, набір даних складається з 21 стовпця. Останній стовпець є цільовим. Також набір даних складається з 41188 рядків."
   ]
  },
  {
   "cell_type": "markdown",
   "metadata": {
    "id": "0SDpd1dxKeq4"
   },
   "source": [
    "<details>\n",
    "<summary><b>Натисніть, щоб переглянути інформацію про атрибут</b></summary>\n",
    "Вхідні поля (назви стовпців - пояснення (тип даних та допустимі значення)):\n",
    "\n",
    "1. `age` - вік клієнта в роках (numeric)\n",
    "2. `job` - тип професії (categorical: `admin.`, `blue-collar`, `entrepreneur`, `housemaid`, `management`, `retired`, `self-employed`, `services`, `student`, `technician`, `unemployed`, `unknown`)\n",
    "3. `marital` - сімейний стан (categorical: `divorced`, `married`, `single`, `unknown`)\n",
    "4. `education` - освіта клієнта (categorical: `basic.4y`, `basic.6y`, `basic.9y`, `high.school`, `illiterate`, `professional.course`, `university.degree`, `unknown`)\n",
    "5. `default` - чи є кредит? (categorical: `no`, `yes`, `unknown`)\n",
    "6. `housing` - чи є кредит на житло? (categorical: `no`, `yes`, `unknown`)\n",
    "7. `loan` - чи має особистий кредит? (categorical: `no`, `yes`, `unknown`)\n",
    "8. `contact` - тип комунікації (categorical: `cellular`, `telephone`)\n",
    "9. `month` - останній місяць зв'язку в році (categorical: `jan`, `feb`, `mar`, ..., `nov`, `dec`)\n",
    "10. `day_of_week` - останній день зв'язку в тижні (categorical: `mon`, `tue`, `wed`, `thu`, `fri`)\n",
    "11. `duration` - тривалість останнього контакту, в секундах (numeric).\n",
    "12. `campaign` - кількість контактів, здійснених для цього клієнта під час цієї кампанії (numeric, includes last contact)\n",
    "13. `pdays` - кількість днів, що минули після останнього звернення до клієнта з попередньої кампанії  (numeric; 999 means the client has not been previously contacted)\n",
    "14. `previous` - кількість контактів, здійснених для цього клієнта до початку кампанії  (numeric)\n",
    "15. `poutcome` - результат попередньої маркетингової кампанії (categorical: `failure`, `nonexistent`, `success`)\n",
    "16. `emp.var.rate` - коефіцієнт зміни зайнятості, квартальний показник  (numeric)\n",
    "17. `cons.price.idx` - індекс споживчих цін, місячний показник (numeric)\n",
    "18. `cons.conf.idx` - індекс споживчої довіри, місячний показник (numeric)\n",
    "19. `euribor3m` - euribor на 3 місяці, денний показник (numeric)\n",
    "20. `nr.employed` - кількість працівників, квартальний показник (numeric)\n",
    "\n",
    "Вихідне поле (бажана мета):\n",
    "\n",
    "21. `y` - чи підпише клієнт угоду строкового депозиту? (binary: `yes`,`no`)\n",
    "</details>"
   ]
  },
  {
   "cell_type": "markdown",
   "metadata": {},
   "source": [
    "Наша мета - створити класифікаційну модель, яка може передбачити, чи буде клієнт підписувати строковий депозит чи ні? Для цього проаналізуємо та підготуємо дані згідно типу моделі."
   ]
  },
  {
   "cell_type": "markdown",
   "metadata": {},
   "source": [
    "## Підготовка даних"
   ]
  },
  {
   "cell_type": "markdown",
   "metadata": {
    "id": "KVOmrfNH3pRs"
   },
   "source": [
    "### Перетворення даних"
   ]
  },
  {
   "cell_type": "markdown",
   "metadata": {},
   "source": [
    "Перш за все, дослідимо, як pandas розпізнає типи особливостей (вхідних полів)."
   ]
  },
  {
   "cell_type": "code",
   "execution_count": 6,
   "metadata": {},
   "outputs": [
    {
     "name": "stdout",
     "output_type": "stream",
     "text": [
      "<class 'pandas.core.frame.DataFrame'>\n",
      "RangeIndex: 41188 entries, 0 to 41187\n",
      "Data columns (total 21 columns):\n",
      " #   Column          Non-Null Count  Dtype  \n",
      "---  ------          --------------  -----  \n",
      " 0   age             41188 non-null  int64  \n",
      " 1   job             41188 non-null  object \n",
      " 2   marital         41188 non-null  object \n",
      " 3   education       41188 non-null  object \n",
      " 4   default         41188 non-null  object \n",
      " 5   housing         41188 non-null  object \n",
      " 6   loan            41188 non-null  object \n",
      " 7   contact         41188 non-null  object \n",
      " 8   month           41188 non-null  object \n",
      " 9   day_of_week     41188 non-null  object \n",
      " 10  duration        41188 non-null  int64  \n",
      " 11  campaign        41188 non-null  int64  \n",
      " 12  pdays           41188 non-null  int64  \n",
      " 13  previous        41188 non-null  int64  \n",
      " 14  poutcome        41188 non-null  object \n",
      " 15  emp.var.rate    41188 non-null  float64\n",
      " 16  cons.price.idx  41188 non-null  float64\n",
      " 17  cons.conf.idx   41188 non-null  float64\n",
      " 18  euribor3m       41188 non-null  float64\n",
      " 19  nr.employed     41188 non-null  float64\n",
      " 20  y               41188 non-null  object \n",
      "dtypes: float64(5), int64(5), object(11)\n",
      "memory usage: 6.6+ MB\n"
     ]
    }
   ],
   "source": [
    "df.info()"
   ]
  },
  {
   "cell_type": "markdown",
   "metadata": {},
   "source": [
    "Як можна побачити, усі категорійні ознаки розпізналися як об’єкти. Ми повинні змінити їх тип на \"categorical\"(категорійні)."
   ]
  },
  {
   "cell_type": "code",
   "execution_count": 7,
   "metadata": {
    "id": "3uuAnHe3nvCh"
   },
   "outputs": [
    {
     "data": {
      "text/plain": "['job',\n 'marital',\n 'education',\n 'default',\n 'housing',\n 'loan',\n 'contact',\n 'month',\n 'day_of_week',\n 'poutcome',\n 'y']"
     },
     "execution_count": 7,
     "metadata": {},
     "output_type": "execute_result"
    }
   ],
   "source": [
    "col_cat = list(df.select_dtypes(include=['object']).columns)\n",
    "col_cat"
   ]
  },
  {
   "cell_type": "markdown",
   "metadata": {
    "id": "XB5od6PProOS"
   },
   "source": [
    "Розглянемо розмір набору даних."
   ]
  },
  {
   "cell_type": "code",
   "execution_count": 8,
   "metadata": {},
   "outputs": [
    {
     "name": "stdout",
     "output_type": "stream",
     "text": [
      "<class 'pandas.core.frame.DataFrame'>\n",
      "RangeIndex: 41188 entries, 0 to 41187\n",
      "Data columns (total 21 columns):\n",
      " #   Column          Non-Null Count  Dtype   \n",
      "---  ------          --------------  -----   \n",
      " 0   age             41188 non-null  int64   \n",
      " 1   job             41188 non-null  category\n",
      " 2   marital         41188 non-null  category\n",
      " 3   education       41188 non-null  category\n",
      " 4   default         41188 non-null  category\n",
      " 5   housing         41188 non-null  category\n",
      " 6   loan            41188 non-null  category\n",
      " 7   contact         41188 non-null  category\n",
      " 8   month           41188 non-null  category\n",
      " 9   day_of_week     41188 non-null  category\n",
      " 10  duration        41188 non-null  int64   \n",
      " 11  campaign        41188 non-null  int64   \n",
      " 12  pdays           41188 non-null  int64   \n",
      " 13  previous        41188 non-null  int64   \n",
      " 14  poutcome        41188 non-null  category\n",
      " 15  emp.var.rate    41188 non-null  float64 \n",
      " 16  cons.price.idx  41188 non-null  float64 \n",
      " 17  cons.conf.idx   41188 non-null  float64 \n",
      " 18  euribor3m       41188 non-null  float64 \n",
      " 19  nr.employed     41188 non-null  float64 \n",
      " 20  y               41188 non-null  category\n",
      "dtypes: category(11), float64(5), int64(5)\n",
      "memory usage: 3.6 MB\n"
     ]
    }
   ],
   "source": [
    "df.loc[:, col_cat] = df[col_cat].astype('category')\n",
    "df.info()"
   ]
  },
  {
   "cell_type": "markdown",
   "metadata": {},
   "source": [
    "Щоб побачити всі унікальні значення окремого вхідного поля (стовпця), скористаємося"
   ]
  },
  {
   "cell_type": "code",
   "execution_count": 9,
   "metadata": {},
   "outputs": [
    {
     "data": {
      "text/plain": "['housemaid', 'services', 'admin.', 'blue-collar', 'technician', ..., 'unemployed', 'self-employed', 'unknown', 'entrepreneur', 'student']\nLength: 12\nCategories (12, object): ['admin.', 'blue-collar', 'entrepreneur', 'housemaid', ..., 'student', 'technician', 'unemployed', 'unknown']"
     },
     "execution_count": 9,
     "metadata": {},
     "output_type": "execute_result"
    }
   ],
   "source": [
    "df['job'].unique()"
   ]
  },
  {
   "cell_type": "markdown",
   "metadata": {
    "id": "g7DlvW_ArsaJ"
   },
   "source": [
    "Як було зазначено раніше, набір даних містить 41188 об’єктів (рядків), для кожного з яких встановлено 20 вхідних полів (стовпці) та 1 цільове (y). 11 вхідних полів, включаючи цільове, є категорійним типом. Значення такого типу даних не можна використовувати для класифікації. Ми повинні перетворити їх на int або float.\n",
    "Для цього ми будемо використовувати **[LabelEncoder](https://scikit-learn.org/stable/modules/generated/sklearn.preprocessing.LabelEncoder.html)** та **[OrdinalEncoder](https://scikit-learn.org/stable/modules/generated/sklearn.preprocessing.OrdinalEncoder.html)**. Ці функції можуть кодувати категорійні ознаки як цілочисельний масив.\n",
    "\n",
    "Спершу розділимо Набір Даних на вхідний та вихідний Набори Даних"
   ]
  },
  {
   "cell_type": "code",
   "execution_count": 10,
   "metadata": {},
   "outputs": [],
   "source": [
    "X = df.iloc[:,:-1]  #input columns\n",
    "y = df.iloc[:,-1]    #target column"
   ]
  },
  {
   "cell_type": "markdown",
   "metadata": {},
   "source": [
    "### Кодування та нормалізація"
   ]
  },
  {
   "cell_type": "markdown",
   "metadata": {},
   "source": [
    "Далі створюємо список категорійних полів і перетворюємо їх значення на цілочисельні масиви: (Замініть ##YOUR CODE GOES HERE## вашим кодом Python)."
   ]
  },
  {
   "cell_type": "code",
   "execution_count": 11,
   "metadata": {},
   "outputs": [],
   "source": [
    "col_cat =  ['job', 'marital', 'education', 'default', 'housing', 'loan',\n",
    "       'contact', 'month', 'day_of_week', 'poutcome']\n",
    "oe = OrdinalEncoder()\n",
    "oe.fit(X[col_cat])\n",
    "X_cat_enc = oe.transform(X[col_cat])"
   ]
  },
  {
   "cell_type": "markdown",
   "metadata": {},
   "source": [
    "<details><summary>Натисніть <b>тут,</b> щоб отримати розв'язок</summary>\n",
    "<code>\n",
    "col_cat = ['job', 'marital', 'education', 'default', 'housing', 'loan',\n",
    "       'contact', 'month', 'day_of_week', 'poutcome']\n",
    "Or\n",
    "\n",
    "col_cat = list(df.select_dtypes(include=['category']).columns)\n",
    "\n",
    "    </code>\n",
    "</details>"
   ]
  },
  {
   "cell_type": "code",
   "execution_count": 12,
   "metadata": {},
   "outputs": [
    {
     "data": {
      "text/plain": "array([[3., 1., 0., ..., 6., 1., 1.],\n       [7., 1., 3., ..., 6., 1., 1.],\n       [7., 1., 3., ..., 6., 1., 1.],\n       ...,\n       [5., 1., 6., ..., 7., 0., 1.],\n       [9., 1., 5., ..., 7., 0., 1.],\n       [5., 1., 5., ..., 7., 0., 0.]])"
     },
     "execution_count": 12,
     "metadata": {},
     "output_type": "execute_result"
    }
   ],
   "source": [
    "X_cat_enc"
   ]
  },
  {
   "cell_type": "markdown",
   "metadata": {},
   "source": [
    "Далі ми повинні перетворити масиви знову в DataFrame:"
   ]
  },
  {
   "cell_type": "code",
   "execution_count": 13,
   "metadata": {},
   "outputs": [
    {
     "data": {
      "text/plain": "       job  marital  education  default  housing  loan  contact  month  \\\n0     3.00     1.00       0.00     0.00     0.00  0.00     1.00   6.00   \n1     7.00     1.00       3.00     1.00     0.00  0.00     1.00   6.00   \n2     7.00     1.00       3.00     0.00     2.00  0.00     1.00   6.00   \n3     0.00     1.00       1.00     0.00     0.00  0.00     1.00   6.00   \n4     7.00     1.00       3.00     0.00     0.00  2.00     1.00   6.00   \n...    ...      ...        ...      ...      ...   ...      ...    ...   \n41183 5.00     1.00       5.00     0.00     2.00  0.00     0.00   7.00   \n41184 1.00     1.00       5.00     0.00     0.00  0.00     0.00   7.00   \n41185 5.00     1.00       6.00     0.00     2.00  0.00     0.00   7.00   \n41186 9.00     1.00       5.00     0.00     0.00  0.00     0.00   7.00   \n41187 5.00     1.00       5.00     0.00     2.00  0.00     0.00   7.00   \n\n       day_of_week  poutcome  \n0             1.00      1.00  \n1             1.00      1.00  \n2             1.00      1.00  \n3             1.00      1.00  \n4             1.00      1.00  \n...            ...       ...  \n41183         0.00      1.00  \n41184         0.00      1.00  \n41185         0.00      1.00  \n41186         0.00      1.00  \n41187         0.00      0.00  \n\n[41188 rows x 10 columns]",
      "text/html": "<div>\n<style scoped>\n    .dataframe tbody tr th:only-of-type {\n        vertical-align: middle;\n    }\n\n    .dataframe tbody tr th {\n        vertical-align: top;\n    }\n\n    .dataframe thead th {\n        text-align: right;\n    }\n</style>\n<table border=\"1\" class=\"dataframe\">\n  <thead>\n    <tr style=\"text-align: right;\">\n      <th></th>\n      <th>job</th>\n      <th>marital</th>\n      <th>education</th>\n      <th>default</th>\n      <th>housing</th>\n      <th>loan</th>\n      <th>contact</th>\n      <th>month</th>\n      <th>day_of_week</th>\n      <th>poutcome</th>\n    </tr>\n  </thead>\n  <tbody>\n    <tr>\n      <th>0</th>\n      <td>3.00</td>\n      <td>1.00</td>\n      <td>0.00</td>\n      <td>0.00</td>\n      <td>0.00</td>\n      <td>0.00</td>\n      <td>1.00</td>\n      <td>6.00</td>\n      <td>1.00</td>\n      <td>1.00</td>\n    </tr>\n    <tr>\n      <th>1</th>\n      <td>7.00</td>\n      <td>1.00</td>\n      <td>3.00</td>\n      <td>1.00</td>\n      <td>0.00</td>\n      <td>0.00</td>\n      <td>1.00</td>\n      <td>6.00</td>\n      <td>1.00</td>\n      <td>1.00</td>\n    </tr>\n    <tr>\n      <th>2</th>\n      <td>7.00</td>\n      <td>1.00</td>\n      <td>3.00</td>\n      <td>0.00</td>\n      <td>2.00</td>\n      <td>0.00</td>\n      <td>1.00</td>\n      <td>6.00</td>\n      <td>1.00</td>\n      <td>1.00</td>\n    </tr>\n    <tr>\n      <th>3</th>\n      <td>0.00</td>\n      <td>1.00</td>\n      <td>1.00</td>\n      <td>0.00</td>\n      <td>0.00</td>\n      <td>0.00</td>\n      <td>1.00</td>\n      <td>6.00</td>\n      <td>1.00</td>\n      <td>1.00</td>\n    </tr>\n    <tr>\n      <th>4</th>\n      <td>7.00</td>\n      <td>1.00</td>\n      <td>3.00</td>\n      <td>0.00</td>\n      <td>0.00</td>\n      <td>2.00</td>\n      <td>1.00</td>\n      <td>6.00</td>\n      <td>1.00</td>\n      <td>1.00</td>\n    </tr>\n    <tr>\n      <th>...</th>\n      <td>...</td>\n      <td>...</td>\n      <td>...</td>\n      <td>...</td>\n      <td>...</td>\n      <td>...</td>\n      <td>...</td>\n      <td>...</td>\n      <td>...</td>\n      <td>...</td>\n    </tr>\n    <tr>\n      <th>41183</th>\n      <td>5.00</td>\n      <td>1.00</td>\n      <td>5.00</td>\n      <td>0.00</td>\n      <td>2.00</td>\n      <td>0.00</td>\n      <td>0.00</td>\n      <td>7.00</td>\n      <td>0.00</td>\n      <td>1.00</td>\n    </tr>\n    <tr>\n      <th>41184</th>\n      <td>1.00</td>\n      <td>1.00</td>\n      <td>5.00</td>\n      <td>0.00</td>\n      <td>0.00</td>\n      <td>0.00</td>\n      <td>0.00</td>\n      <td>7.00</td>\n      <td>0.00</td>\n      <td>1.00</td>\n    </tr>\n    <tr>\n      <th>41185</th>\n      <td>5.00</td>\n      <td>1.00</td>\n      <td>6.00</td>\n      <td>0.00</td>\n      <td>2.00</td>\n      <td>0.00</td>\n      <td>0.00</td>\n      <td>7.00</td>\n      <td>0.00</td>\n      <td>1.00</td>\n    </tr>\n    <tr>\n      <th>41186</th>\n      <td>9.00</td>\n      <td>1.00</td>\n      <td>5.00</td>\n      <td>0.00</td>\n      <td>0.00</td>\n      <td>0.00</td>\n      <td>0.00</td>\n      <td>7.00</td>\n      <td>0.00</td>\n      <td>1.00</td>\n    </tr>\n    <tr>\n      <th>41187</th>\n      <td>5.00</td>\n      <td>1.00</td>\n      <td>5.00</td>\n      <td>0.00</td>\n      <td>2.00</td>\n      <td>0.00</td>\n      <td>0.00</td>\n      <td>7.00</td>\n      <td>0.00</td>\n      <td>0.00</td>\n    </tr>\n  </tbody>\n</table>\n<p>41188 rows × 10 columns</p>\n</div>"
     },
     "execution_count": 13,
     "metadata": {},
     "output_type": "execute_result"
    }
   ],
   "source": [
    "X_cat_enc = pd.DataFrame(X_cat_enc)\n",
    "X_cat_enc.columns = col_cat\n",
    "X_cat_enc"
   ]
  },
  {
   "cell_type": "markdown",
   "metadata": {},
   "source": [
    "Числові поля можуть мати різний порядок і також містити від’ємні значення. Це призведе до помилок заокруглення та появи вийнятків у деяких методах ШІ. Щоб цього уникнути, необхідно нормалізувати вхідні поля.\n",
    "\n",
    "Створимо список числових полів і нормалізуємо його за допомогою  **[MinMaxScaler](https://scikit-learn.org/stable/modules/generated/sklearn.preprocessing.MinMaxScaler.html)**"
   ]
  },
  {
   "cell_type": "code",
   "execution_count": 14,
   "metadata": {},
   "outputs": [],
   "source": [
    "col_num = ['age', 'duration', 'campaign', 'pdays',\n",
    "       'previous', 'emp.var.rate', 'cons.price.idx',\n",
    "       'cons.conf.idx', 'euribor3m', 'nr.employed']\n",
    "\n",
    "scaler = MinMaxScaler(feature_range=(0, 1))\n",
    "X_num_enc = scaler.fit_transform(X[col_num])"
   ]
  },
  {
   "cell_type": "markdown",
   "metadata": {},
   "source": [
    "<details><summary>Натисніть <b>тут,</b> щоб отримати розв'язок</summary>\n",
    "<code>\n",
    "col_num = ['age', 'duration', 'campaign', 'pdays',\n",
    "       'previous', 'emp.var.rate', 'cons.price.idx',\n",
    "       'cons.conf.idx', 'euribor3m', 'nr.employed']\n",
    "    </code>\n",
    "</details>"
   ]
  },
  {
   "cell_type": "code",
   "execution_count": 15,
   "metadata": {},
   "outputs": [
    {
     "data": {
      "text/plain": "array([[0.48148148, 0.05307035, 0.        , ..., 0.60251046, 0.95737928,\n        0.85973535],\n       [0.49382716, 0.03029687, 0.        , ..., 0.60251046, 0.95737928,\n        0.85973535],\n       [0.24691358, 0.04595364, 0.        , ..., 0.60251046, 0.95737928,\n        0.85973535],\n       ...,\n       [0.48148148, 0.03843026, 0.01818182, ..., 0.        , 0.08932215,\n        0.        ],\n       [0.33333333, 0.08987393, 0.        , ..., 0.        , 0.08932215,\n        0.        ],\n       [0.7037037 , 0.04859699, 0.03636364, ..., 0.        , 0.08932215,\n        0.        ]])"
     },
     "execution_count": 15,
     "metadata": {},
     "output_type": "execute_result"
    }
   ],
   "source": [
    "X_num_enc"
   ]
  },
  {
   "cell_type": "markdown",
   "metadata": {},
   "source": [
    "Як і в попередньому випадку, перетворимо отримані масиви знову на DataFrame"
   ]
  },
  {
   "cell_type": "code",
   "execution_count": 16,
   "metadata": {},
   "outputs": [
    {
     "data": {
      "text/plain": "       age  duration  campaign  pdays  previous  emp.var.rate  cons.price.idx  \\\n0     0.48      0.05      0.00   1.00      0.00          0.94            0.70   \n1     0.49      0.03      0.00   1.00      0.00          0.94            0.70   \n2     0.25      0.05      0.00   1.00      0.00          0.94            0.70   \n3     0.28      0.03      0.00   1.00      0.00          0.94            0.70   \n4     0.48      0.06      0.00   1.00      0.00          0.94            0.70   \n...    ...       ...       ...    ...       ...           ...             ...   \n41183 0.69      0.07      0.00   1.00      0.00          0.48            1.00   \n41184 0.36      0.08      0.00   1.00      0.00          0.48            1.00   \n41185 0.48      0.04      0.02   1.00      0.00          0.48            1.00   \n41186 0.33      0.09      0.00   1.00      0.00          0.48            1.00   \n41187 0.70      0.05      0.04   1.00      0.14          0.48            1.00   \n\n       cons.conf.idx  euribor3m  nr.employed  \n0               0.60       0.96         0.86  \n1               0.60       0.96         0.86  \n2               0.60       0.96         0.86  \n3               0.60       0.96         0.86  \n4               0.60       0.96         0.86  \n...              ...        ...          ...  \n41183           0.00       0.09         0.00  \n41184           0.00       0.09         0.00  \n41185           0.00       0.09         0.00  \n41186           0.00       0.09         0.00  \n41187           0.00       0.09         0.00  \n\n[41188 rows x 10 columns]",
      "text/html": "<div>\n<style scoped>\n    .dataframe tbody tr th:only-of-type {\n        vertical-align: middle;\n    }\n\n    .dataframe tbody tr th {\n        vertical-align: top;\n    }\n\n    .dataframe thead th {\n        text-align: right;\n    }\n</style>\n<table border=\"1\" class=\"dataframe\">\n  <thead>\n    <tr style=\"text-align: right;\">\n      <th></th>\n      <th>age</th>\n      <th>duration</th>\n      <th>campaign</th>\n      <th>pdays</th>\n      <th>previous</th>\n      <th>emp.var.rate</th>\n      <th>cons.price.idx</th>\n      <th>cons.conf.idx</th>\n      <th>euribor3m</th>\n      <th>nr.employed</th>\n    </tr>\n  </thead>\n  <tbody>\n    <tr>\n      <th>0</th>\n      <td>0.48</td>\n      <td>0.05</td>\n      <td>0.00</td>\n      <td>1.00</td>\n      <td>0.00</td>\n      <td>0.94</td>\n      <td>0.70</td>\n      <td>0.60</td>\n      <td>0.96</td>\n      <td>0.86</td>\n    </tr>\n    <tr>\n      <th>1</th>\n      <td>0.49</td>\n      <td>0.03</td>\n      <td>0.00</td>\n      <td>1.00</td>\n      <td>0.00</td>\n      <td>0.94</td>\n      <td>0.70</td>\n      <td>0.60</td>\n      <td>0.96</td>\n      <td>0.86</td>\n    </tr>\n    <tr>\n      <th>2</th>\n      <td>0.25</td>\n      <td>0.05</td>\n      <td>0.00</td>\n      <td>1.00</td>\n      <td>0.00</td>\n      <td>0.94</td>\n      <td>0.70</td>\n      <td>0.60</td>\n      <td>0.96</td>\n      <td>0.86</td>\n    </tr>\n    <tr>\n      <th>3</th>\n      <td>0.28</td>\n      <td>0.03</td>\n      <td>0.00</td>\n      <td>1.00</td>\n      <td>0.00</td>\n      <td>0.94</td>\n      <td>0.70</td>\n      <td>0.60</td>\n      <td>0.96</td>\n      <td>0.86</td>\n    </tr>\n    <tr>\n      <th>4</th>\n      <td>0.48</td>\n      <td>0.06</td>\n      <td>0.00</td>\n      <td>1.00</td>\n      <td>0.00</td>\n      <td>0.94</td>\n      <td>0.70</td>\n      <td>0.60</td>\n      <td>0.96</td>\n      <td>0.86</td>\n    </tr>\n    <tr>\n      <th>...</th>\n      <td>...</td>\n      <td>...</td>\n      <td>...</td>\n      <td>...</td>\n      <td>...</td>\n      <td>...</td>\n      <td>...</td>\n      <td>...</td>\n      <td>...</td>\n      <td>...</td>\n    </tr>\n    <tr>\n      <th>41183</th>\n      <td>0.69</td>\n      <td>0.07</td>\n      <td>0.00</td>\n      <td>1.00</td>\n      <td>0.00</td>\n      <td>0.48</td>\n      <td>1.00</td>\n      <td>0.00</td>\n      <td>0.09</td>\n      <td>0.00</td>\n    </tr>\n    <tr>\n      <th>41184</th>\n      <td>0.36</td>\n      <td>0.08</td>\n      <td>0.00</td>\n      <td>1.00</td>\n      <td>0.00</td>\n      <td>0.48</td>\n      <td>1.00</td>\n      <td>0.00</td>\n      <td>0.09</td>\n      <td>0.00</td>\n    </tr>\n    <tr>\n      <th>41185</th>\n      <td>0.48</td>\n      <td>0.04</td>\n      <td>0.02</td>\n      <td>1.00</td>\n      <td>0.00</td>\n      <td>0.48</td>\n      <td>1.00</td>\n      <td>0.00</td>\n      <td>0.09</td>\n      <td>0.00</td>\n    </tr>\n    <tr>\n      <th>41186</th>\n      <td>0.33</td>\n      <td>0.09</td>\n      <td>0.00</td>\n      <td>1.00</td>\n      <td>0.00</td>\n      <td>0.48</td>\n      <td>1.00</td>\n      <td>0.00</td>\n      <td>0.09</td>\n      <td>0.00</td>\n    </tr>\n    <tr>\n      <th>41187</th>\n      <td>0.70</td>\n      <td>0.05</td>\n      <td>0.04</td>\n      <td>1.00</td>\n      <td>0.14</td>\n      <td>0.48</td>\n      <td>1.00</td>\n      <td>0.00</td>\n      <td>0.09</td>\n      <td>0.00</td>\n    </tr>\n  </tbody>\n</table>\n<p>41188 rows × 10 columns</p>\n</div>"
     },
     "execution_count": 16,
     "metadata": {},
     "output_type": "execute_result"
    }
   ],
   "source": [
    "X_num_enc = pd.DataFrame(X_num_enc)\n",
    "X_num_enc.columns = col_num\n",
    "X_num_enc"
   ]
  },
  {
   "cell_type": "markdown",
   "metadata": {},
   "source": [
    "Далі об'єднаємо DataFrame-и в однин вхідний DataFrame"
   ]
  },
  {
   "cell_type": "code",
   "execution_count": 17,
   "metadata": {},
   "outputs": [
    {
     "data": {
      "text/plain": "       job  marital  education  default  housing  loan  contact  month  \\\n0     3.00     1.00       0.00     0.00     0.00  0.00     1.00   6.00   \n1     7.00     1.00       3.00     1.00     0.00  0.00     1.00   6.00   \n2     7.00     1.00       3.00     0.00     2.00  0.00     1.00   6.00   \n3     0.00     1.00       1.00     0.00     0.00  0.00     1.00   6.00   \n4     7.00     1.00       3.00     0.00     0.00  2.00     1.00   6.00   \n...    ...      ...        ...      ...      ...   ...      ...    ...   \n41183 5.00     1.00       5.00     0.00     2.00  0.00     0.00   7.00   \n41184 1.00     1.00       5.00     0.00     0.00  0.00     0.00   7.00   \n41185 5.00     1.00       6.00     0.00     2.00  0.00     0.00   7.00   \n41186 9.00     1.00       5.00     0.00     0.00  0.00     0.00   7.00   \n41187 5.00     1.00       5.00     0.00     2.00  0.00     0.00   7.00   \n\n       day_of_week  poutcome  age  duration  campaign  pdays  previous  \\\n0             1.00      1.00 0.48      0.05      0.00   1.00      0.00   \n1             1.00      1.00 0.49      0.03      0.00   1.00      0.00   \n2             1.00      1.00 0.25      0.05      0.00   1.00      0.00   \n3             1.00      1.00 0.28      0.03      0.00   1.00      0.00   \n4             1.00      1.00 0.48      0.06      0.00   1.00      0.00   \n...            ...       ...  ...       ...       ...    ...       ...   \n41183         0.00      1.00 0.69      0.07      0.00   1.00      0.00   \n41184         0.00      1.00 0.36      0.08      0.00   1.00      0.00   \n41185         0.00      1.00 0.48      0.04      0.02   1.00      0.00   \n41186         0.00      1.00 0.33      0.09      0.00   1.00      0.00   \n41187         0.00      0.00 0.70      0.05      0.04   1.00      0.14   \n\n       emp.var.rate  cons.price.idx  cons.conf.idx  euribor3m  nr.employed  \n0              0.94            0.70           0.60       0.96         0.86  \n1              0.94            0.70           0.60       0.96         0.86  \n2              0.94            0.70           0.60       0.96         0.86  \n3              0.94            0.70           0.60       0.96         0.86  \n4              0.94            0.70           0.60       0.96         0.86  \n...             ...             ...            ...        ...          ...  \n41183          0.48            1.00           0.00       0.09         0.00  \n41184          0.48            1.00           0.00       0.09         0.00  \n41185          0.48            1.00           0.00       0.09         0.00  \n41186          0.48            1.00           0.00       0.09         0.00  \n41187          0.48            1.00           0.00       0.09         0.00  \n\n[41188 rows x 20 columns]",
      "text/html": "<div>\n<style scoped>\n    .dataframe tbody tr th:only-of-type {\n        vertical-align: middle;\n    }\n\n    .dataframe tbody tr th {\n        vertical-align: top;\n    }\n\n    .dataframe thead th {\n        text-align: right;\n    }\n</style>\n<table border=\"1\" class=\"dataframe\">\n  <thead>\n    <tr style=\"text-align: right;\">\n      <th></th>\n      <th>job</th>\n      <th>marital</th>\n      <th>education</th>\n      <th>default</th>\n      <th>housing</th>\n      <th>loan</th>\n      <th>contact</th>\n      <th>month</th>\n      <th>day_of_week</th>\n      <th>poutcome</th>\n      <th>age</th>\n      <th>duration</th>\n      <th>campaign</th>\n      <th>pdays</th>\n      <th>previous</th>\n      <th>emp.var.rate</th>\n      <th>cons.price.idx</th>\n      <th>cons.conf.idx</th>\n      <th>euribor3m</th>\n      <th>nr.employed</th>\n    </tr>\n  </thead>\n  <tbody>\n    <tr>\n      <th>0</th>\n      <td>3.00</td>\n      <td>1.00</td>\n      <td>0.00</td>\n      <td>0.00</td>\n      <td>0.00</td>\n      <td>0.00</td>\n      <td>1.00</td>\n      <td>6.00</td>\n      <td>1.00</td>\n      <td>1.00</td>\n      <td>0.48</td>\n      <td>0.05</td>\n      <td>0.00</td>\n      <td>1.00</td>\n      <td>0.00</td>\n      <td>0.94</td>\n      <td>0.70</td>\n      <td>0.60</td>\n      <td>0.96</td>\n      <td>0.86</td>\n    </tr>\n    <tr>\n      <th>1</th>\n      <td>7.00</td>\n      <td>1.00</td>\n      <td>3.00</td>\n      <td>1.00</td>\n      <td>0.00</td>\n      <td>0.00</td>\n      <td>1.00</td>\n      <td>6.00</td>\n      <td>1.00</td>\n      <td>1.00</td>\n      <td>0.49</td>\n      <td>0.03</td>\n      <td>0.00</td>\n      <td>1.00</td>\n      <td>0.00</td>\n      <td>0.94</td>\n      <td>0.70</td>\n      <td>0.60</td>\n      <td>0.96</td>\n      <td>0.86</td>\n    </tr>\n    <tr>\n      <th>2</th>\n      <td>7.00</td>\n      <td>1.00</td>\n      <td>3.00</td>\n      <td>0.00</td>\n      <td>2.00</td>\n      <td>0.00</td>\n      <td>1.00</td>\n      <td>6.00</td>\n      <td>1.00</td>\n      <td>1.00</td>\n      <td>0.25</td>\n      <td>0.05</td>\n      <td>0.00</td>\n      <td>1.00</td>\n      <td>0.00</td>\n      <td>0.94</td>\n      <td>0.70</td>\n      <td>0.60</td>\n      <td>0.96</td>\n      <td>0.86</td>\n    </tr>\n    <tr>\n      <th>3</th>\n      <td>0.00</td>\n      <td>1.00</td>\n      <td>1.00</td>\n      <td>0.00</td>\n      <td>0.00</td>\n      <td>0.00</td>\n      <td>1.00</td>\n      <td>6.00</td>\n      <td>1.00</td>\n      <td>1.00</td>\n      <td>0.28</td>\n      <td>0.03</td>\n      <td>0.00</td>\n      <td>1.00</td>\n      <td>0.00</td>\n      <td>0.94</td>\n      <td>0.70</td>\n      <td>0.60</td>\n      <td>0.96</td>\n      <td>0.86</td>\n    </tr>\n    <tr>\n      <th>4</th>\n      <td>7.00</td>\n      <td>1.00</td>\n      <td>3.00</td>\n      <td>0.00</td>\n      <td>0.00</td>\n      <td>2.00</td>\n      <td>1.00</td>\n      <td>6.00</td>\n      <td>1.00</td>\n      <td>1.00</td>\n      <td>0.48</td>\n      <td>0.06</td>\n      <td>0.00</td>\n      <td>1.00</td>\n      <td>0.00</td>\n      <td>0.94</td>\n      <td>0.70</td>\n      <td>0.60</td>\n      <td>0.96</td>\n      <td>0.86</td>\n    </tr>\n    <tr>\n      <th>...</th>\n      <td>...</td>\n      <td>...</td>\n      <td>...</td>\n      <td>...</td>\n      <td>...</td>\n      <td>...</td>\n      <td>...</td>\n      <td>...</td>\n      <td>...</td>\n      <td>...</td>\n      <td>...</td>\n      <td>...</td>\n      <td>...</td>\n      <td>...</td>\n      <td>...</td>\n      <td>...</td>\n      <td>...</td>\n      <td>...</td>\n      <td>...</td>\n      <td>...</td>\n    </tr>\n    <tr>\n      <th>41183</th>\n      <td>5.00</td>\n      <td>1.00</td>\n      <td>5.00</td>\n      <td>0.00</td>\n      <td>2.00</td>\n      <td>0.00</td>\n      <td>0.00</td>\n      <td>7.00</td>\n      <td>0.00</td>\n      <td>1.00</td>\n      <td>0.69</td>\n      <td>0.07</td>\n      <td>0.00</td>\n      <td>1.00</td>\n      <td>0.00</td>\n      <td>0.48</td>\n      <td>1.00</td>\n      <td>0.00</td>\n      <td>0.09</td>\n      <td>0.00</td>\n    </tr>\n    <tr>\n      <th>41184</th>\n      <td>1.00</td>\n      <td>1.00</td>\n      <td>5.00</td>\n      <td>0.00</td>\n      <td>0.00</td>\n      <td>0.00</td>\n      <td>0.00</td>\n      <td>7.00</td>\n      <td>0.00</td>\n      <td>1.00</td>\n      <td>0.36</td>\n      <td>0.08</td>\n      <td>0.00</td>\n      <td>1.00</td>\n      <td>0.00</td>\n      <td>0.48</td>\n      <td>1.00</td>\n      <td>0.00</td>\n      <td>0.09</td>\n      <td>0.00</td>\n    </tr>\n    <tr>\n      <th>41185</th>\n      <td>5.00</td>\n      <td>1.00</td>\n      <td>6.00</td>\n      <td>0.00</td>\n      <td>2.00</td>\n      <td>0.00</td>\n      <td>0.00</td>\n      <td>7.00</td>\n      <td>0.00</td>\n      <td>1.00</td>\n      <td>0.48</td>\n      <td>0.04</td>\n      <td>0.02</td>\n      <td>1.00</td>\n      <td>0.00</td>\n      <td>0.48</td>\n      <td>1.00</td>\n      <td>0.00</td>\n      <td>0.09</td>\n      <td>0.00</td>\n    </tr>\n    <tr>\n      <th>41186</th>\n      <td>9.00</td>\n      <td>1.00</td>\n      <td>5.00</td>\n      <td>0.00</td>\n      <td>0.00</td>\n      <td>0.00</td>\n      <td>0.00</td>\n      <td>7.00</td>\n      <td>0.00</td>\n      <td>1.00</td>\n      <td>0.33</td>\n      <td>0.09</td>\n      <td>0.00</td>\n      <td>1.00</td>\n      <td>0.00</td>\n      <td>0.48</td>\n      <td>1.00</td>\n      <td>0.00</td>\n      <td>0.09</td>\n      <td>0.00</td>\n    </tr>\n    <tr>\n      <th>41187</th>\n      <td>5.00</td>\n      <td>1.00</td>\n      <td>5.00</td>\n      <td>0.00</td>\n      <td>2.00</td>\n      <td>0.00</td>\n      <td>0.00</td>\n      <td>7.00</td>\n      <td>0.00</td>\n      <td>0.00</td>\n      <td>0.70</td>\n      <td>0.05</td>\n      <td>0.04</td>\n      <td>1.00</td>\n      <td>0.14</td>\n      <td>0.48</td>\n      <td>1.00</td>\n      <td>0.00</td>\n      <td>0.09</td>\n      <td>0.00</td>\n    </tr>\n  </tbody>\n</table>\n<p>41188 rows × 20 columns</p>\n</div>"
     },
     "execution_count": 17,
     "metadata": {},
     "output_type": "execute_result"
    }
   ],
   "source": [
    "x_enc = pd.concat([X_cat_enc, X_num_enc], axis=1)\n",
    "x_enc"
   ]
  },
  {
   "cell_type": "markdown",
   "metadata": {},
   "source": [
    "<details><summary>Натисніть <b>тут,</b> щоб отримати розв'язок</summary>\n",
    "<code>\n",
    "x_enc = pd.concat([X_cat_enc, X_num_enc], axis=1)\n",
    "    </code>\n",
    "</details>\n",
    "\n"
   ]
  },
  {
   "cell_type": "markdown",
   "metadata": {},
   "source": [
    "Таке ж перетворення ми повинні зробити для цільового поля."
   ]
  },
  {
   "cell_type": "code",
   "execution_count": 18,
   "metadata": {},
   "outputs": [],
   "source": [
    "le = LabelEncoder()\n",
    "le.fit(y)\n",
    "y_enc = le.transform(y)\n",
    "y_enc = pd.Series(y_enc)\n",
    "y_enc.columns = y.name"
   ]
  },
  {
   "cell_type": "code",
   "execution_count": 19,
   "metadata": {},
   "outputs": [
    {
     "data": {
      "text/plain": "0         no\n1         no\n2         no\n3         no\n4         no\n        ... \n41183    yes\n41184     no\n41185     no\n41186    yes\n41187     no\nName: y, Length: 41188, dtype: category\nCategories (2, object): ['no', 'yes']"
     },
     "execution_count": 19,
     "metadata": {},
     "output_type": "execute_result"
    }
   ],
   "source": [
    "y"
   ]
  },
  {
   "cell_type": "code",
   "execution_count": 20,
   "metadata": {},
   "outputs": [
    {
     "data": {
      "text/plain": "0        0\n1        0\n2        0\n3        0\n4        0\n        ..\n41183    1\n41184    0\n41185    0\n41186    1\n41187    0\nLength: 41188, dtype: int32"
     },
     "execution_count": 20,
     "metadata": {},
     "output_type": "execute_result"
    }
   ],
   "source": [
    "y_enc"
   ]
  },
  {
   "cell_type": "markdown",
   "metadata": {},
   "source": [
    "Як видно, значення 'no' було змінене на 0, 'yes' на 1"
   ]
  },
  {
   "cell_type": "markdown",
   "metadata": {},
   "source": [
    "## Вибір вхідних полів"
   ]
  },
  {
   "cell_type": "markdown",
   "metadata": {},
   "source": [
    "Як було зазначено раніше, вхідні поля містять 20 характеристик. Зрозуміло, деякі з них є більш важливими для класифікації.\n",
    "\n",
    "Існують два популярні методи вибору вхідних полів, які можна використовувати для категорійних вхідних даних, і категорійної (класової) цільової змінної.\n",
    "\n",
    "Це:\n",
    "\n",
    "* Критерій хі-квадрат.\n",
    "* Статистика взаємно залежної інформації\n",
    "\n",
    "Розглянемой детальніше  кожен із них.\n",
    "\n",
    "Для цього будемо використовувати **[SelectKBest](https://scikit-learn.org/stable/modules/generated/sklearn.feature_selection.SelectKBest.html)**"
   ]
  },
  {
   "cell_type": "markdown",
   "metadata": {},
   "source": [
    "### Критерій хі-квадрат"
   ]
  },
  {
   "cell_type": "markdown",
   "metadata": {},
   "source": [
    "Статистична гіпотеза хі-квадрат Пірсона є прикладом перевірки на незалежність між категорійними змінними.\n",
    "\n",
    "Більше інформації про цей статистичний тест можна отримати за посиланням:\n",
    "\n",
    "[A Gentle Introduction to the Chi-Squared Test for Machine Learning](https://machinelearningmastery.com/chi-squared-test-for-machine-learning/)\n",
    "Результати цього тесту можна використати для вибору об’єктів, тобто ті об’єкти, від яких не залежить цільова змінна, можна видалити з набору даних.\n",
    "\n",
    "Бібліотека scikit-learn забезпечує реалізацію тесту хі-квадрат функцією **[chi2()](https://scikit-learn.org/stable/modules/generated/sklearn.feature_selection.chi2.html#sklearn.feature_selection.chi2)**. Ця функція може бути використана в стратегії вибору вхідних полів, наприклад, у виборі k найважливіших ознак (найбільших значень) за допомогою класу SelectKBest.\n",
    "\n",
    "Наприклад, ми можемо визначити клас SelectKBest для використання функції chi2() і вибрати всі (або найважливіші) вхідні поля, а потім перетворити тренувальні і тестові набори."
   ]
  },
  {
   "cell_type": "markdown",
   "metadata": {},
   "source": [
    "Застосуємо клас SelectKBest, щоб отримати 10 найважливіших вхідних полів"
   ]
  },
  {
   "cell_type": "code",
   "execution_count": 21,
   "metadata": {},
   "outputs": [],
   "source": [
    "bestfeatures = SelectKBest(score_func=chi2, k=10)\n",
    "fit = bestfeatures.fit(x_enc,y_enc)\n",
    "dfscores = pd.DataFrame(fit.scores_)\n",
    "dfcolumns = pd.DataFrame(X.columns)"
   ]
  },
  {
   "cell_type": "markdown",
   "metadata": {},
   "source": [
    "об'єднаємо два DataFrame з даними для кращої візуалізації"
   ]
  },
  {
   "cell_type": "code",
   "execution_count": 22,
   "metadata": {},
   "outputs": [
    {
     "name": "stdout",
     "output_type": "stream",
     "text": [
      "           Specs  Score\n",
      "18     euribor3m 890.69\n",
      "6           loan 547.96\n",
      "15  emp.var.rate 541.30\n",
      "19   nr.employed 502.66\n",
      "14      poutcome 441.45\n",
      "11      campaign 358.02\n",
      "3      education 321.92\n",
      "2        marital 167.61\n",
      "13      previous 157.98\n",
      "9    day_of_week  98.23\n"
     ]
    }
   ],
   "source": [
    "featureScores = pd.concat([dfcolumns, dfscores],axis=1)\n",
    "featureScores.columns = ['Specs','Score']  #naming the dataframe columns\n",
    "print(featureScores.nlargest(10,'Score'))  #print 10 best features"
   ]
  },
  {
   "cell_type": "markdown",
   "metadata": {},
   "source": [
    "### Статистика взаємно залежної інформації"
   ]
  },
  {
   "cell_type": "markdown",
   "metadata": {},
   "source": [
    "Взаємно залежна інформація в галузі теорії інформації - це міра взаємної залежності між двома змінними (зазвичай застосовується при побудові дерев рішень), що використовується для вибору характерних ознак.\n",
    "\n",
    "Взаємно залежна інформація обчислюється між двома змінними і дає змогу виміряти зменшення невизначеності для однієї змінної з урахуванням відомого значення іншої змінної.\n",
    "\n",
    "[Ви можете дізнатися більше про взаємну інформацію в посібнику.](https://machinelearningmastery.com/information-gain-and-mutual-information)\n",
    "\n",
    "Бібліотека машинного навчання scikit-learn забезпечує реалізацію взаємно залежної інформації для вибору вхідних полів за допомогою функції  **[mutual_info_classif()](https://scikit-learn.org/stable/modules/generated/sklearn.feature_selection.mutual_info_classif.html#sklearn.feature_selection.mutual_info_classif)**.\n",
    "\n",
    "Як і chi2(), її можна використовувати із методом для вибору вхідних полів SelectKBest (та іншими методами)."
   ]
  },
  {
   "cell_type": "code",
   "execution_count": 23,
   "metadata": {},
   "outputs": [
    {
     "name": "stdout",
     "output_type": "stream",
     "text": [
      "             Specs  Score\n",
      "11        campaign   0.08\n",
      "18       euribor3m   0.07\n",
      "17   cons.conf.idx   0.07\n",
      "16  cons.price.idx   0.07\n",
      "19     nr.employed   0.06\n",
      "15    emp.var.rate   0.06\n",
      "9      day_of_week   0.04\n",
      "13        previous   0.04\n",
      "7          contact   0.03\n",
      "14        poutcome   0.02\n"
     ]
    }
   ],
   "source": [
    "bestfeatures = SelectKBest(score_func=mutual_info_classif, k=10)\n",
    "fit = bestfeatures.fit(x_enc,y_enc)\n",
    "dfscores = pd.DataFrame(fit.scores_)\n",
    "dfcolumns = pd.DataFrame(X.columns)\n",
    "featureScores = pd.concat([dfcolumns, dfscores],axis=1)\n",
    "featureScores.columns = ['Specs','Score']  #naming the dataframe columns\n",
    "print(featureScores.nlargest(10,'Score'))  #print 10 best features\n"
   ]
  },
  {
   "cell_type": "markdown",
   "metadata": {},
   "source": [
    "<details><summary>Натисніть <b>тут,</b> щоб отримати розв'язок</summary>\n",
    "<code>\n",
    "bestfeatures = SelectKBest(score_func=mutual_info_classif, k=10)\n",
    "fit = bestfeatures.fit(x_enc,y_enc)\n",
    "dfscores = pd.DataFrame(fit.scores_)\n",
    "dfcolumns = pd.DataFrame(X.columns)\n",
    "featureScores = pd.concat([dfcolumns, dfscores],axis=1)\n",
    "featureScores.columns = ['Specs','Score']  #naming the dataframe columns\n",
    "print(featureScores.nlargest(10,'Score'))  #print 10 best features\n",
    "    </code>\n",
    "</details>\n",
    "\n",
    "\n"
   ]
  },
  {
   "cell_type": "markdown",
   "metadata": {},
   "source": [
    "Як бачимо, ці дві функції вибирають різні вагомі вхідні поля."
   ]
  },
  {
   "cell_type": "markdown",
   "metadata": {},
   "source": [
    "### Вага вхідних полів"
   ]
  },
  {
   "cell_type": "markdown",
   "metadata": {},
   "source": [
    "Вагу кожного вхідного поля вашого DataFrame можна отримати використовуючи властивість ваги вхідних полів для конкретної моделі класифікації.\n",
    "Вага вхідного поля дає оцінку кожного вхідного поля ваших даних, чим вища оцінка, вагомішим чи релевантнішим є вхідне поле щодо вихідної змінної.\n",
    "Наприклад:\n",
    "Feature importance - це вбудований клас, який поставляється разом **[Tree Based Classifiers](https://scikit-learn.org/stable/modules/generated/sklearn.ensemble.ExtraTreesClassifier.html)**, ми будемо використовувати Extra Tree Classifier для отримання 10 найвагоміших вхідних полів для набору даних."
   ]
  },
  {
   "cell_type": "markdown",
   "metadata": {},
   "source": [
    "Створимо та застосуємо модель:"
   ]
  },
  {
   "cell_type": "code",
   "execution_count": 24,
   "metadata": {},
   "outputs": [
    {
     "data": {
      "text/plain": "ExtraTreesClassifier()"
     },
     "execution_count": 24,
     "metadata": {},
     "output_type": "execute_result"
    }
   ],
   "source": [
    "model = ExtraTreesClassifier()\n",
    "model.fit(x_enc,y_enc)"
   ]
  },
  {
   "cell_type": "markdown",
   "metadata": {},
   "source": [
    "Використаємо вбудований клас feature_importances класифікатора tree_based"
   ]
  },
  {
   "cell_type": "code",
   "execution_count": 25,
   "metadata": {},
   "outputs": [
    {
     "name": "stdout",
     "output_type": "stream",
     "text": [
      "[0.05785359 0.03461195 0.05448707 0.01049468 0.02643895 0.01975549\n",
      " 0.01315005 0.01649383 0.04889025 0.03166322 0.08877211 0.26422699\n",
      " 0.05943515 0.04692265 0.0131165  0.02698483 0.01822236 0.0236965\n",
      " 0.09677301 0.04801079]\n"
     ]
    }
   ],
   "source": [
    "print(model.feature_importances_)"
   ]
  },
  {
   "cell_type": "markdown",
   "metadata": {},
   "source": [
    "Перетворимо у Series та побудуємо графік значущості вхідних полів для кращої візуалізації"
   ]
  },
  {
   "cell_type": "code",
   "execution_count": 26,
   "metadata": {},
   "outputs": [
    {
     "data": {
      "text/plain": "<Figure size 576x432 with 1 Axes>",
      "image/png": "[encoded data removed]"
     },
     "metadata": {
      "needs_background": "light"
     },
     "output_type": "display_data"
    }
   ],
   "source": [
    "feat_importances = pd.Series(model.feature_importances_, index=x_enc.columns)\n",
    "feat_importances.nlargest(10).plot(kind='barh')\n",
    "plt.show()"
   ]
  },
  {
   "cell_type": "markdown",
   "metadata": {},
   "source": [
    "Бачимо, що для Extra Tree Classifier значущість вхідних полів відрізняються від попередніх випадків. Це означає, що немає чітких правил для їх вибору. І значення вхідних полів строго залежить від моделі."
   ]
  },
  {
   "cell_type": "markdown",
   "metadata": {},
   "source": [
    "### Кореляційна матриця з Heatmap"
   ]
  },
  {
   "cell_type": "markdown",
   "metadata": {},
   "source": [
    "Кореляційна матриця показує зв'язок між вхідними полями.\n",
    "Числове значення може бути додатнім (при збільшенні значення одного вхідного поля збільшується значення іншого) або від'ємним (при збільшенні значення одного вхідного поля зменшується значення іншого)\n",
    "Heatmap дозволяє легко визначити, які вхідні поля найбільше пов'язані один з одним. Побудуємо heatmap корельованих вхідних полів використовуючи бібліотеку seaborn."
   ]
  },
  {
   "cell_type": "code",
   "execution_count": 27,
   "metadata": {},
   "outputs": [
    {
     "data": {
      "text/plain": "<Figure size 1440x1440 with 2 Axes>",
      "image/png": "[encoded data removed]"
     },
     "metadata": {
      "needs_background": "light"
     },
     "output_type": "display_data"
    }
   ],
   "source": [
    "corrmat = x_enc.corr()\n",
    "top_corr_features = corrmat.index\n",
    "plt.figure(figsize=(20,20))\n",
    "g=sns.heatmap(x_enc[top_corr_features].corr(),annot=True,cmap=\"RdYlGn\")"
   ]
  },
  {
   "cell_type": "markdown",
   "metadata": {},
   "source": [
    "Як можна побачити, поля 'euribor3m', 'emp.var.rate', 'nr.employed' строго корелюють між собою. Це означає, що два з них потрібно вилучити з розрахунку, оскільки між ними є лінійні залежності. Якщо ми знаємо одне з них, ми можемо легко обчислити ще два. Видаляємо \"emp.var.rate\" та \"nr.employed\"\n"
   ]
  },
  {
   "cell_type": "code",
   "execution_count": 28,
   "metadata": {},
   "outputs": [
    {
     "data": {
      "text/plain": "Index(['job', 'marital', 'education', 'default', 'housing', 'loan', 'contact',\n       'month', 'day_of_week', 'poutcome', 'age', 'duration', 'campaign',\n       'pdays', 'previous', 'emp.var.rate', 'cons.price.idx', 'cons.conf.idx',\n       'euribor3m', 'nr.employed'],\n      dtype='object')"
     },
     "execution_count": 28,
     "metadata": {},
     "output_type": "execute_result"
    }
   ],
   "source": [
    "col = x_enc.columns\n",
    "col"
   ]
  },
  {
   "cell_type": "code",
   "execution_count": 29,
   "metadata": {},
   "outputs": [],
   "source": [
    "col = ['job', 'marital', 'education', 'default', 'housing', 'loan', 'contact',\n",
    "       'month', 'day_of_week', 'poutcome', 'age', 'duration', 'campaign',\n",
    "       'pdays', 'previous', 'cons.price.idx', 'cons.conf.idx',\n",
    "       'euribor3m']"
   ]
  },
  {
   "cell_type": "markdown",
   "metadata": {},
   "source": [
    "<details><summary>Натисніть <b>тут,</b> щоб отримати розв'язок</summary>\n",
    "<code>\n",
    "col = ['job', 'marital', 'education', 'default', 'housing', 'loan', 'contact',\n",
    "       'month', 'day_of_week', 'poutcome', 'age', 'duration', 'campaign',\n",
    "       'pdays', 'previous', 'cons.price.idx', 'cons.conf.idx',\n",
    "       'euribor3m']\n",
    "    </code>\n",
    "</details>\n",
    "\n",
    "\n"
   ]
  },
  {
   "cell_type": "code",
   "execution_count": 30,
   "metadata": {},
   "outputs": [],
   "source": [
    "x_enc = x_enc[col]"
   ]
  },
  {
   "cell_type": "markdown",
   "metadata": {},
   "source": [
    "## Моделі класифікації"
   ]
  },
  {
   "cell_type": "markdown",
   "metadata": {},
   "source": [
    "### Створення тренувальних та тестових наборів даних"
   ]
  },
  {
   "cell_type": "markdown",
   "metadata": {},
   "source": [
    "Перш за все, потрібно виокремити дані для навчальних та тестових наборів даних для точності обчислень при моделюванні. Для цього використаємо **[train_test_split](https://scikit-learn.org/stable/modules/generated/sklearn.model_selection.train_test_split.html)**. Розділимо набори даних у пропорції 0.33 train/test"
   ]
  },
  {
   "cell_type": "code",
   "execution_count": 31,
   "metadata": {},
   "outputs": [
    {
     "name": "stdout",
     "output_type": "stream",
     "text": [
      "X_train: (27595, 18)\n",
      "X_test: (13593, 18)\n",
      "y_train: (27595,)\n",
      "y_test: (13593,)\n"
     ]
    }
   ],
   "source": [
    "X_train, X_test, y_train, y_test = train_test_split(x_enc, y_enc, test_size=0.33, random_state=1)\n",
    "print(\"X_train:\", X_train.shape)\n",
    "print(\"X_test:\", X_test.shape)\n",
    "print(\"y_train:\", y_train.shape)\n",
    "print(\"y_test:\", y_test.shape)"
   ]
  },
  {
   "cell_type": "markdown",
   "metadata": {},
   "source": [
    "Можна побачити, що навчальний набір даних складається з 27595 рядків. Тестовий з 13593."
   ]
  },
  {
   "cell_type": "markdown",
   "metadata": {},
   "source": [
    "### Класифікатор Extra Trees"
   ]
  },
  {
   "cell_type": "markdown",
   "metadata": {},
   "source": [
    "Створимо і застосуємо ExtraTreesClassifier до навчального набору даних і обчислимо точність класифікації:"
   ]
  },
  {
   "cell_type": "code",
   "execution_count": 33,
   "metadata": {},
   "outputs": [
    {
     "data": {
      "text/plain": "ExtraTreesClassifier()"
     },
     "execution_count": 33,
     "metadata": {},
     "output_type": "execute_result"
    }
   ],
   "source": [
    "model = ExtraTreesClassifier()\n",
    "model.fit(X_train, y_train)"
   ]
  },
  {
   "cell_type": "markdown",
   "metadata": {},
   "source": [
    "Оцінимо моделі на основі тестових даних для отримання прогнозів:"
   ]
  },
  {
   "cell_type": "code",
   "execution_count": 34,
   "metadata": {},
   "outputs": [
    {
     "name": "stdout",
     "output_type": "stream",
     "text": [
      "[0 0 0 ... 1 0 0]\n"
     ]
    }
   ],
   "source": [
    "yhat = model.predict(X_test)\n",
    "print(yhat)"
   ]
  },
  {
   "cell_type": "markdown",
   "metadata": {},
   "source": [
    "Оцінимо точність:"
   ]
  },
  {
   "cell_type": "code",
   "execution_count": 35,
   "metadata": {},
   "outputs": [
    {
     "name": "stdout",
     "output_type": "stream",
     "text": [
      "Accuracy: 90.80\n"
     ]
    }
   ],
   "source": [
    "accuracy = accuracy_score(y_test, yhat)\n",
    "print('Accuracy: %.2f' % (accuracy*100))"
   ]
  },
  {
   "cell_type": "markdown",
   "metadata": {},
   "source": [
    "### Логістична регресія"
   ]
  },
  {
   "cell_type": "markdown",
   "metadata": {},
   "source": [
    "Як можна побачити, точність цієї моделі дуже хороша.\n",
    "\n",
    "Існує багато різних методів оцінки вхідних полів та вибору вхідних полів на основі цих оцінок; як дізнатись, який із них використовувати?\n",
    "\n",
    "Надійний підхід полягає в оцінці моделей з використанням різних методів вибору вхідних полів (та кількостівхідних полів) та вибору методу, використання якого найкраще підходить для моделі.\n",
    "\n",
    "**[Logistic regression](https://scikit-learn.org/stable/modules/generated/sklearn.linear_model.LogisticRegression.html)** є хорошою моделлю для перевірки методів вибору вхідних полів, оскільки може працювати краще, якщо з моделі вилучити незначущі вхідні поля. Використаємо цю модель аналогічно до попередньої."
   ]
  },
  {
   "cell_type": "code",
   "execution_count": 36,
   "metadata": {},
   "outputs": [
    {
     "name": "stdout",
     "output_type": "stream",
     "text": [
      "Accuracy: 91.01\n"
     ]
    }
   ],
   "source": [
    "model = LogisticRegression(solver='lbfgs')\n",
    "model.fit(X_train, y_train)\n",
    "yhat = model.predict(X_test)\n",
    "accuracy = accuracy_score(y_test, yhat)\n",
    "print('Accuracy: %.2f' % (accuracy*100))"
   ]
  },
  {
   "cell_type": "markdown",
   "metadata": {},
   "source": [
    "<details><summary>Натисніть <b>тут,</b> щоб отримати розв'язок</summary>\n",
    "<code>\n",
    "model = LogisticRegression(solver='lbfgs')\n",
    "model.fit(X_train, y_train)\n",
    "yhat = model.predict(X_test)\n",
    "accuracy = accuracy_score(y_test, yhat)\n",
    "print('Accuracy: %.2f' % (accuracy*100))\n",
    "    </code>\n",
    "</details>"
   ]
  },
  {
   "cell_type": "markdown",
   "metadata": {},
   "source": [
    "Як бачимо, точніть зросла."
   ]
  },
  {
   "cell_type": "markdown",
   "metadata": {},
   "source": [
    "## Дерево рішень"
   ]
  },
  {
   "cell_type": "markdown",
   "metadata": {},
   "source": [
    "### Побудова моделі"
   ]
  },
  {
   "cell_type": "markdown",
   "metadata": {},
   "source": [
    "Як можна побачити вище, попередні методи мають високу точність. Однак найбільший недолік - неможливість візуалізувати або обґрунтувати рішення."
   ]
  },
  {
   "cell_type": "markdown",
   "metadata": {},
   "source": [
    "Дерева рішень є популярним керованим методом навчання з різних причин. Перевагами дерев рішень є можливість їх використання як для регресії, так і для класифікації, вони не потребують масштабування функцій, і їх відносно легко інтерпретувати, оскільки можлива візуалізація дерева рішень. Це не тільки потужний спосіб зрозуміти суть моделі, але й роз'яснити, як вона працює. Отже, було б корисно знати, як зробити візуалізацію на основі даної моделі."
   ]
  },
  {
   "cell_type": "markdown",
   "metadata": {},
   "source": [
    "**[Дерева рішень](https://scikit-learn.org/stable/modules/generated/sklearn.tree.DecisionTreeClassifier.html)**  - це керований алгоритм, який використовується в машинному навчанні. Він використовує бінарне дерево (кожен вузол має двох дочірніх елементів) для визначення цільового значення кожної вибірки даних. Цільові значення представлені в листі дерева. Щоб дістатися до листя, потрібно пройти через вузли, починаючи з кореневого вузла. У кожному вузлі приймається рішення, до якого вузла-нащадка потрібно йти далі. Рішення приймається на основі ознак вибраного зразка. Навчанняя дерева рішень - це процес пошуку оптимальних правил у кожному внутрішньому вузлі дерева відповідно до обраної метрики.\n"
   ]
  },
  {
   "cell_type": "markdown",
   "metadata": {},
   "source": [
    "Цей метод також дозволяє розрахувати ваги вхідних полів.\n",
    "Обчислимо їх. Виберемо 10 найкращих з них. Оновимо модель та візуалізуємо дерево рішень."
   ]
  },
  {
   "cell_type": "code",
   "execution_count": 37,
   "metadata": {
    "tags": []
   },
   "outputs": [
    {
     "name": "stdout",
     "output_type": "stream",
     "text": [
      "Accuracy: 89.01\n"
     ]
    }
   ],
   "source": [
    "model = DecisionTreeClassifier()\n",
    "model.fit(X_train, y_train)\n",
    "yhat = model.predict(X_test)\n",
    "accuracy = accuracy_score(y_test, yhat)\n",
    "print('Accuracy: %.2f' % (accuracy*100))"
   ]
  },
  {
   "cell_type": "markdown",
   "metadata": {},
   "source": [
    "<details><summary>Натисніть <b>тут,</b> щоб отримати розв'язок</summary>\n",
    "<code>\n",
    "model.fit(X_train, y_train)\n",
    "yhat = model.predict(X_test)\n",
    "accuracy = accuracy_score(y_test, yhat)\n",
    "print('Accuracy: %.2f' % (accuracy*100))\n",
    "    </code>\n",
    "</details>\n",
    "\n"
   ]
  },
  {
   "cell_type": "code",
   "execution_count": 38,
   "metadata": {},
   "outputs": [
    {
     "name": "stdout",
     "output_type": "stream",
     "text": [
      "Features impotance: [0.04617255 0.02328542 0.04043327 0.0077432  0.0168781  0.01446651\n",
      " 0.00886229 0.01497274 0.03698956 0.02114203 0.09155291 0.34944939\n",
      " 0.02960179 0.01565579 0.00908977 0.01562178 0.03410504 0.22397786]\n"
     ]
    }
   ],
   "source": [
    "print(\"Features impotance:\", model.feature_importances_)"
   ]
  },
  {
   "cell_type": "markdown",
   "metadata": {},
   "source": [
    "Побудуємо графік ваги вхідних полів для кращої візуалізації."
   ]
  },
  {
   "cell_type": "code",
   "execution_count": 39,
   "metadata": {},
   "outputs": [
    {
     "data": {
      "text/plain": "<Figure size 576x432 with 1 Axes>",
      "image/png": "[encoded data removed]"
     },
     "metadata": {
      "needs_background": "light"
     },
     "output_type": "display_data"
    }
   ],
   "source": [
    "feat_importances = pd.Series(model.feature_importances_, index=x_enc.columns)\n",
    "feat_importances.nlargest(10).plot(kind='barh')\n",
    "plt.show()"
   ]
  },
  {
   "cell_type": "markdown",
   "metadata": {},
   "source": [
    "Обираємо 10 найвагоміших:"
   ]
  },
  {
   "cell_type": "code",
   "execution_count": 40,
   "metadata": {},
   "outputs": [
    {
     "data": {
      "text/plain": "duration        0.35\neuribor3m       0.22\nage             0.09\njob             0.05\neducation       0.04\nday_of_week     0.04\ncons.conf.idx   0.03\ncampaign        0.03\nmarital         0.02\npoutcome        0.02\ndtype: float64"
     },
     "execution_count": 40,
     "metadata": {},
     "output_type": "execute_result"
    }
   ],
   "source": [
    "feat_importances.nlargest(10)"
   ]
  },
  {
   "cell_type": "markdown",
   "metadata": {},
   "source": [
    "Створюємо список вхідних полів"
   ]
  },
  {
   "cell_type": "code",
   "execution_count": 41,
   "metadata": {},
   "outputs": [
    {
     "data": {
      "text/plain": "Index(['duration', 'euribor3m', 'age', 'job', 'education', 'day_of_week',\n       'cons.conf.idx', 'campaign', 'marital', 'poutcome'],\n      dtype='object')"
     },
     "execution_count": 41,
     "metadata": {},
     "output_type": "execute_result"
    }
   ],
   "source": [
    "col = feat_importances.nlargest(10).index\n",
    "col"
   ]
  },
  {
   "cell_type": "markdown",
   "metadata": {},
   "source": [
    "Оновимо модель використовуючи найвагоміші вхідні поля"
   ]
  },
  {
   "cell_type": "code",
   "execution_count": 42,
   "metadata": {
    "tags": []
   },
   "outputs": [
    {
     "name": "stdout",
     "output_type": "stream",
     "text": [
      "Accuracy: 88.96\n"
     ]
    }
   ],
   "source": [
    "X_train_dt = X_train[col]\n",
    "X_test_dt = X_test[col]\n",
    "model.fit(X_train_dt, y_train)\n",
    "yhat = model.predict(X_test_dt)\n",
    "accuracy = accuracy_score(y_test, yhat)\n",
    "print('Accuracy: %.2f' % (accuracy*100))"
   ]
  },
  {
   "cell_type": "markdown",
   "metadata": {},
   "source": [
    "Як можна побачити, точність погіршилась, оскільки використовувались не всі вхідні поля."
   ]
  },
  {
   "cell_type": "markdown",
   "metadata": {},
   "source": [
    "### Візуалізація дерева рішень"
   ]
  },
  {
   "cell_type": "markdown",
   "metadata": {},
   "source": [
    "Існує декілька способів реалізації візуалізації дерева рішень"
   ]
  },
  {
   "cell_type": "markdown",
   "metadata": {},
   "source": [
    "### _Текстова візуалізація_"
   ]
  },
  {
   "cell_type": "code",
   "execution_count": 43,
   "metadata": {
    "tags": []
   },
   "outputs": [
    {
     "name": "stdout",
     "output_type": "stream",
     "text": [
      "|--- feature_0 <= 0.11\n",
      "|   |--- feature_1 <= 0.13\n",
      "|   |   |--- feature_0 <= 0.03\n",
      "|   |   |   |--- feature_9 <= 1.50\n",
      "|   |   |   |   |--- feature_0 <= 0.03\n",
      "|   |   |   |   |   |--- feature_0 <= 0.02\n",
      "|   |   |   |   |   |   |--- feature_7 <= 0.03\n",
      "|   |   |   |   |   |   |   |--- class: 0\n",
      "|   |   |   |   |   |   |--- feature_7 >  0.03\n",
      "|   |   |   |   |   |   |   |--- feature_2 <= 0.15\n",
      "|   |   |   |   |   |   |   |   |--- feature_2 <= 0.13\n",
      "|   |   |   |   |   |   |   |   |   |--- class: 0\n",
      "|   |   |   |   |   |   |   |   |--- feature_2 >  0.13\n",
      "|   |   |   |   |   |   |   |   |   |--- class: 1\n",
      "|   |   |   |   |   |   |   |--- feature_2 >  0.15\n",
      "|   |   |   |   |   |   |   |   |--- class: 0\n",
      "|   |   |   |   |   |--- feature_0 >  0.02\n",
      "|   |   |   |   |   |   |--- feature_1 <= 0.00\n",
      "|   |   |   |   |   |   |   |--- feature_3 <= 6.50\n",
      "|   |   |   |   |   |   |   |   |--- class: 1\n",
      "|   |   |   |   |   |   |   |--- feature_3 >  6.50\n",
      "|   |   |   |   |   |   |   |   |--- class: 0\n",
      "|   |   |   |   |   |   |--- feature_1 >  0.00\n",
      "|   |   |   |   |   |   |   |--- feature_6 <= 0.84\n",
      "|   |   |   |   |   |   |   |   |--- feature_0 <= 0.02\n",
      "|   |   |   |   |   |   |   |   |   |--- feature_6 <= 0.78\n",
      "|   |   |   |   |   |   |   |   |   |   |--- class: 0\n",
      "|   |   |   |   |   |   |   |   |   |--- feature_6 >  0.78\n",
      "|   |   |   |   |   |   |   |   |   |   |--- feature_2 <= 0.12\n",
      "|   |   |   |   |   |   |   |   |   |   |   |--- class: 0\n",
      "|   |   |   |   |   |   |   |   |   |   |--- feature_2 >  0.12\n",
      "|   |   |   |   |   |   |   |   |   |   |   |--- class: 1\n",
      "|   |   |   |   |   |   |   |   |--- feature_0 >  0.02\n",
      "|   |   |   |   |   |   |   |   |   |--- feature_6 <= 0.54\n",
      "|   |   |   |   |   |   |   |   |   |   |--- feature_8 <= 0.50\n",
      "|   |   |   |   |   |   |   |   |   |   |   |--- truncated branch of depth 2\n",
      "|   |   |   |   |   |   |   |   |   |   |--- feature_8 >  0.50\n",
      "|   |   |   |   |   |   |   |   |   |   |   |--- truncated branch of depth 7\n",
      "|   |   |   |   |   |   |   |   |   |--- feature_6 >  0.54\n",
      "|   |   |   |   |   |   |   |   |   |   |--- feature_7 <= 0.08\n",
      "|   |   |   |   |   |   |   |   |   |   |   |--- truncated branch of depth 6\n",
      "|   |   |   |   |   |   |   |   |   |   |--- feature_7 >  0.08\n",
      "|   |   |   |   |   |   |   |   |   |   |   |--- truncated branch of depth 2\n",
      "|   |   |   |   |   |   |   |--- feature_6 >  0.84\n",
      "|   |   |   |   |   |   |   |   |--- feature_1 <= 0.03\n",
      "|   |   |   |   |   |   |   |   |   |--- feature_1 <= 0.03\n",
      "|   |   |   |   |   |   |   |   |   |   |--- feature_0 <= 0.02\n",
      "|   |   |   |   |   |   |   |   |   |   |   |--- truncated branch of depth 6\n",
      "|   |   |   |   |   |   |   |   |   |   |--- feature_0 >  0.02\n",
      "|   |   |   |   |   |   |   |   |   |   |   |--- truncated branch of depth 8\n",
      "|   |   |   |   |   |   |   |   |   |--- feature_1 >  0.03\n",
      "|   |   |   |   |   |   |   |   |   |   |--- feature_2 <= 0.40\n",
      "|   |   |   |   |   |   |   |   |   |   |   |--- truncated branch of depth 2\n",
      "|   |   |   |   |   |   |   |   |   |   |--- feature_2 >  0.40\n",
      "|   |   |   |   |   |   |   |   |   |   |   |--- class: 0\n",
      "|   |   |   |   |   |   |   |   |--- feature_1 >  0.03\n",
      "|   |   |   |   |   |   |   |   |   |--- class: 0\n",
      "|   |   |   |   |--- feature_0 >  0.03\n",
      "|   |   |   |   |   |--- feature_6 <= 0.61\n",
      "|   |   |   |   |   |   |--- feature_8 <= 0.50\n",
      "|   |   |   |   |   |   |   |--- feature_0 <= 0.03\n",
      "|   |   |   |   |   |   |   |   |--- class: 1\n",
      "|   |   |   |   |   |   |   |--- feature_0 >  0.03\n",
      "|   |   |   |   |   |   |   |   |--- feature_2 <= 0.80\n",
      "|   |   |   |   |   |   |   |   |   |--- class: 0\n",
      "|   |   |   |   |   |   |   |   |--- feature_2 >  0.80\n",
      "|   |   |   |   |   |   |   |   |   |--- class: 1\n",
      "|   |   |   |   |   |   |--- feature_8 >  0.50\n",
      "|   |   |   |   |   |   |   |--- feature_3 <= 7.50\n",
      "|   |   |   |   |   |   |   |   |--- class: 0\n",
      "|   |   |   |   |   |   |   |--- feature_3 >  7.50\n",
      "|   |   |   |   |   |   |   |   |--- feature_2 <= 0.35\n",
      "|   |   |   |   |   |   |   |   |   |--- feature_5 <= 3.50\n",
      "|   |   |   |   |   |   |   |   |   |   |--- class: 0\n",
      "|   |   |   |   |   |   |   |   |   |--- feature_5 >  3.50\n",
      "|   |   |   |   |   |   |   |   |   |   |--- feature_0 <= 0.03\n",
      "|   |   |   |   |   |   |   |   |   |   |   |--- class: 0\n",
      "|   |   |   |   |   |   |   |   |   |   |--- feature_0 >  0.03\n",
      "|   |   |   |   |   |   |   |   |   |   |   |--- class: 1\n",
      "|   |   |   |   |   |   |   |   |--- feature_2 >  0.35\n",
      "|   |   |   |   |   |   |   |   |   |--- feature_2 <= 0.48\n",
      "|   |   |   |   |   |   |   |   |   |   |--- class: 1\n",
      "|   |   |   |   |   |   |   |   |   |--- feature_2 >  0.48\n",
      "|   |   |   |   |   |   |   |   |   |   |--- class: 0\n",
      "|   |   |   |   |   |--- feature_6 >  0.61\n",
      "|   |   |   |   |   |   |--- feature_2 <= 0.07\n",
      "|   |   |   |   |   |   |   |--- class: 1\n",
      "|   |   |   |   |   |   |--- feature_2 >  0.07\n",
      "|   |   |   |   |   |   |   |--- feature_8 <= 0.50\n",
      "|   |   |   |   |   |   |   |   |--- feature_1 <= 0.02\n",
      "|   |   |   |   |   |   |   |   |   |--- feature_0 <= 0.03\n",
      "|   |   |   |   |   |   |   |   |   |   |--- feature_4 <= 3.00\n",
      "|   |   |   |   |   |   |   |   |   |   |   |--- class: 1\n",
      "|   |   |   |   |   |   |   |   |   |   |--- feature_4 >  3.00\n",
      "|   |   |   |   |   |   |   |   |   |   |   |--- class: 0\n",
      "|   |   |   |   |   |   |   |   |   |--- feature_0 >  0.03\n",
      "|   |   |   |   |   |   |   |   |   |   |--- class: 0\n",
      "|   |   |   |   |   |   |   |   |--- feature_1 >  0.02\n",
      "|   |   |   |   |   |   |   |   |   |--- feature_2 <= 0.62\n",
      "|   |   |   |   |   |   |   |   |   |   |--- class: 0\n",
      "|   |   |   |   |   |   |   |   |   |--- feature_2 >  0.62\n",
      "|   |   |   |   |   |   |   |   |   |   |--- feature_4 <= 2.50\n",
      "|   |   |   |   |   |   |   |   |   |   |   |--- class: 0\n",
      "|   |   |   |   |   |   |   |   |   |   |--- feature_4 >  2.50\n",
      "|   |   |   |   |   |   |   |   |   |   |   |--- class: 1\n",
      "|   |   |   |   |   |   |   |--- feature_8 >  0.50\n",
      "|   |   |   |   |   |   |   |   |--- feature_6 <= 0.94\n",
      "|   |   |   |   |   |   |   |   |   |--- feature_5 <= 2.50\n",
      "|   |   |   |   |   |   |   |   |   |   |--- feature_3 <= 10.50\n",
      "|   |   |   |   |   |   |   |   |   |   |   |--- truncated branch of depth 9\n",
      "|   |   |   |   |   |   |   |   |   |   |--- feature_3 >  10.50\n",
      "|   |   |   |   |   |   |   |   |   |   |   |--- class: 1\n",
      "|   |   |   |   |   |   |   |   |   |--- feature_5 >  2.50\n",
      "|   |   |   |   |   |   |   |   |   |   |--- feature_2 <= 0.10\n",
      "|   |   |   |   |   |   |   |   |   |   |   |--- class: 1\n",
      "|   |   |   |   |   |   |   |   |   |   |--- feature_2 >  0.10\n",
      "|   |   |   |   |   |   |   |   |   |   |   |--- truncated branch of depth 9\n",
      "|   |   |   |   |   |   |   |   |--- feature_6 >  0.94\n",
      "|   |   |   |   |   |   |   |   |   |--- feature_0 <= 0.03\n",
      "|   |   |   |   |   |   |   |   |   |   |--- feature_2 <= 0.29\n",
      "|   |   |   |   |   |   |   |   |   |   |   |--- truncated branch of depth 5\n",
      "|   |   |   |   |   |   |   |   |   |   |--- feature_2 >  0.29\n",
      "|   |   |   |   |   |   |   |   |   |   |   |--- class: 1\n",
      "|   |   |   |   |   |   |   |   |   |--- feature_0 >  0.03\n",
      "|   |   |   |   |   |   |   |   |   |   |--- class: 0\n",
      "|   |   |   |--- feature_9 >  1.50\n",
      "|   |   |   |   |--- feature_5 <= 1.50\n",
      "|   |   |   |   |   |--- feature_7 <= 0.03\n",
      "|   |   |   |   |   |   |--- feature_1 <= 0.05\n",
      "|   |   |   |   |   |   |   |--- feature_0 <= 0.03\n",
      "|   |   |   |   |   |   |   |   |--- feature_2 <= 0.43\n",
      "|   |   |   |   |   |   |   |   |   |--- feature_2 <= 0.20\n",
      "|   |   |   |   |   |   |   |   |   |   |--- feature_1 <= 0.02\n",
      "|   |   |   |   |   |   |   |   |   |   |   |--- truncated branch of depth 3\n",
      "|   |   |   |   |   |   |   |   |   |   |--- feature_1 >  0.02\n",
      "|   |   |   |   |   |   |   |   |   |   |   |--- class: 1\n",
      "|   |   |   |   |   |   |   |   |   |--- feature_2 >  0.20\n",
      "|   |   |   |   |   |   |   |   |   |   |--- feature_8 <= 0.50\n",
      "|   |   |   |   |   |   |   |   |   |   |   |--- class: 1\n",
      "|   |   |   |   |   |   |   |   |   |   |--- feature_8 >  0.50\n",
      "|   |   |   |   |   |   |   |   |   |   |   |--- truncated branch of depth 4\n",
      "|   |   |   |   |   |   |   |   |--- feature_2 >  0.43\n",
      "|   |   |   |   |   |   |   |   |   |--- feature_4 <= 4.50\n",
      "|   |   |   |   |   |   |   |   |   |   |--- class: 1\n",
      "|   |   |   |   |   |   |   |   |   |--- feature_4 >  4.50\n",
      "|   |   |   |   |   |   |   |   |   |   |--- feature_1 <= 0.05\n",
      "|   |   |   |   |   |   |   |   |   |   |   |--- class: 0\n",
      "|   |   |   |   |   |   |   |   |   |   |--- feature_1 >  0.05\n",
      "|   |   |   |   |   |   |   |   |   |   |   |--- class: 1\n",
      "|   |   |   |   |   |   |   |--- feature_0 >  0.03\n",
      "|   |   |   |   |   |   |   |   |--- class: 0\n",
      "|   |   |   |   |   |   |--- feature_1 >  0.05\n",
      "|   |   |   |   |   |   |   |--- feature_3 <= 0.50\n",
      "|   |   |   |   |   |   |   |   |--- feature_0 <= 0.03\n",
      "|   |   |   |   |   |   |   |   |   |--- class: 0\n",
      "|   |   |   |   |   |   |   |   |--- feature_0 >  0.03\n",
      "|   |   |   |   |   |   |   |   |   |--- class: 1\n",
      "|   |   |   |   |   |   |   |--- feature_3 >  0.50\n",
      "|   |   |   |   |   |   |   |   |--- class: 0\n",
      "|   |   |   |   |   |--- feature_7 >  0.03\n",
      "|   |   |   |   |   |   |--- class: 0\n",
      "|   |   |   |   |--- feature_5 >  1.50\n",
      "|   |   |   |   |   |--- feature_0 <= 0.03\n",
      "|   |   |   |   |   |   |--- feature_6 <= 0.84\n",
      "|   |   |   |   |   |   |   |--- feature_2 <= 0.35\n",
      "|   |   |   |   |   |   |   |   |--- feature_1 <= 0.05\n",
      "|   |   |   |   |   |   |   |   |   |--- feature_6 <= 0.78\n",
      "|   |   |   |   |   |   |   |   |   |   |--- class: 0\n",
      "|   |   |   |   |   |   |   |   |   |--- feature_6 >  0.78\n",
      "|   |   |   |   |   |   |   |   |   |   |--- class: 1\n",
      "|   |   |   |   |   |   |   |   |--- feature_1 >  0.05\n",
      "|   |   |   |   |   |   |   |   |   |--- class: 0\n",
      "|   |   |   |   |   |   |   |--- feature_2 >  0.35\n",
      "|   |   |   |   |   |   |   |   |--- feature_0 <= 0.02\n",
      "|   |   |   |   |   |   |   |   |   |--- class: 1\n",
      "|   |   |   |   |   |   |   |   |--- feature_0 >  0.02\n",
      "|   |   |   |   |   |   |   |   |   |--- feature_2 <= 0.41\n",
      "|   |   |   |   |   |   |   |   |   |   |--- class: 1\n",
      "|   |   |   |   |   |   |   |   |   |--- feature_2 >  0.41\n",
      "|   |   |   |   |   |   |   |   |   |   |--- class: 0\n",
      "|   |   |   |   |   |   |--- feature_6 >  0.84\n",
      "|   |   |   |   |   |   |   |--- feature_0 <= 0.01\n",
      "|   |   |   |   |   |   |   |   |--- class: 0\n",
      "|   |   |   |   |   |   |   |--- feature_0 >  0.01\n",
      "|   |   |   |   |   |   |   |   |--- feature_2 <= 0.62\n",
      "|   |   |   |   |   |   |   |   |   |--- feature_6 <= 0.94\n",
      "|   |   |   |   |   |   |   |   |   |   |--- class: 1\n",
      "|   |   |   |   |   |   |   |   |   |--- feature_6 >  0.94\n",
      "|   |   |   |   |   |   |   |   |   |   |--- feature_1 <= 0.02\n",
      "|   |   |   |   |   |   |   |   |   |   |   |--- class: 1\n",
      "|   |   |   |   |   |   |   |   |   |   |--- feature_1 >  0.02\n",
      "|   |   |   |   |   |   |   |   |   |   |   |--- class: 0\n",
      "|   |   |   |   |   |   |   |   |--- feature_2 >  0.62\n",
      "|   |   |   |   |   |   |   |   |   |--- feature_0 <= 0.02\n",
      "|   |   |   |   |   |   |   |   |   |   |--- feature_0 <= 0.02\n",
      "|   |   |   |   |   |   |   |   |   |   |   |--- class: 0\n",
      "|   |   |   |   |   |   |   |   |   |   |--- feature_0 >  0.02\n",
      "|   |   |   |   |   |   |   |   |   |   |   |--- class: 1\n",
      "|   |   |   |   |   |   |   |   |   |--- feature_0 >  0.02\n",
      "|   |   |   |   |   |   |   |   |   |   |--- class: 0\n",
      "|   |   |   |   |   |--- feature_0 >  0.03\n",
      "|   |   |   |   |   |   |--- feature_1 <= 0.05\n",
      "|   |   |   |   |   |   |   |--- feature_0 <= 0.03\n",
      "|   |   |   |   |   |   |   |   |--- feature_7 <= 0.03\n",
      "|   |   |   |   |   |   |   |   |   |--- class: 1\n",
      "|   |   |   |   |   |   |   |   |--- feature_7 >  0.03\n",
      "|   |   |   |   |   |   |   |   |   |--- class: 0\n",
      "|   |   |   |   |   |   |   |--- feature_0 >  0.03\n",
      "|   |   |   |   |   |   |   |   |--- class: 0\n",
      "|   |   |   |   |   |   |--- feature_1 >  0.05\n",
      "|   |   |   |   |   |   |   |--- feature_7 <= 0.01\n",
      "|   |   |   |   |   |   |   |   |--- feature_2 <= 0.58\n",
      "|   |   |   |   |   |   |   |   |   |--- feature_4 <= 2.50\n",
      "|   |   |   |   |   |   |   |   |   |   |--- feature_3 <= 5.00\n",
      "|   |   |   |   |   |   |   |   |   |   |   |--- class: 0\n",
      "|   |   |   |   |   |   |   |   |   |   |--- feature_3 >  5.00\n",
      "|   |   |   |   |   |   |   |   |   |   |   |--- class: 1\n",
      "|   |   |   |   |   |   |   |   |   |--- feature_4 >  2.50\n",
      "|   |   |   |   |   |   |   |   |   |   |--- class: 0\n",
      "|   |   |   |   |   |   |   |   |--- feature_2 >  0.58\n",
      "|   |   |   |   |   |   |   |   |   |--- class: 1\n",
      "|   |   |   |   |   |   |   |--- feature_7 >  0.01\n",
      "|   |   |   |   |   |   |   |   |--- feature_3 <= 8.00\n",
      "|   |   |   |   |   |   |   |   |   |--- feature_2 <= 0.39\n",
      "|   |   |   |   |   |   |   |   |   |   |--- class: 1\n",
      "|   |   |   |   |   |   |   |   |   |--- feature_2 >  0.39\n",
      "|   |   |   |   |   |   |   |   |   |   |--- feature_8 <= 0.50\n",
      "|   |   |   |   |   |   |   |   |   |   |   |--- class: 1\n",
      "|   |   |   |   |   |   |   |   |   |   |--- feature_8 >  0.50\n",
      "|   |   |   |   |   |   |   |   |   |   |   |--- class: 0\n",
      "|   |   |   |   |   |   |   |   |--- feature_3 >  8.00\n",
      "|   |   |   |   |   |   |   |   |   |--- class: 0\n",
      "|   |   |--- feature_0 >  0.03\n",
      "|   |   |   |--- feature_9 <= 1.50\n",
      "|   |   |   |   |--- feature_0 <= 0.06\n",
      "|   |   |   |   |   |--- feature_2 <= 0.06\n",
      "|   |   |   |   |   |   |--- class: 0\n",
      "|   |   |   |   |   |--- feature_2 >  0.06\n",
      "|   |   |   |   |   |   |--- feature_0 <= 0.04\n",
      "|   |   |   |   |   |   |   |--- feature_1 <= 0.01\n",
      "|   |   |   |   |   |   |   |   |--- feature_5 <= 1.50\n",
      "|   |   |   |   |   |   |   |   |   |--- feature_5 <= 0.50\n",
      "|   |   |   |   |   |   |   |   |   |   |--- class: 0\n",
      "|   |   |   |   |   |   |   |   |   |--- feature_5 >  0.50\n",
      "|   |   |   |   |   |   |   |   |   |   |--- feature_9 <= 0.50\n",
      "|   |   |   |   |   |   |   |   |   |   |   |--- class: 0\n",
      "|   |   |   |   |   |   |   |   |   |   |--- feature_9 >  0.50\n",
      "|   |   |   |   |   |   |   |   |   |   |   |--- truncated branch of depth 2\n",
      "|   |   |   |   |   |   |   |   |--- feature_5 >  1.50\n",
      "|   |   |   |   |   |   |   |   |   |--- feature_4 <= 1.00\n",
      "|   |   |   |   |   |   |   |   |   |   |--- feature_8 <= 0.50\n",
      "|   |   |   |   |   |   |   |   |   |   |   |--- class: 1\n",
      "|   |   |   |   |   |   |   |   |   |   |--- feature_8 >  0.50\n",
      "|   |   |   |   |   |   |   |   |   |   |   |--- class: 0\n",
      "|   |   |   |   |   |   |   |   |   |--- feature_4 >  1.00\n",
      "|   |   |   |   |   |   |   |   |   |   |--- feature_2 <= 0.14\n",
      "|   |   |   |   |   |   |   |   |   |   |   |--- truncated branch of depth 2\n",
      "|   |   |   |   |   |   |   |   |   |   |--- feature_2 >  0.14\n",
      "|   |   |   |   |   |   |   |   |   |   |   |--- truncated branch of depth 3\n",
      "|   |   |   |   |   |   |   |--- feature_1 >  0.01\n",
      "|   |   |   |   |   |   |   |   |--- feature_2 <= 0.13\n",
      "|   |   |   |   |   |   |   |   |   |--- feature_1 <= 0.03\n",
      "|   |   |   |   |   |   |   |   |   |   |--- feature_0 <= 0.04\n",
      "|   |   |   |   |   |   |   |   |   |   |   |--- class: 1\n",
      "|   |   |   |   |   |   |   |   |   |   |--- feature_0 >  0.04\n",
      "|   |   |   |   |   |   |   |   |   |   |   |--- class: 0\n",
      "|   |   |   |   |   |   |   |   |   |--- feature_1 >  0.03\n",
      "|   |   |   |   |   |   |   |   |   |   |--- feature_0 <= 0.03\n",
      "|   |   |   |   |   |   |   |   |   |   |   |--- truncated branch of depth 2\n",
      "|   |   |   |   |   |   |   |   |   |   |--- feature_0 >  0.03\n",
      "|   |   |   |   |   |   |   |   |   |   |   |--- truncated branch of depth 2\n",
      "|   |   |   |   |   |   |   |   |--- feature_2 >  0.13\n",
      "|   |   |   |   |   |   |   |   |   |--- feature_3 <= 9.50\n",
      "|   |   |   |   |   |   |   |   |   |   |--- feature_5 <= 3.50\n",
      "|   |   |   |   |   |   |   |   |   |   |   |--- truncated branch of depth 10\n",
      "|   |   |   |   |   |   |   |   |   |   |--- feature_5 >  3.50\n",
      "|   |   |   |   |   |   |   |   |   |   |   |--- truncated branch of depth 5\n",
      "|   |   |   |   |   |   |   |   |   |--- feature_3 >  9.50\n",
      "|   |   |   |   |   |   |   |   |   |   |--- feature_0 <= 0.04\n",
      "|   |   |   |   |   |   |   |   |   |   |   |--- truncated branch of depth 4\n",
      "|   |   |   |   |   |   |   |   |   |   |--- feature_0 >  0.04\n",
      "|   |   |   |   |   |   |   |   |   |   |   |--- truncated branch of depth 2\n",
      "|   |   |   |   |   |   |--- feature_0 >  0.04\n",
      "|   |   |   |   |   |   |   |--- feature_0 <= 0.04\n",
      "|   |   |   |   |   |   |   |   |--- feature_0 <= 0.04\n",
      "|   |   |   |   |   |   |   |   |   |--- feature_9 <= 0.50\n",
      "|   |   |   |   |   |   |   |   |   |   |--- feature_1 <= 0.06\n",
      "|   |   |   |   |   |   |   |   |   |   |   |--- truncated branch of depth 4\n",
      "|   |   |   |   |   |   |   |   |   |   |--- feature_1 >  0.06\n",
      "|   |   |   |   |   |   |   |   |   |   |   |--- truncated branch of depth 2\n",
      "|   |   |   |   |   |   |   |   |   |--- feature_9 >  0.50\n",
      "|   |   |   |   |   |   |   |   |   |   |--- feature_1 <= 0.05\n",
      "|   |   |   |   |   |   |   |   |   |   |   |--- truncated branch of depth 2\n",
      "|   |   |   |   |   |   |   |   |   |   |--- feature_1 >  0.05\n",
      "|   |   |   |   |   |   |   |   |   |   |   |--- truncated branch of depth 2\n",
      "|   |   |   |   |   |   |   |   |--- feature_0 >  0.04\n",
      "|   |   |   |   |   |   |   |   |   |--- feature_5 <= 0.50\n",
      "|   |   |   |   |   |   |   |   |   |   |--- class: 1\n",
      "|   |   |   |   |   |   |   |   |   |--- feature_5 >  0.50\n",
      "|   |   |   |   |   |   |   |   |   |   |--- feature_6 <= 0.67\n",
      "|   |   |   |   |   |   |   |   |   |   |   |--- truncated branch of depth 6\n",
      "|   |   |   |   |   |   |   |   |   |   |--- feature_6 >  0.67\n",
      "|   |   |   |   |   |   |   |   |   |   |   |--- truncated branch of depth 6\n",
      "|   |   |   |   |   |   |   |--- feature_0 >  0.04\n",
      "|   |   |   |   |   |   |   |   |--- feature_7 <= 0.10\n",
      "|   |   |   |   |   |   |   |   |   |--- feature_5 <= 1.50\n",
      "|   |   |   |   |   |   |   |   |   |   |--- feature_0 <= 0.05\n",
      "|   |   |   |   |   |   |   |   |   |   |   |--- truncated branch of depth 5\n",
      "|   |   |   |   |   |   |   |   |   |   |--- feature_0 >  0.05\n",
      "|   |   |   |   |   |   |   |   |   |   |   |--- truncated branch of depth 10\n",
      "|   |   |   |   |   |   |   |   |   |--- feature_5 >  1.50\n",
      "|   |   |   |   |   |   |   |   |   |   |--- feature_6 <= 0.94\n",
      "|   |   |   |   |   |   |   |   |   |   |   |--- truncated branch of depth 14\n",
      "|   |   |   |   |   |   |   |   |   |   |--- feature_6 >  0.94\n",
      "|   |   |   |   |   |   |   |   |   |   |   |--- truncated branch of depth 4\n",
      "|   |   |   |   |   |   |   |   |--- feature_7 >  0.10\n",
      "|   |   |   |   |   |   |   |   |   |--- class: 0\n",
      "|   |   |   |   |--- feature_0 >  0.06\n",
      "|   |   |   |   |   |--- feature_5 <= 2.50\n",
      "|   |   |   |   |   |   |--- feature_3 <= 2.50\n",
      "|   |   |   |   |   |   |   |--- feature_2 <= 0.36\n",
      "|   |   |   |   |   |   |   |   |--- feature_7 <= 0.05\n",
      "|   |   |   |   |   |   |   |   |   |--- feature_6 <= 0.25\n",
      "|   |   |   |   |   |   |   |   |   |   |--- feature_2 <= 0.25\n",
      "|   |   |   |   |   |   |   |   |   |   |   |--- truncated branch of depth 3\n",
      "|   |   |   |   |   |   |   |   |   |   |--- feature_2 >  0.25\n",
      "|   |   |   |   |   |   |   |   |   |   |   |--- class: 0\n",
      "|   |   |   |   |   |   |   |   |   |--- feature_6 >  0.25\n",
      "|   |   |   |   |   |   |   |   |   |   |--- feature_0 <= 0.09\n",
      "|   |   |   |   |   |   |   |   |   |   |   |--- truncated branch of depth 8\n",
      "|   |   |   |   |   |   |   |   |   |   |--- feature_0 >  0.09\n",
      "|   |   |   |   |   |   |   |   |   |   |   |--- truncated branch of depth 3\n",
      "|   |   |   |   |   |   |   |   |--- feature_7 >  0.05\n",
      "|   |   |   |   |   |   |   |   |   |--- feature_6 <= 0.81\n",
      "|   |   |   |   |   |   |   |   |   |   |--- feature_6 <= 0.45\n",
      "|   |   |   |   |   |   |   |   |   |   |   |--- truncated branch of depth 2\n",
      "|   |   |   |   |   |   |   |   |   |   |--- feature_6 >  0.45\n",
      "|   |   |   |   |   |   |   |   |   |   |   |--- class: 0\n",
      "|   |   |   |   |   |   |   |   |   |--- feature_6 >  0.81\n",
      "|   |   |   |   |   |   |   |   |   |   |--- class: 1\n",
      "|   |   |   |   |   |   |   |--- feature_2 >  0.36\n",
      "|   |   |   |   |   |   |   |   |--- feature_1 <= 0.02\n",
      "|   |   |   |   |   |   |   |   |   |--- feature_2 <= 0.41\n",
      "|   |   |   |   |   |   |   |   |   |   |--- class: 1\n",
      "|   |   |   |   |   |   |   |   |   |--- feature_2 >  0.41\n",
      "|   |   |   |   |   |   |   |   |   |   |--- class: 0\n",
      "|   |   |   |   |   |   |   |   |--- feature_1 >  0.02\n",
      "|   |   |   |   |   |   |   |   |   |--- feature_3 <= 1.50\n",
      "|   |   |   |   |   |   |   |   |   |   |--- class: 1\n",
      "|   |   |   |   |   |   |   |   |   |--- feature_3 >  1.50\n",
      "|   |   |   |   |   |   |   |   |   |   |--- feature_0 <= 0.08\n",
      "|   |   |   |   |   |   |   |   |   |   |   |--- class: 0\n",
      "|   |   |   |   |   |   |   |   |   |   |--- feature_0 >  0.08\n",
      "|   |   |   |   |   |   |   |   |   |   |   |--- class: 1\n",
      "|   |   |   |   |   |   |--- feature_3 >  2.50\n",
      "|   |   |   |   |   |   |   |--- feature_6 <= 0.73\n",
      "|   |   |   |   |   |   |   |   |--- feature_9 <= 0.50\n",
      "|   |   |   |   |   |   |   |   |   |--- feature_2 <= 0.23\n",
      "|   |   |   |   |   |   |   |   |   |   |--- feature_4 <= 2.50\n",
      "|   |   |   |   |   |   |   |   |   |   |   |--- truncated branch of depth 2\n",
      "|   |   |   |   |   |   |   |   |   |   |--- feature_4 >  2.50\n",
      "|   |   |   |   |   |   |   |   |   |   |   |--- class: 0\n",
      "|   |   |   |   |   |   |   |   |   |--- feature_2 >  0.23\n",
      "|   |   |   |   |   |   |   |   |   |   |--- feature_1 <= 0.09\n",
      "|   |   |   |   |   |   |   |   |   |   |   |--- truncated branch of depth 4\n",
      "|   |   |   |   |   |   |   |   |   |   |--- feature_1 >  0.09\n",
      "|   |   |   |   |   |   |   |   |   |   |   |--- class: 0\n",
      "|   |   |   |   |   |   |   |   |--- feature_9 >  0.50\n",
      "|   |   |   |   |   |   |   |   |   |--- feature_0 <= 0.10\n",
      "|   |   |   |   |   |   |   |   |   |   |--- feature_0 <= 0.08\n",
      "|   |   |   |   |   |   |   |   |   |   |   |--- truncated branch of depth 6\n",
      "|   |   |   |   |   |   |   |   |   |   |--- feature_0 >  0.08\n",
      "|   |   |   |   |   |   |   |   |   |   |   |--- truncated branch of depth 2\n",
      "|   |   |   |   |   |   |   |   |   |--- feature_0 >  0.10\n",
      "|   |   |   |   |   |   |   |   |   |   |--- class: 0\n",
      "|   |   |   |   |   |   |   |--- feature_6 >  0.73\n",
      "|   |   |   |   |   |   |   |   |--- feature_9 <= 0.50\n",
      "|   |   |   |   |   |   |   |   |   |--- feature_5 <= 1.50\n",
      "|   |   |   |   |   |   |   |   |   |   |--- feature_7 <= 0.05\n",
      "|   |   |   |   |   |   |   |   |   |   |   |--- truncated branch of depth 4\n",
      "|   |   |   |   |   |   |   |   |   |   |--- feature_7 >  0.05\n",
      "|   |   |   |   |   |   |   |   |   |   |   |--- class: 0\n",
      "|   |   |   |   |   |   |   |   |   |--- feature_5 >  1.50\n",
      "|   |   |   |   |   |   |   |   |   |   |--- class: 0\n",
      "|   |   |   |   |   |   |   |   |--- feature_9 >  0.50\n",
      "|   |   |   |   |   |   |   |   |   |--- feature_0 <= 0.07\n",
      "|   |   |   |   |   |   |   |   |   |   |--- class: 0\n",
      "|   |   |   |   |   |   |   |   |   |--- feature_0 >  0.07\n",
      "|   |   |   |   |   |   |   |   |   |   |--- feature_0 <= 0.07\n",
      "|   |   |   |   |   |   |   |   |   |   |   |--- truncated branch of depth 4\n",
      "|   |   |   |   |   |   |   |   |   |   |--- feature_0 >  0.07\n",
      "|   |   |   |   |   |   |   |   |   |   |   |--- truncated branch of depth 7\n",
      "|   |   |   |   |   |--- feature_5 >  2.50\n",
      "|   |   |   |   |   |   |--- feature_7 <= 0.08\n",
      "|   |   |   |   |   |   |   |--- feature_1 <= 0.05\n",
      "|   |   |   |   |   |   |   |   |--- feature_1 <= 0.00\n",
      "|   |   |   |   |   |   |   |   |   |--- feature_0 <= 0.08\n",
      "|   |   |   |   |   |   |   |   |   |   |--- feature_2 <= 0.33\n",
      "|   |   |   |   |   |   |   |   |   |   |   |--- truncated branch of depth 2\n",
      "|   |   |   |   |   |   |   |   |   |   |--- feature_2 >  0.33\n",
      "|   |   |   |   |   |   |   |   |   |   |   |--- class: 0\n",
      "|   |   |   |   |   |   |   |   |   |--- feature_0 >  0.08\n",
      "|   |   |   |   |   |   |   |   |   |   |--- class: 1\n",
      "|   |   |   |   |   |   |   |   |--- feature_1 >  0.00\n",
      "|   |   |   |   |   |   |   |   |   |--- feature_2 <= 0.17\n",
      "|   |   |   |   |   |   |   |   |   |   |--- feature_5 <= 3.50\n",
      "|   |   |   |   |   |   |   |   |   |   |   |--- truncated branch of depth 4\n",
      "|   |   |   |   |   |   |   |   |   |   |--- feature_5 >  3.50\n",
      "|   |   |   |   |   |   |   |   |   |   |   |--- truncated branch of depth 3\n",
      "|   |   |   |   |   |   |   |   |   |--- feature_2 >  0.17\n",
      "|   |   |   |   |   |   |   |   |   |   |--- feature_0 <= 0.10\n",
      "|   |   |   |   |   |   |   |   |   |   |   |--- truncated branch of depth 8\n",
      "|   |   |   |   |   |   |   |   |   |   |--- feature_0 >  0.10\n",
      "|   |   |   |   |   |   |   |   |   |   |   |--- truncated branch of depth 2\n",
      "|   |   |   |   |   |   |   |--- feature_1 >  0.05\n",
      "|   |   |   |   |   |   |   |   |--- feature_6 <= 0.77\n",
      "|   |   |   |   |   |   |   |   |   |--- feature_7 <= 0.05\n",
      "|   |   |   |   |   |   |   |   |   |   |--- feature_3 <= 8.50\n",
      "|   |   |   |   |   |   |   |   |   |   |   |--- truncated branch of depth 10\n",
      "|   |   |   |   |   |   |   |   |   |   |--- feature_3 >  8.50\n",
      "|   |   |   |   |   |   |   |   |   |   |   |--- truncated branch of depth 5\n",
      "|   |   |   |   |   |   |   |   |   |--- feature_7 >  0.05\n",
      "|   |   |   |   |   |   |   |   |   |   |--- class: 0\n",
      "|   |   |   |   |   |   |   |   |--- feature_6 >  0.77\n",
      "|   |   |   |   |   |   |   |   |   |--- feature_0 <= 0.10\n",
      "|   |   |   |   |   |   |   |   |   |   |--- feature_2 <= 0.59\n",
      "|   |   |   |   |   |   |   |   |   |   |   |--- truncated branch of depth 8\n",
      "|   |   |   |   |   |   |   |   |   |   |--- feature_2 >  0.59\n",
      "|   |   |   |   |   |   |   |   |   |   |   |--- class: 0\n",
      "|   |   |   |   |   |   |   |   |   |--- feature_0 >  0.10\n",
      "|   |   |   |   |   |   |   |   |   |   |--- class: 0\n",
      "|   |   |   |   |   |   |--- feature_7 >  0.08\n",
      "|   |   |   |   |   |   |   |--- class: 0\n",
      "|   |   |   |--- feature_9 >  1.50\n",
      "|   |   |   |   |--- feature_2 <= 0.01\n",
      "|   |   |   |   |   |--- class: 0\n",
      "|   |   |   |   |--- feature_2 >  0.01\n",
      "|   |   |   |   |   |--- feature_1 <= 0.00\n",
      "|   |   |   |   |   |   |--- feature_0 <= 0.07\n",
      "|   |   |   |   |   |   |   |--- feature_5 <= 1.50\n",
      "|   |   |   |   |   |   |   |   |--- feature_2 <= 0.42\n",
      "|   |   |   |   |   |   |   |   |   |--- class: 1\n",
      "|   |   |   |   |   |   |   |   |--- feature_2 >  0.42\n",
      "|   |   |   |   |   |   |   |   |   |--- class: 0\n",
      "|   |   |   |   |   |   |   |--- feature_5 >  1.50\n",
      "|   |   |   |   |   |   |   |   |--- feature_0 <= 0.04\n",
      "|   |   |   |   |   |   |   |   |   |--- feature_2 <= 0.46\n",
      "|   |   |   |   |   |   |   |   |   |   |--- class: 0\n",
      "|   |   |   |   |   |   |   |   |   |--- feature_2 >  0.46\n",
      "|   |   |   |   |   |   |   |   |   |   |--- class: 1\n",
      "|   |   |   |   |   |   |   |   |--- feature_0 >  0.04\n",
      "|   |   |   |   |   |   |   |   |   |--- class: 1\n",
      "|   |   |   |   |   |   |--- feature_0 >  0.07\n",
      "|   |   |   |   |   |   |   |--- feature_5 <= 1.50\n",
      "|   |   |   |   |   |   |   |   |--- class: 0\n",
      "|   |   |   |   |   |   |   |--- feature_5 >  1.50\n",
      "|   |   |   |   |   |   |   |   |--- feature_2 <= 0.30\n",
      "|   |   |   |   |   |   |   |   |   |--- feature_0 <= 0.09\n",
      "|   |   |   |   |   |   |   |   |   |   |--- class: 0\n",
      "|   |   |   |   |   |   |   |   |   |--- feature_0 >  0.09\n",
      "|   |   |   |   |   |   |   |   |   |   |--- class: 1\n",
      "|   |   |   |   |   |   |   |   |--- feature_2 >  0.30\n",
      "|   |   |   |   |   |   |   |   |   |--- class: 1\n",
      "|   |   |   |   |   |--- feature_1 >  0.00\n",
      "|   |   |   |   |   |   |--- feature_6 <= 0.78\n",
      "|   |   |   |   |   |   |   |--- feature_2 <= 0.24\n",
      "|   |   |   |   |   |   |   |   |--- feature_7 <= 0.10\n",
      "|   |   |   |   |   |   |   |   |   |--- feature_6 <= 0.49\n",
      "|   |   |   |   |   |   |   |   |   |   |--- feature_0 <= 0.04\n",
      "|   |   |   |   |   |   |   |   |   |   |   |--- truncated branch of depth 2\n",
      "|   |   |   |   |   |   |   |   |   |   |--- feature_0 >  0.04\n",
      "|   |   |   |   |   |   |   |   |   |   |   |--- truncated branch of depth 9\n",
      "|   |   |   |   |   |   |   |   |   |--- feature_6 >  0.49\n",
      "|   |   |   |   |   |   |   |   |   |   |--- feature_7 <= 0.03\n",
      "|   |   |   |   |   |   |   |   |   |   |   |--- truncated branch of depth 6\n",
      "|   |   |   |   |   |   |   |   |   |   |--- feature_7 >  0.03\n",
      "|   |   |   |   |   |   |   |   |   |   |   |--- class: 1\n",
      "|   |   |   |   |   |   |   |   |--- feature_7 >  0.10\n",
      "|   |   |   |   |   |   |   |   |   |--- class: 0\n",
      "|   |   |   |   |   |   |   |--- feature_2 >  0.24\n",
      "|   |   |   |   |   |   |   |   |--- feature_7 <= 0.01\n",
      "|   |   |   |   |   |   |   |   |   |--- feature_0 <= 0.10\n",
      "|   |   |   |   |   |   |   |   |   |   |--- feature_6 <= 0.71\n",
      "|   |   |   |   |   |   |   |   |   |   |   |--- class: 1\n",
      "|   |   |   |   |   |   |   |   |   |   |--- feature_6 >  0.71\n",
      "|   |   |   |   |   |   |   |   |   |   |   |--- truncated branch of depth 2\n",
      "|   |   |   |   |   |   |   |   |   |--- feature_0 >  0.10\n",
      "|   |   |   |   |   |   |   |   |   |   |--- class: 0\n",
      "|   |   |   |   |   |   |   |   |--- feature_7 >  0.01\n",
      "|   |   |   |   |   |   |   |   |   |--- feature_1 <= 0.08\n",
      "|   |   |   |   |   |   |   |   |   |   |--- feature_1 <= 0.00\n",
      "|   |   |   |   |   |   |   |   |   |   |   |--- class: 0\n",
      "|   |   |   |   |   |   |   |   |   |   |--- feature_1 >  0.00\n",
      "|   |   |   |   |   |   |   |   |   |   |   |--- truncated branch of depth 7\n",
      "|   |   |   |   |   |   |   |   |   |--- feature_1 >  0.08\n",
      "|   |   |   |   |   |   |   |   |   |   |--- feature_1 <= 0.09\n",
      "|   |   |   |   |   |   |   |   |   |   |   |--- truncated branch of depth 5\n",
      "|   |   |   |   |   |   |   |   |   |   |--- feature_1 >  0.09\n",
      "|   |   |   |   |   |   |   |   |   |   |   |--- class: 1\n",
      "|   |   |   |   |   |   |--- feature_6 >  0.78\n",
      "|   |   |   |   |   |   |   |--- feature_2 <= 0.22\n",
      "|   |   |   |   |   |   |   |   |--- feature_0 <= 0.07\n",
      "|   |   |   |   |   |   |   |   |   |--- feature_2 <= 0.06\n",
      "|   |   |   |   |   |   |   |   |   |   |--- feature_2 <= 0.04\n",
      "|   |   |   |   |   |   |   |   |   |   |   |--- class: 1\n",
      "|   |   |   |   |   |   |   |   |   |   |--- feature_2 >  0.04\n",
      "|   |   |   |   |   |   |   |   |   |   |   |--- class: 0\n",
      "|   |   |   |   |   |   |   |   |   |--- feature_2 >  0.06\n",
      "|   |   |   |   |   |   |   |   |   |   |--- feature_5 <= 3.50\n",
      "|   |   |   |   |   |   |   |   |   |   |   |--- class: 1\n",
      "|   |   |   |   |   |   |   |   |   |   |--- feature_5 >  3.50\n",
      "|   |   |   |   |   |   |   |   |   |   |   |--- truncated branch of depth 3\n",
      "|   |   |   |   |   |   |   |   |--- feature_0 >  0.07\n",
      "|   |   |   |   |   |   |   |   |   |--- feature_5 <= 1.00\n",
      "|   |   |   |   |   |   |   |   |   |   |--- class: 0\n",
      "|   |   |   |   |   |   |   |   |   |--- feature_5 >  1.00\n",
      "|   |   |   |   |   |   |   |   |   |   |--- feature_2 <= 0.10\n",
      "|   |   |   |   |   |   |   |   |   |   |   |--- truncated branch of depth 2\n",
      "|   |   |   |   |   |   |   |   |   |   |--- feature_2 >  0.10\n",
      "|   |   |   |   |   |   |   |   |   |   |   |--- class: 1\n",
      "|   |   |   |   |   |   |   |--- feature_2 >  0.22\n",
      "|   |   |   |   |   |   |   |   |--- feature_1 <= 0.06\n",
      "|   |   |   |   |   |   |   |   |   |--- feature_1 <= 0.02\n",
      "|   |   |   |   |   |   |   |   |   |   |--- feature_5 <= 1.00\n",
      "|   |   |   |   |   |   |   |   |   |   |   |--- truncated branch of depth 2\n",
      "|   |   |   |   |   |   |   |   |   |   |--- feature_5 >  1.00\n",
      "|   |   |   |   |   |   |   |   |   |   |   |--- class: 0\n",
      "|   |   |   |   |   |   |   |   |   |--- feature_1 >  0.02\n",
      "|   |   |   |   |   |   |   |   |   |   |--- feature_0 <= 0.03\n",
      "|   |   |   |   |   |   |   |   |   |   |   |--- truncated branch of depth 2\n",
      "|   |   |   |   |   |   |   |   |   |   |--- feature_0 >  0.03\n",
      "|   |   |   |   |   |   |   |   |   |   |   |--- truncated branch of depth 9\n",
      "|   |   |   |   |   |   |   |   |--- feature_1 >  0.06\n",
      "|   |   |   |   |   |   |   |   |   |--- feature_2 <= 0.26\n",
      "|   |   |   |   |   |   |   |   |   |   |--- class: 1\n",
      "|   |   |   |   |   |   |   |   |   |--- feature_2 >  0.26\n",
      "|   |   |   |   |   |   |   |   |   |   |--- class: 0\n",
      "|   |--- feature_1 >  0.13\n",
      "|   |   |--- feature_6 <= 0.09\n",
      "|   |   |   |--- feature_0 <= 0.04\n",
      "|   |   |   |   |--- feature_0 <= 0.02\n",
      "|   |   |   |   |   |--- feature_3 <= 7.00\n",
      "|   |   |   |   |   |   |--- feature_5 <= 2.50\n",
      "|   |   |   |   |   |   |   |--- class: 0\n",
      "|   |   |   |   |   |   |--- feature_5 >  2.50\n",
      "|   |   |   |   |   |   |   |--- feature_1 <= 0.24\n",
      "|   |   |   |   |   |   |   |   |--- class: 0\n",
      "|   |   |   |   |   |   |   |--- feature_1 >  0.24\n",
      "|   |   |   |   |   |   |   |   |--- class: 1\n",
      "|   |   |   |   |   |--- feature_3 >  7.00\n",
      "|   |   |   |   |   |   |--- feature_2 <= 0.43\n",
      "|   |   |   |   |   |   |   |--- feature_2 <= 0.13\n",
      "|   |   |   |   |   |   |   |   |--- feature_0 <= 0.02\n",
      "|   |   |   |   |   |   |   |   |   |--- class: 0\n",
      "|   |   |   |   |   |   |   |   |--- feature_0 >  0.02\n",
      "|   |   |   |   |   |   |   |   |   |--- class: 1\n",
      "|   |   |   |   |   |   |   |--- feature_2 >  0.13\n",
      "|   |   |   |   |   |   |   |   |--- feature_0 <= 0.01\n",
      "|   |   |   |   |   |   |   |   |   |--- feature_0 <= 0.01\n",
      "|   |   |   |   |   |   |   |   |   |   |--- class: 0\n",
      "|   |   |   |   |   |   |   |   |   |--- feature_0 >  0.01\n",
      "|   |   |   |   |   |   |   |   |   |   |--- class: 1\n",
      "|   |   |   |   |   |   |   |   |--- feature_0 >  0.01\n",
      "|   |   |   |   |   |   |   |   |   |--- class: 0\n",
      "|   |   |   |   |   |   |--- feature_2 >  0.43\n",
      "|   |   |   |   |   |   |   |--- class: 1\n",
      "|   |   |   |   |--- feature_0 >  0.02\n",
      "|   |   |   |   |   |--- feature_8 <= 1.50\n",
      "|   |   |   |   |   |   |--- feature_0 <= 0.03\n",
      "|   |   |   |   |   |   |   |--- feature_3 <= 3.50\n",
      "|   |   |   |   |   |   |   |   |--- class: 0\n",
      "|   |   |   |   |   |   |   |--- feature_3 >  3.50\n",
      "|   |   |   |   |   |   |   |   |--- feature_1 <= 0.25\n",
      "|   |   |   |   |   |   |   |   |   |--- feature_5 <= 3.50\n",
      "|   |   |   |   |   |   |   |   |   |   |--- feature_3 <= 9.50\n",
      "|   |   |   |   |   |   |   |   |   |   |   |--- truncated branch of depth 3\n",
      "|   |   |   |   |   |   |   |   |   |   |--- feature_3 >  9.50\n",
      "|   |   |   |   |   |   |   |   |   |   |   |--- class: 1\n",
      "|   |   |   |   |   |   |   |   |   |--- feature_5 >  3.50\n",
      "|   |   |   |   |   |   |   |   |   |   |--- feature_0 <= 0.02\n",
      "|   |   |   |   |   |   |   |   |   |   |   |--- truncated branch of depth 4\n",
      "|   |   |   |   |   |   |   |   |   |   |--- feature_0 >  0.02\n",
      "|   |   |   |   |   |   |   |   |   |   |   |--- class: 1\n",
      "|   |   |   |   |   |   |   |   |--- feature_1 >  0.25\n",
      "|   |   |   |   |   |   |   |   |   |--- class: 1\n",
      "|   |   |   |   |   |   |--- feature_0 >  0.03\n",
      "|   |   |   |   |   |   |   |--- feature_3 <= 2.00\n",
      "|   |   |   |   |   |   |   |   |--- class: 1\n",
      "|   |   |   |   |   |   |   |--- feature_3 >  2.00\n",
      "|   |   |   |   |   |   |   |   |--- feature_0 <= 0.03\n",
      "|   |   |   |   |   |   |   |   |   |--- class: 1\n",
      "|   |   |   |   |   |   |   |   |--- feature_0 >  0.03\n",
      "|   |   |   |   |   |   |   |   |   |--- feature_5 <= 0.50\n",
      "|   |   |   |   |   |   |   |   |   |   |--- class: 1\n",
      "|   |   |   |   |   |   |   |   |   |--- feature_5 >  0.50\n",
      "|   |   |   |   |   |   |   |   |   |   |--- class: 0\n",
      "|   |   |   |   |   |--- feature_8 >  1.50\n",
      "|   |   |   |   |   |   |--- feature_1 <= 0.26\n",
      "|   |   |   |   |   |   |   |--- feature_0 <= 0.02\n",
      "|   |   |   |   |   |   |   |   |--- feature_0 <= 0.02\n",
      "|   |   |   |   |   |   |   |   |   |--- class: 0\n",
      "|   |   |   |   |   |   |   |   |--- feature_0 >  0.02\n",
      "|   |   |   |   |   |   |   |   |   |--- class: 1\n",
      "|   |   |   |   |   |   |   |--- feature_0 >  0.02\n",
      "|   |   |   |   |   |   |   |   |--- class: 0\n",
      "|   |   |   |   |   |   |--- feature_1 >  0.26\n",
      "|   |   |   |   |   |   |   |--- feature_2 <= 0.12\n",
      "|   |   |   |   |   |   |   |   |--- class: 0\n",
      "|   |   |   |   |   |   |   |--- feature_2 >  0.12\n",
      "|   |   |   |   |   |   |   |   |--- feature_7 <= 0.12\n",
      "|   |   |   |   |   |   |   |   |   |--- feature_7 <= 0.01\n",
      "|   |   |   |   |   |   |   |   |   |   |--- feature_5 <= 2.00\n",
      "|   |   |   |   |   |   |   |   |   |   |   |--- class: 0\n",
      "|   |   |   |   |   |   |   |   |   |   |--- feature_5 >  2.00\n",
      "|   |   |   |   |   |   |   |   |   |   |   |--- class: 1\n",
      "|   |   |   |   |   |   |   |   |   |--- feature_7 >  0.01\n",
      "|   |   |   |   |   |   |   |   |   |   |--- class: 1\n",
      "|   |   |   |   |   |   |   |   |--- feature_7 >  0.12\n",
      "|   |   |   |   |   |   |   |   |   |--- class: 0\n",
      "|   |   |   |--- feature_0 >  0.04\n",
      "|   |   |   |   |--- feature_3 <= 9.50\n",
      "|   |   |   |   |   |--- feature_1 <= 0.21\n",
      "|   |   |   |   |   |   |--- feature_5 <= 1.50\n",
      "|   |   |   |   |   |   |   |--- feature_2 <= 0.63\n",
      "|   |   |   |   |   |   |   |   |--- feature_0 <= 0.06\n",
      "|   |   |   |   |   |   |   |   |   |--- feature_7 <= 0.01\n",
      "|   |   |   |   |   |   |   |   |   |   |--- class: 0\n",
      "|   |   |   |   |   |   |   |   |   |--- feature_7 >  0.01\n",
      "|   |   |   |   |   |   |   |   |   |   |--- feature_0 <= 0.05\n",
      "|   |   |   |   |   |   |   |   |   |   |   |--- class: 1\n",
      "|   |   |   |   |   |   |   |   |   |   |--- feature_0 >  0.05\n",
      "|   |   |   |   |   |   |   |   |   |   |   |--- class: 0\n",
      "|   |   |   |   |   |   |   |   |--- feature_0 >  0.06\n",
      "|   |   |   |   |   |   |   |   |   |--- class: 1\n",
      "|   |   |   |   |   |   |   |--- feature_2 >  0.63\n",
      "|   |   |   |   |   |   |   |   |--- class: 0\n",
      "|   |   |   |   |   |   |--- feature_5 >  1.50\n",
      "|   |   |   |   |   |   |   |--- feature_2 <= 0.47\n",
      "|   |   |   |   |   |   |   |   |--- feature_0 <= 0.04\n",
      "|   |   |   |   |   |   |   |   |   |--- feature_3 <= 4.00\n",
      "|   |   |   |   |   |   |   |   |   |   |--- class: 0\n",
      "|   |   |   |   |   |   |   |   |   |--- feature_3 >  4.00\n",
      "|   |   |   |   |   |   |   |   |   |   |--- class: 1\n",
      "|   |   |   |   |   |   |   |   |--- feature_0 >  0.04\n",
      "|   |   |   |   |   |   |   |   |   |--- class: 0\n",
      "|   |   |   |   |   |   |   |--- feature_2 >  0.47\n",
      "|   |   |   |   |   |   |   |   |--- class: 1\n",
      "|   |   |   |   |   |--- feature_1 >  0.21\n",
      "|   |   |   |   |   |   |--- feature_3 <= 2.50\n",
      "|   |   |   |   |   |   |   |--- class: 1\n",
      "|   |   |   |   |   |   |--- feature_3 >  2.50\n",
      "|   |   |   |   |   |   |   |--- feature_3 <= 6.50\n",
      "|   |   |   |   |   |   |   |   |--- feature_9 <= 0.50\n",
      "|   |   |   |   |   |   |   |   |   |--- class: 0\n",
      "|   |   |   |   |   |   |   |   |--- feature_9 >  0.50\n",
      "|   |   |   |   |   |   |   |   |   |--- feature_5 <= 3.50\n",
      "|   |   |   |   |   |   |   |   |   |   |--- feature_0 <= 0.07\n",
      "|   |   |   |   |   |   |   |   |   |   |   |--- truncated branch of depth 3\n",
      "|   |   |   |   |   |   |   |   |   |   |--- feature_0 >  0.07\n",
      "|   |   |   |   |   |   |   |   |   |   |   |--- class: 1\n",
      "|   |   |   |   |   |   |   |   |   |--- feature_5 >  3.50\n",
      "|   |   |   |   |   |   |   |   |   |   |--- class: 1\n",
      "|   |   |   |   |   |   |   |--- feature_3 >  6.50\n",
      "|   |   |   |   |   |   |   |   |--- feature_1 <= 0.23\n",
      "|   |   |   |   |   |   |   |   |   |--- feature_4 <= 5.50\n",
      "|   |   |   |   |   |   |   |   |   |   |--- feature_5 <= 3.50\n",
      "|   |   |   |   |   |   |   |   |   |   |   |--- class: 1\n",
      "|   |   |   |   |   |   |   |   |   |   |--- feature_5 >  3.50\n",
      "|   |   |   |   |   |   |   |   |   |   |   |--- class: 0\n",
      "|   |   |   |   |   |   |   |   |   |--- feature_4 >  5.50\n",
      "|   |   |   |   |   |   |   |   |   |   |--- class: 0\n",
      "|   |   |   |   |   |   |   |   |--- feature_1 >  0.23\n",
      "|   |   |   |   |   |   |   |   |   |--- class: 1\n",
      "|   |   |   |   |--- feature_3 >  9.50\n",
      "|   |   |   |   |   |--- feature_0 <= 0.04\n",
      "|   |   |   |   |   |   |--- class: 1\n",
      "|   |   |   |   |   |--- feature_0 >  0.04\n",
      "|   |   |   |   |   |   |--- class: 0\n",
      "|   |   |--- feature_6 >  0.09\n",
      "|   |   |   |--- feature_1 <= 0.40\n",
      "|   |   |   |   |--- feature_6 <= 0.31\n",
      "|   |   |   |   |   |--- feature_0 <= 0.06\n",
      "|   |   |   |   |   |   |--- feature_1 <= 0.16\n",
      "|   |   |   |   |   |   |   |--- feature_9 <= 1.50\n",
      "|   |   |   |   |   |   |   |   |--- feature_1 <= 0.15\n",
      "|   |   |   |   |   |   |   |   |   |--- feature_5 <= 2.50\n",
      "|   |   |   |   |   |   |   |   |   |   |--- feature_0 <= 0.05\n",
      "|   |   |   |   |   |   |   |   |   |   |   |--- truncated branch of depth 8\n",
      "|   |   |   |   |   |   |   |   |   |   |--- feature_0 >  0.05\n",
      "|   |   |   |   |   |   |   |   |   |   |   |--- truncated branch of depth 8\n",
      "|   |   |   |   |   |   |   |   |   |--- feature_5 >  2.50\n",
      "|   |   |   |   |   |   |   |   |   |   |--- feature_2 <= 0.13\n",
      "|   |   |   |   |   |   |   |   |   |   |   |--- truncated branch of depth 5\n",
      "|   |   |   |   |   |   |   |   |   |   |--- feature_2 >  0.13\n",
      "|   |   |   |   |   |   |   |   |   |   |   |--- truncated branch of depth 7\n",
      "|   |   |   |   |   |   |   |   |--- feature_1 >  0.15\n",
      "|   |   |   |   |   |   |   |   |   |--- feature_0 <= 0.05\n",
      "|   |   |   |   |   |   |   |   |   |   |--- class: 0\n",
      "|   |   |   |   |   |   |   |   |   |--- feature_0 >  0.05\n",
      "|   |   |   |   |   |   |   |   |   |   |--- feature_0 <= 0.05\n",
      "|   |   |   |   |   |   |   |   |   |   |   |--- truncated branch of depth 3\n",
      "|   |   |   |   |   |   |   |   |   |   |--- feature_0 >  0.05\n",
      "|   |   |   |   |   |   |   |   |   |   |   |--- class: 0\n",
      "|   |   |   |   |   |   |   |--- feature_9 >  1.50\n",
      "|   |   |   |   |   |   |   |   |--- feature_1 <= 0.15\n",
      "|   |   |   |   |   |   |   |   |   |--- feature_2 <= 0.45\n",
      "|   |   |   |   |   |   |   |   |   |   |--- feature_1 <= 0.14\n",
      "|   |   |   |   |   |   |   |   |   |   |   |--- truncated branch of depth 5\n",
      "|   |   |   |   |   |   |   |   |   |   |--- feature_1 >  0.14\n",
      "|   |   |   |   |   |   |   |   |   |   |   |--- truncated branch of depth 4\n",
      "|   |   |   |   |   |   |   |   |   |--- feature_2 >  0.45\n",
      "|   |   |   |   |   |   |   |   |   |   |--- class: 1\n",
      "|   |   |   |   |   |   |   |   |--- feature_1 >  0.15\n",
      "|   |   |   |   |   |   |   |   |   |--- class: 0\n",
      "|   |   |   |   |   |   |--- feature_1 >  0.16\n",
      "|   |   |   |   |   |   |   |--- feature_2 <= 0.12\n",
      "|   |   |   |   |   |   |   |   |--- feature_0 <= 0.03\n",
      "|   |   |   |   |   |   |   |   |   |--- feature_7 <= 0.01\n",
      "|   |   |   |   |   |   |   |   |   |   |--- feature_1 <= 0.17\n",
      "|   |   |   |   |   |   |   |   |   |   |   |--- class: 0\n",
      "|   |   |   |   |   |   |   |   |   |   |--- feature_1 >  0.17\n",
      "|   |   |   |   |   |   |   |   |   |   |   |--- truncated branch of depth 7\n",
      "|   |   |   |   |   |   |   |   |   |--- feature_7 >  0.01\n",
      "|   |   |   |   |   |   |   |   |   |   |--- feature_4 <= 2.50\n",
      "|   |   |   |   |   |   |   |   |   |   |   |--- truncated branch of depth 2\n",
      "|   |   |   |   |   |   |   |   |   |   |--- feature_4 >  2.50\n",
      "|   |   |   |   |   |   |   |   |   |   |   |--- class: 0\n",
      "|   |   |   |   |   |   |   |   |--- feature_0 >  0.03\n",
      "|   |   |   |   |   |   |   |   |   |--- feature_4 <= 6.50\n",
      "|   |   |   |   |   |   |   |   |   |   |--- feature_2 <= 0.07\n",
      "|   |   |   |   |   |   |   |   |   |   |   |--- class: 0\n",
      "|   |   |   |   |   |   |   |   |   |   |--- feature_2 >  0.07\n",
      "|   |   |   |   |   |   |   |   |   |   |   |--- truncated branch of depth 6\n",
      "|   |   |   |   |   |   |   |   |   |--- feature_4 >  6.50\n",
      "|   |   |   |   |   |   |   |   |   |   |--- class: 1\n",
      "|   |   |   |   |   |   |   |--- feature_2 >  0.12\n",
      "|   |   |   |   |   |   |   |   |--- feature_2 <= 0.52\n",
      "|   |   |   |   |   |   |   |   |   |--- feature_0 <= 0.02\n",
      "|   |   |   |   |   |   |   |   |   |   |--- feature_7 <= 0.01\n",
      "|   |   |   |   |   |   |   |   |   |   |   |--- truncated branch of depth 8\n",
      "|   |   |   |   |   |   |   |   |   |   |--- feature_7 >  0.01\n",
      "|   |   |   |   |   |   |   |   |   |   |   |--- class: 0\n",
      "|   |   |   |   |   |   |   |   |   |--- feature_0 >  0.02\n",
      "|   |   |   |   |   |   |   |   |   |   |--- feature_4 <= 5.50\n",
      "|   |   |   |   |   |   |   |   |   |   |   |--- truncated branch of depth 10\n",
      "|   |   |   |   |   |   |   |   |   |   |--- feature_4 >  5.50\n",
      "|   |   |   |   |   |   |   |   |   |   |   |--- truncated branch of depth 15\n",
      "|   |   |   |   |   |   |   |   |--- feature_2 >  0.52\n",
      "|   |   |   |   |   |   |   |   |   |--- feature_0 <= 0.03\n",
      "|   |   |   |   |   |   |   |   |   |   |--- feature_5 <= 3.50\n",
      "|   |   |   |   |   |   |   |   |   |   |   |--- truncated branch of depth 4\n",
      "|   |   |   |   |   |   |   |   |   |   |--- feature_5 >  3.50\n",
      "|   |   |   |   |   |   |   |   |   |   |   |--- truncated branch of depth 2\n",
      "|   |   |   |   |   |   |   |   |   |--- feature_0 >  0.03\n",
      "|   |   |   |   |   |   |   |   |   |   |--- feature_0 <= 0.03\n",
      "|   |   |   |   |   |   |   |   |   |   |   |--- truncated branch of depth 2\n",
      "|   |   |   |   |   |   |   |   |   |   |--- feature_0 >  0.03\n",
      "|   |   |   |   |   |   |   |   |   |   |   |--- truncated branch of depth 7\n",
      "|   |   |   |   |   |--- feature_0 >  0.06\n",
      "|   |   |   |   |   |   |--- feature_2 <= 0.52\n",
      "|   |   |   |   |   |   |   |--- feature_1 <= 0.16\n",
      "|   |   |   |   |   |   |   |   |--- feature_1 <= 0.15\n",
      "|   |   |   |   |   |   |   |   |   |--- feature_7 <= 0.01\n",
      "|   |   |   |   |   |   |   |   |   |   |--- feature_0 <= 0.08\n",
      "|   |   |   |   |   |   |   |   |   |   |   |--- truncated branch of depth 8\n",
      "|   |   |   |   |   |   |   |   |   |   |--- feature_0 >  0.08\n",
      "|   |   |   |   |   |   |   |   |   |   |   |--- truncated branch of depth 8\n",
      "|   |   |   |   |   |   |   |   |   |--- feature_7 >  0.01\n",
      "|   |   |   |   |   |   |   |   |   |   |--- feature_7 <= 0.14\n",
      "|   |   |   |   |   |   |   |   |   |   |   |--- truncated branch of depth 7\n",
      "|   |   |   |   |   |   |   |   |   |   |--- feature_7 >  0.14\n",
      "|   |   |   |   |   |   |   |   |   |   |   |--- class: 1\n",
      "|   |   |   |   |   |   |   |   |--- feature_1 >  0.15\n",
      "|   |   |   |   |   |   |   |   |   |--- feature_0 <= 0.09\n",
      "|   |   |   |   |   |   |   |   |   |   |--- feature_0 <= 0.08\n",
      "|   |   |   |   |   |   |   |   |   |   |   |--- truncated branch of depth 6\n",
      "|   |   |   |   |   |   |   |   |   |   |--- feature_0 >  0.08\n",
      "|   |   |   |   |   |   |   |   |   |   |   |--- truncated branch of depth 4\n",
      "|   |   |   |   |   |   |   |   |   |--- feature_0 >  0.09\n",
      "|   |   |   |   |   |   |   |   |   |   |--- feature_1 <= 0.15\n",
      "|   |   |   |   |   |   |   |   |   |   |   |--- truncated branch of depth 7\n",
      "|   |   |   |   |   |   |   |   |   |   |--- feature_1 >  0.15\n",
      "|   |   |   |   |   |   |   |   |   |   |   |--- truncated branch of depth 9\n",
      "|   |   |   |   |   |   |   |--- feature_1 >  0.16\n",
      "|   |   |   |   |   |   |   |   |--- feature_1 <= 0.17\n",
      "|   |   |   |   |   |   |   |   |   |--- feature_6 <= 0.17\n",
      "|   |   |   |   |   |   |   |   |   |   |--- feature_3 <= 8.50\n",
      "|   |   |   |   |   |   |   |   |   |   |   |--- truncated branch of depth 8\n",
      "|   |   |   |   |   |   |   |   |   |   |--- feature_3 >  8.50\n",
      "|   |   |   |   |   |   |   |   |   |   |   |--- class: 1\n",
      "|   |   |   |   |   |   |   |   |   |--- feature_6 >  0.17\n",
      "|   |   |   |   |   |   |   |   |   |   |--- feature_0 <= 0.06\n",
      "|   |   |   |   |   |   |   |   |   |   |   |--- class: 1\n",
      "|   |   |   |   |   |   |   |   |   |   |--- feature_0 >  0.06\n",
      "|   |   |   |   |   |   |   |   |   |   |   |--- truncated branch of depth 7\n",
      "|   |   |   |   |   |   |   |   |--- feature_1 >  0.17\n",
      "|   |   |   |   |   |   |   |   |   |--- feature_2 <= 0.17\n",
      "|   |   |   |   |   |   |   |   |   |   |--- feature_5 <= 2.50\n",
      "|   |   |   |   |   |   |   |   |   |   |   |--- truncated branch of depth 5\n",
      "|   |   |   |   |   |   |   |   |   |   |--- feature_5 >  2.50\n",
      "|   |   |   |   |   |   |   |   |   |   |   |--- truncated branch of depth 4\n",
      "|   |   |   |   |   |   |   |   |   |--- feature_2 >  0.17\n",
      "|   |   |   |   |   |   |   |   |   |   |--- feature_9 <= 1.50\n",
      "|   |   |   |   |   |   |   |   |   |   |   |--- truncated branch of depth 10\n",
      "|   |   |   |   |   |   |   |   |   |   |--- feature_9 >  1.50\n",
      "|   |   |   |   |   |   |   |   |   |   |   |--- truncated branch of depth 2\n",
      "|   |   |   |   |   |   |--- feature_2 >  0.52\n",
      "|   |   |   |   |   |   |   |--- feature_1 <= 0.15\n",
      "|   |   |   |   |   |   |   |   |--- class: 0\n",
      "|   |   |   |   |   |   |   |--- feature_1 >  0.15\n",
      "|   |   |   |   |   |   |   |   |--- class: 1\n",
      "|   |   |   |   |--- feature_6 >  0.31\n",
      "|   |   |   |   |   |--- feature_0 <= 0.03\n",
      "|   |   |   |   |   |   |--- feature_9 <= 1.50\n",
      "|   |   |   |   |   |   |   |--- feature_0 <= 0.02\n",
      "|   |   |   |   |   |   |   |   |--- class: 0\n",
      "|   |   |   |   |   |   |   |--- feature_0 >  0.02\n",
      "|   |   |   |   |   |   |   |   |--- feature_0 <= 0.02\n",
      "|   |   |   |   |   |   |   |   |   |--- class: 1\n",
      "|   |   |   |   |   |   |   |   |--- feature_0 >  0.02\n",
      "|   |   |   |   |   |   |   |   |   |--- feature_7 <= 0.08\n",
      "|   |   |   |   |   |   |   |   |   |   |--- feature_2 <= 0.62\n",
      "|   |   |   |   |   |   |   |   |   |   |   |--- truncated branch of depth 13\n",
      "|   |   |   |   |   |   |   |   |   |   |--- feature_2 >  0.62\n",
      "|   |   |   |   |   |   |   |   |   |   |   |--- truncated branch of depth 2\n",
      "|   |   |   |   |   |   |   |   |   |--- feature_7 >  0.08\n",
      "|   |   |   |   |   |   |   |   |   |   |--- feature_5 <= 2.00\n",
      "|   |   |   |   |   |   |   |   |   |   |   |--- class: 1\n",
      "|   |   |   |   |   |   |   |   |   |   |--- feature_5 >  2.00\n",
      "|   |   |   |   |   |   |   |   |   |   |   |--- class: 0\n",
      "|   |   |   |   |   |   |--- feature_9 >  1.50\n",
      "|   |   |   |   |   |   |   |--- feature_2 <= 0.33\n",
      "|   |   |   |   |   |   |   |   |--- feature_0 <= 0.03\n",
      "|   |   |   |   |   |   |   |   |   |--- feature_4 <= 2.50\n",
      "|   |   |   |   |   |   |   |   |   |   |--- class: 0\n",
      "|   |   |   |   |   |   |   |   |   |--- feature_4 >  2.50\n",
      "|   |   |   |   |   |   |   |   |   |   |--- feature_1 <= 0.14\n",
      "|   |   |   |   |   |   |   |   |   |   |   |--- truncated branch of depth 2\n",
      "|   |   |   |   |   |   |   |   |   |   |--- feature_1 >  0.14\n",
      "|   |   |   |   |   |   |   |   |   |   |   |--- class: 1\n",
      "|   |   |   |   |   |   |   |   |--- feature_0 >  0.03\n",
      "|   |   |   |   |   |   |   |   |   |--- class: 0\n",
      "|   |   |   |   |   |   |   |--- feature_2 >  0.33\n",
      "|   |   |   |   |   |   |   |   |--- class: 0\n",
      "|   |   |   |   |   |--- feature_0 >  0.03\n",
      "|   |   |   |   |   |   |--- feature_2 <= 0.24\n",
      "|   |   |   |   |   |   |   |--- feature_0 <= 0.09\n",
      "|   |   |   |   |   |   |   |   |--- feature_0 <= 0.05\n",
      "|   |   |   |   |   |   |   |   |   |--- feature_0 <= 0.04\n",
      "|   |   |   |   |   |   |   |   |   |   |--- feature_3 <= 7.50\n",
      "|   |   |   |   |   |   |   |   |   |   |   |--- truncated branch of depth 4\n",
      "|   |   |   |   |   |   |   |   |   |   |--- feature_3 >  7.50\n",
      "|   |   |   |   |   |   |   |   |   |   |   |--- class: 1\n",
      "|   |   |   |   |   |   |   |   |   |--- feature_0 >  0.04\n",
      "|   |   |   |   |   |   |   |   |   |   |--- feature_4 <= 6.50\n",
      "|   |   |   |   |   |   |   |   |   |   |   |--- truncated branch of depth 11\n",
      "|   |   |   |   |   |   |   |   |   |   |--- feature_4 >  6.50\n",
      "|   |   |   |   |   |   |   |   |   |   |   |--- truncated branch of depth 2\n",
      "|   |   |   |   |   |   |   |   |--- feature_0 >  0.05\n",
      "|   |   |   |   |   |   |   |   |   |--- feature_0 <= 0.07\n",
      "|   |   |   |   |   |   |   |   |   |   |--- feature_0 <= 0.06\n",
      "|   |   |   |   |   |   |   |   |   |   |   |--- truncated branch of depth 6\n",
      "|   |   |   |   |   |   |   |   |   |   |--- feature_0 >  0.06\n",
      "|   |   |   |   |   |   |   |   |   |   |   |--- truncated branch of depth 5\n",
      "|   |   |   |   |   |   |   |   |   |--- feature_0 >  0.07\n",
      "|   |   |   |   |   |   |   |   |   |   |--- feature_0 <= 0.08\n",
      "|   |   |   |   |   |   |   |   |   |   |   |--- truncated branch of depth 5\n",
      "|   |   |   |   |   |   |   |   |   |   |--- feature_0 >  0.08\n",
      "|   |   |   |   |   |   |   |   |   |   |   |--- class: 1\n",
      "|   |   |   |   |   |   |   |--- feature_0 >  0.09\n",
      "|   |   |   |   |   |   |   |   |--- feature_8 <= 1.50\n",
      "|   |   |   |   |   |   |   |   |   |--- class: 0\n",
      "|   |   |   |   |   |   |   |   |--- feature_8 >  1.50\n",
      "|   |   |   |   |   |   |   |   |   |--- feature_3 <= 2.50\n",
      "|   |   |   |   |   |   |   |   |   |   |--- feature_5 <= 0.50\n",
      "|   |   |   |   |   |   |   |   |   |   |   |--- class: 0\n",
      "|   |   |   |   |   |   |   |   |   |   |--- feature_5 >  0.50\n",
      "|   |   |   |   |   |   |   |   |   |   |   |--- class: 1\n",
      "|   |   |   |   |   |   |   |   |   |--- feature_3 >  2.50\n",
      "|   |   |   |   |   |   |   |   |   |   |--- class: 0\n",
      "|   |   |   |   |   |   |--- feature_2 >  0.24\n",
      "|   |   |   |   |   |   |   |--- feature_4 <= 2.50\n",
      "|   |   |   |   |   |   |   |   |--- feature_1 <= 0.14\n",
      "|   |   |   |   |   |   |   |   |   |--- feature_4 <= 1.00\n",
      "|   |   |   |   |   |   |   |   |   |   |--- feature_7 <= 0.04\n",
      "|   |   |   |   |   |   |   |   |   |   |   |--- truncated branch of depth 5\n",
      "|   |   |   |   |   |   |   |   |   |   |--- feature_7 >  0.04\n",
      "|   |   |   |   |   |   |   |   |   |   |   |--- class: 0\n",
      "|   |   |   |   |   |   |   |   |   |--- feature_4 >  1.00\n",
      "|   |   |   |   |   |   |   |   |   |   |--- class: 0\n",
      "|   |   |   |   |   |   |   |   |--- feature_1 >  0.14\n",
      "|   |   |   |   |   |   |   |   |   |--- feature_7 <= 0.01\n",
      "|   |   |   |   |   |   |   |   |   |   |--- feature_0 <= 0.05\n",
      "|   |   |   |   |   |   |   |   |   |   |   |--- class: 0\n",
      "|   |   |   |   |   |   |   |   |   |   |--- feature_0 >  0.05\n",
      "|   |   |   |   |   |   |   |   |   |   |   |--- truncated branch of depth 3\n",
      "|   |   |   |   |   |   |   |   |   |--- feature_7 >  0.01\n",
      "|   |   |   |   |   |   |   |   |   |   |--- class: 1\n",
      "|   |   |   |   |   |   |   |--- feature_4 >  2.50\n",
      "|   |   |   |   |   |   |   |   |--- feature_9 <= 1.50\n",
      "|   |   |   |   |   |   |   |   |   |--- feature_0 <= 0.10\n",
      "|   |   |   |   |   |   |   |   |   |   |--- feature_1 <= 0.14\n",
      "|   |   |   |   |   |   |   |   |   |   |   |--- class: 0\n",
      "|   |   |   |   |   |   |   |   |   |   |--- feature_1 >  0.14\n",
      "|   |   |   |   |   |   |   |   |   |   |   |--- truncated branch of depth 10\n",
      "|   |   |   |   |   |   |   |   |   |--- feature_0 >  0.10\n",
      "|   |   |   |   |   |   |   |   |   |   |--- class: 1\n",
      "|   |   |   |   |   |   |   |   |--- feature_9 >  1.50\n",
      "|   |   |   |   |   |   |   |   |   |--- feature_3 <= 0.50\n",
      "|   |   |   |   |   |   |   |   |   |   |--- class: 1\n",
      "|   |   |   |   |   |   |   |   |   |--- feature_3 >  0.50\n",
      "|   |   |   |   |   |   |   |   |   |   |--- feature_8 <= 1.50\n",
      "|   |   |   |   |   |   |   |   |   |   |   |--- class: 0\n",
      "|   |   |   |   |   |   |   |   |   |   |--- feature_8 >  1.50\n",
      "|   |   |   |   |   |   |   |   |   |   |   |--- class: 1\n",
      "|   |   |   |--- feature_1 >  0.40\n",
      "|   |   |   |   |--- feature_0 <= 0.09\n",
      "|   |   |   |   |   |--- feature_1 <= 0.99\n",
      "|   |   |   |   |   |   |--- feature_0 <= 0.07\n",
      "|   |   |   |   |   |   |   |--- feature_1 <= 0.99\n",
      "|   |   |   |   |   |   |   |   |--- feature_1 <= 0.95\n",
      "|   |   |   |   |   |   |   |   |   |--- feature_1 <= 0.81\n",
      "|   |   |   |   |   |   |   |   |   |   |--- feature_0 <= 0.06\n",
      "|   |   |   |   |   |   |   |   |   |   |   |--- truncated branch of depth 5\n",
      "|   |   |   |   |   |   |   |   |   |   |--- feature_0 >  0.06\n",
      "|   |   |   |   |   |   |   |   |   |   |   |--- truncated branch of depth 9\n",
      "|   |   |   |   |   |   |   |   |   |--- feature_1 >  0.81\n",
      "|   |   |   |   |   |   |   |   |   |   |--- feature_0 <= 0.03\n",
      "|   |   |   |   |   |   |   |   |   |   |   |--- truncated branch of depth 5\n",
      "|   |   |   |   |   |   |   |   |   |   |--- feature_0 >  0.03\n",
      "|   |   |   |   |   |   |   |   |   |   |   |--- truncated branch of depth 5\n",
      "|   |   |   |   |   |   |   |   |--- feature_1 >  0.95\n",
      "|   |   |   |   |   |   |   |   |   |--- feature_0 <= 0.06\n",
      "|   |   |   |   |   |   |   |   |   |   |--- feature_1 <= 0.98\n",
      "|   |   |   |   |   |   |   |   |   |   |   |--- truncated branch of depth 12\n",
      "|   |   |   |   |   |   |   |   |   |   |--- feature_1 >  0.98\n",
      "|   |   |   |   |   |   |   |   |   |   |   |--- truncated branch of depth 9\n",
      "|   |   |   |   |   |   |   |   |   |--- feature_0 >  0.06\n",
      "|   |   |   |   |   |   |   |   |   |   |--- feature_0 <= 0.06\n",
      "|   |   |   |   |   |   |   |   |   |   |   |--- truncated branch of depth 2\n",
      "|   |   |   |   |   |   |   |   |   |   |--- feature_0 >  0.06\n",
      "|   |   |   |   |   |   |   |   |   |   |   |--- truncated branch of depth 9\n",
      "|   |   |   |   |   |   |   |--- feature_1 >  0.99\n",
      "|   |   |   |   |   |   |   |   |--- feature_3 <= 2.00\n",
      "|   |   |   |   |   |   |   |   |   |--- class: 1\n",
      "|   |   |   |   |   |   |   |   |--- feature_3 >  2.00\n",
      "|   |   |   |   |   |   |   |   |   |--- class: 0\n",
      "|   |   |   |   |   |   |--- feature_0 >  0.07\n",
      "|   |   |   |   |   |   |   |--- feature_1 <= 0.98\n",
      "|   |   |   |   |   |   |   |   |--- feature_6 <= 0.52\n",
      "|   |   |   |   |   |   |   |   |   |--- feature_6 <= 0.41\n",
      "|   |   |   |   |   |   |   |   |   |   |--- feature_2 <= 0.52\n",
      "|   |   |   |   |   |   |   |   |   |   |   |--- truncated branch of depth 9\n",
      "|   |   |   |   |   |   |   |   |   |   |--- feature_2 >  0.52\n",
      "|   |   |   |   |   |   |   |   |   |   |   |--- truncated branch of depth 2\n",
      "|   |   |   |   |   |   |   |   |   |--- feature_6 >  0.41\n",
      "|   |   |   |   |   |   |   |   |   |   |--- class: 1\n",
      "|   |   |   |   |   |   |   |   |--- feature_6 >  0.52\n",
      "|   |   |   |   |   |   |   |   |   |--- feature_4 <= 5.50\n",
      "|   |   |   |   |   |   |   |   |   |   |--- class: 0\n",
      "|   |   |   |   |   |   |   |   |   |--- feature_4 >  5.50\n",
      "|   |   |   |   |   |   |   |   |   |   |--- feature_7 <= 0.08\n",
      "|   |   |   |   |   |   |   |   |   |   |   |--- truncated branch of depth 5\n",
      "|   |   |   |   |   |   |   |   |   |   |--- feature_7 >  0.08\n",
      "|   |   |   |   |   |   |   |   |   |   |   |--- truncated branch of depth 3\n",
      "|   |   |   |   |   |   |   |--- feature_1 >  0.98\n",
      "|   |   |   |   |   |   |   |   |--- feature_2 <= 0.09\n",
      "|   |   |   |   |   |   |   |   |   |--- class: 1\n",
      "|   |   |   |   |   |   |   |   |--- feature_2 >  0.09\n",
      "|   |   |   |   |   |   |   |   |   |--- feature_6 <= 0.50\n",
      "|   |   |   |   |   |   |   |   |   |   |--- class: 0\n",
      "|   |   |   |   |   |   |   |   |   |--- feature_6 >  0.50\n",
      "|   |   |   |   |   |   |   |   |   |   |--- feature_7 <= 0.01\n",
      "|   |   |   |   |   |   |   |   |   |   |   |--- truncated branch of depth 4\n",
      "|   |   |   |   |   |   |   |   |   |   |--- feature_7 >  0.01\n",
      "|   |   |   |   |   |   |   |   |   |   |   |--- truncated branch of depth 12\n",
      "|   |   |   |   |   |--- feature_1 >  0.99\n",
      "|   |   |   |   |   |   |--- feature_2 <= 0.32\n",
      "|   |   |   |   |   |   |   |--- class: 1\n",
      "|   |   |   |   |   |   |--- feature_2 >  0.32\n",
      "|   |   |   |   |   |   |   |--- class: 0\n",
      "|   |   |   |   |--- feature_0 >  0.09\n",
      "|   |   |   |   |   |--- feature_4 <= 3.50\n",
      "|   |   |   |   |   |   |--- feature_9 <= 1.50\n",
      "|   |   |   |   |   |   |   |--- feature_6 <= 0.61\n",
      "|   |   |   |   |   |   |   |   |--- feature_7 <= 0.14\n",
      "|   |   |   |   |   |   |   |   |   |--- feature_3 <= 3.50\n",
      "|   |   |   |   |   |   |   |   |   |   |--- feature_2 <= 0.18\n",
      "|   |   |   |   |   |   |   |   |   |   |   |--- truncated branch of depth 6\n",
      "|   |   |   |   |   |   |   |   |   |   |--- feature_2 >  0.18\n",
      "|   |   |   |   |   |   |   |   |   |   |   |--- truncated branch of depth 8\n",
      "|   |   |   |   |   |   |   |   |   |--- feature_3 >  3.50\n",
      "|   |   |   |   |   |   |   |   |   |   |--- feature_5 <= 3.50\n",
      "|   |   |   |   |   |   |   |   |   |   |   |--- class: 0\n",
      "|   |   |   |   |   |   |   |   |   |   |--- feature_5 >  3.50\n",
      "|   |   |   |   |   |   |   |   |   |   |   |--- truncated branch of depth 4\n",
      "|   |   |   |   |   |   |   |   |--- feature_7 >  0.14\n",
      "|   |   |   |   |   |   |   |   |   |--- feature_2 <= 0.14\n",
      "|   |   |   |   |   |   |   |   |   |   |--- feature_1 <= 0.98\n",
      "|   |   |   |   |   |   |   |   |   |   |   |--- class: 1\n",
      "|   |   |   |   |   |   |   |   |   |   |--- feature_1 >  0.98\n",
      "|   |   |   |   |   |   |   |   |   |   |   |--- class: 0\n",
      "|   |   |   |   |   |   |   |   |   |--- feature_2 >  0.14\n",
      "|   |   |   |   |   |   |   |   |   |   |--- class: 0\n",
      "|   |   |   |   |   |   |   |--- feature_6 >  0.61\n",
      "|   |   |   |   |   |   |   |   |--- feature_4 <= 1.00\n",
      "|   |   |   |   |   |   |   |   |   |--- feature_5 <= 3.50\n",
      "|   |   |   |   |   |   |   |   |   |   |--- feature_2 <= 0.43\n",
      "|   |   |   |   |   |   |   |   |   |   |   |--- truncated branch of depth 3\n",
      "|   |   |   |   |   |   |   |   |   |   |--- feature_2 >  0.43\n",
      "|   |   |   |   |   |   |   |   |   |   |   |--- class: 0\n",
      "|   |   |   |   |   |   |   |   |   |--- feature_5 >  3.50\n",
      "|   |   |   |   |   |   |   |   |   |   |--- class: 1\n",
      "|   |   |   |   |   |   |   |   |--- feature_4 >  1.00\n",
      "|   |   |   |   |   |   |   |   |   |--- feature_0 <= 0.11\n",
      "|   |   |   |   |   |   |   |   |   |   |--- class: 0\n",
      "|   |   |   |   |   |   |   |   |   |--- feature_0 >  0.11\n",
      "|   |   |   |   |   |   |   |   |   |   |--- feature_1 <= 0.98\n",
      "|   |   |   |   |   |   |   |   |   |   |   |--- class: 1\n",
      "|   |   |   |   |   |   |   |   |   |   |--- feature_1 >  0.98\n",
      "|   |   |   |   |   |   |   |   |   |   |   |--- class: 0\n",
      "|   |   |   |   |   |   |--- feature_9 >  1.50\n",
      "|   |   |   |   |   |   |   |--- class: 1\n",
      "|   |   |   |   |   |--- feature_4 >  3.50\n",
      "|   |   |   |   |   |   |--- feature_0 <= 0.09\n",
      "|   |   |   |   |   |   |   |--- feature_0 <= 0.09\n",
      "|   |   |   |   |   |   |   |   |--- feature_7 <= 0.06\n",
      "|   |   |   |   |   |   |   |   |   |--- class: 0\n",
      "|   |   |   |   |   |   |   |   |--- feature_7 >  0.06\n",
      "|   |   |   |   |   |   |   |   |   |--- class: 1\n",
      "|   |   |   |   |   |   |   |--- feature_0 >  0.09\n",
      "|   |   |   |   |   |   |   |   |--- class: 1\n",
      "|   |   |   |   |   |   |--- feature_0 >  0.09\n",
      "|   |   |   |   |   |   |   |--- feature_4 <= 4.50\n",
      "|   |   |   |   |   |   |   |   |--- class: 1\n",
      "|   |   |   |   |   |   |   |--- feature_4 >  4.50\n",
      "|   |   |   |   |   |   |   |   |--- feature_0 <= 0.11\n",
      "|   |   |   |   |   |   |   |   |   |--- feature_1 <= 0.98\n",
      "|   |   |   |   |   |   |   |   |   |   |--- feature_5 <= 3.50\n",
      "|   |   |   |   |   |   |   |   |   |   |   |--- truncated branch of depth 10\n",
      "|   |   |   |   |   |   |   |   |   |   |--- feature_5 >  3.50\n",
      "|   |   |   |   |   |   |   |   |   |   |   |--- class: 0\n",
      "|   |   |   |   |   |   |   |   |   |--- feature_1 >  0.98\n",
      "|   |   |   |   |   |   |   |   |   |   |--- feature_7 <= 0.05\n",
      "|   |   |   |   |   |   |   |   |   |   |   |--- truncated branch of depth 9\n",
      "|   |   |   |   |   |   |   |   |   |   |--- feature_7 >  0.05\n",
      "|   |   |   |   |   |   |   |   |   |   |   |--- class: 0\n",
      "|   |   |   |   |   |   |   |   |--- feature_0 >  0.11\n",
      "|   |   |   |   |   |   |   |   |   |--- feature_6 <= 0.35\n",
      "|   |   |   |   |   |   |   |   |   |   |--- class: 0\n",
      "|   |   |   |   |   |   |   |   |   |--- feature_6 >  0.35\n",
      "|   |   |   |   |   |   |   |   |   |   |--- feature_6 <= 0.49\n",
      "|   |   |   |   |   |   |   |   |   |   |   |--- class: 1\n",
      "|   |   |   |   |   |   |   |   |   |   |--- feature_6 >  0.49\n",
      "|   |   |   |   |   |   |   |   |   |   |   |--- truncated branch of depth 2\n",
      "|--- feature_0 >  0.11\n",
      "|   |--- feature_1 <= 0.17\n",
      "|   |   |--- feature_9 <= 1.50\n",
      "|   |   |   |--- feature_1 <= 0.16\n",
      "|   |   |   |   |--- feature_1 <= 0.14\n",
      "|   |   |   |   |   |--- feature_6 <= 0.78\n",
      "|   |   |   |   |   |   |--- feature_1 <= 0.09\n",
      "|   |   |   |   |   |   |   |--- feature_0 <= 0.11\n",
      "|   |   |   |   |   |   |   |   |--- feature_3 <= 0.50\n",
      "|   |   |   |   |   |   |   |   |   |--- feature_1 <= 0.07\n",
      "|   |   |   |   |   |   |   |   |   |   |--- class: 1\n",
      "|   |   |   |   |   |   |   |   |   |--- feature_1 >  0.07\n",
      "|   |   |   |   |   |   |   |   |   |   |--- class: 0\n",
      "|   |   |   |   |   |   |   |   |--- feature_3 >  0.50\n",
      "|   |   |   |   |   |   |   |   |   |--- class: 0\n",
      "|   |   |   |   |   |   |   |--- feature_0 >  0.11\n",
      "|   |   |   |   |   |   |   |   |--- feature_7 <= 0.01\n",
      "|   |   |   |   |   |   |   |   |   |--- feature_0 <= 0.64\n",
      "|   |   |   |   |   |   |   |   |   |   |--- feature_3 <= 0.50\n",
      "|   |   |   |   |   |   |   |   |   |   |   |--- truncated branch of depth 3\n",
      "|   |   |   |   |   |   |   |   |   |   |--- feature_3 >  0.50\n",
      "|   |   |   |   |   |   |   |   |   |   |   |--- truncated branch of depth 4\n",
      "|   |   |   |   |   |   |   |   |   |--- feature_0 >  0.64\n",
      "|   |   |   |   |   |   |   |   |   |   |--- class: 0\n",
      "|   |   |   |   |   |   |   |   |--- feature_7 >  0.01\n",
      "|   |   |   |   |   |   |   |   |   |--- feature_6 <= 0.70\n",
      "|   |   |   |   |   |   |   |   |   |   |--- feature_0 <= 0.17\n",
      "|   |   |   |   |   |   |   |   |   |   |   |--- truncated branch of depth 6\n",
      "|   |   |   |   |   |   |   |   |   |   |--- feature_0 >  0.17\n",
      "|   |   |   |   |   |   |   |   |   |   |   |--- truncated branch of depth 5\n",
      "|   |   |   |   |   |   |   |   |   |--- feature_6 >  0.70\n",
      "|   |   |   |   |   |   |   |   |   |   |--- class: 1\n",
      "|   |   |   |   |   |   |--- feature_1 >  0.09\n",
      "|   |   |   |   |   |   |   |--- feature_2 <= 0.13\n",
      "|   |   |   |   |   |   |   |   |--- feature_7 <= 0.03\n",
      "|   |   |   |   |   |   |   |   |   |--- feature_4 <= 4.00\n",
      "|   |   |   |   |   |   |   |   |   |   |--- class: 0\n",
      "|   |   |   |   |   |   |   |   |   |--- feature_4 >  4.00\n",
      "|   |   |   |   |   |   |   |   |   |   |--- feature_3 <= 2.50\n",
      "|   |   |   |   |   |   |   |   |   |   |   |--- class: 0\n",
      "|   |   |   |   |   |   |   |   |   |   |--- feature_3 >  2.50\n",
      "|   |   |   |   |   |   |   |   |   |   |   |--- truncated branch of depth 2\n",
      "|   |   |   |   |   |   |   |   |--- feature_7 >  0.03\n",
      "|   |   |   |   |   |   |   |   |   |--- feature_2 <= 0.10\n",
      "|   |   |   |   |   |   |   |   |   |   |--- feature_3 <= 0.50\n",
      "|   |   |   |   |   |   |   |   |   |   |   |--- class: 0\n",
      "|   |   |   |   |   |   |   |   |   |   |--- feature_3 >  0.50\n",
      "|   |   |   |   |   |   |   |   |   |   |   |--- class: 1\n",
      "|   |   |   |   |   |   |   |   |   |--- feature_2 >  0.10\n",
      "|   |   |   |   |   |   |   |   |   |   |--- feature_3 <= 0.50\n",
      "|   |   |   |   |   |   |   |   |   |   |   |--- class: 1\n",
      "|   |   |   |   |   |   |   |   |   |   |--- feature_3 >  0.50\n",
      "|   |   |   |   |   |   |   |   |   |   |   |--- class: 0\n",
      "|   |   |   |   |   |   |   |--- feature_2 >  0.13\n",
      "|   |   |   |   |   |   |   |   |--- feature_9 <= 0.50\n",
      "|   |   |   |   |   |   |   |   |   |--- feature_2 <= 0.45\n",
      "|   |   |   |   |   |   |   |   |   |   |--- feature_2 <= 0.30\n",
      "|   |   |   |   |   |   |   |   |   |   |   |--- truncated branch of depth 5\n",
      "|   |   |   |   |   |   |   |   |   |   |--- feature_2 >  0.30\n",
      "|   |   |   |   |   |   |   |   |   |   |   |--- truncated branch of depth 3\n",
      "|   |   |   |   |   |   |   |   |   |--- feature_2 >  0.45\n",
      "|   |   |   |   |   |   |   |   |   |   |--- class: 0\n",
      "|   |   |   |   |   |   |   |   |--- feature_9 >  0.50\n",
      "|   |   |   |   |   |   |   |   |   |--- feature_0 <= 0.19\n",
      "|   |   |   |   |   |   |   |   |   |   |--- feature_2 <= 0.15\n",
      "|   |   |   |   |   |   |   |   |   |   |   |--- class: 1\n",
      "|   |   |   |   |   |   |   |   |   |   |--- feature_2 >  0.15\n",
      "|   |   |   |   |   |   |   |   |   |   |   |--- truncated branch of depth 11\n",
      "|   |   |   |   |   |   |   |   |   |--- feature_0 >  0.19\n",
      "|   |   |   |   |   |   |   |   |   |   |--- feature_7 <= 0.12\n",
      "|   |   |   |   |   |   |   |   |   |   |   |--- class: 1\n",
      "|   |   |   |   |   |   |   |   |   |   |--- feature_7 >  0.12\n",
      "|   |   |   |   |   |   |   |   |   |   |   |--- truncated branch of depth 2\n",
      "|   |   |   |   |   |--- feature_6 >  0.78\n",
      "|   |   |   |   |   |   |--- feature_2 <= 0.09\n",
      "|   |   |   |   |   |   |   |--- class: 1\n",
      "|   |   |   |   |   |   |--- feature_2 >  0.09\n",
      "|   |   |   |   |   |   |   |--- feature_2 <= 0.57\n",
      "|   |   |   |   |   |   |   |   |--- feature_4 <= 0.50\n",
      "|   |   |   |   |   |   |   |   |   |--- class: 0\n",
      "|   |   |   |   |   |   |   |   |--- feature_4 >  0.50\n",
      "|   |   |   |   |   |   |   |   |   |--- feature_5 <= 3.50\n",
      "|   |   |   |   |   |   |   |   |   |   |--- feature_2 <= 0.10\n",
      "|   |   |   |   |   |   |   |   |   |   |   |--- class: 0\n",
      "|   |   |   |   |   |   |   |   |   |   |--- feature_2 >  0.10\n",
      "|   |   |   |   |   |   |   |   |   |   |   |--- truncated branch of depth 10\n",
      "|   |   |   |   |   |   |   |   |   |--- feature_5 >  3.50\n",
      "|   |   |   |   |   |   |   |   |   |   |--- feature_0 <= 0.12\n",
      "|   |   |   |   |   |   |   |   |   |   |   |--- class: 1\n",
      "|   |   |   |   |   |   |   |   |   |   |--- feature_0 >  0.12\n",
      "|   |   |   |   |   |   |   |   |   |   |   |--- truncated branch of depth 6\n",
      "|   |   |   |   |   |   |   |--- feature_2 >  0.57\n",
      "|   |   |   |   |   |   |   |   |--- feature_6 <= 0.94\n",
      "|   |   |   |   |   |   |   |   |   |--- class: 1\n",
      "|   |   |   |   |   |   |   |   |--- feature_6 >  0.94\n",
      "|   |   |   |   |   |   |   |   |   |--- feature_4 <= 0.50\n",
      "|   |   |   |   |   |   |   |   |   |   |--- class: 1\n",
      "|   |   |   |   |   |   |   |   |   |--- feature_4 >  0.50\n",
      "|   |   |   |   |   |   |   |   |   |   |--- class: 0\n",
      "|   |   |   |   |--- feature_1 >  0.14\n",
      "|   |   |   |   |   |--- feature_0 <= 0.17\n",
      "|   |   |   |   |   |   |--- feature_7 <= 0.05\n",
      "|   |   |   |   |   |   |   |--- feature_4 <= 2.50\n",
      "|   |   |   |   |   |   |   |   |--- feature_4 <= 0.50\n",
      "|   |   |   |   |   |   |   |   |   |--- feature_8 <= 1.50\n",
      "|   |   |   |   |   |   |   |   |   |   |--- feature_0 <= 0.13\n",
      "|   |   |   |   |   |   |   |   |   |   |   |--- class: 0\n",
      "|   |   |   |   |   |   |   |   |   |   |--- feature_0 >  0.13\n",
      "|   |   |   |   |   |   |   |   |   |   |   |--- truncated branch of depth 3\n",
      "|   |   |   |   |   |   |   |   |   |--- feature_8 >  1.50\n",
      "|   |   |   |   |   |   |   |   |   |   |--- class: 0\n",
      "|   |   |   |   |   |   |   |   |--- feature_4 >  0.50\n",
      "|   |   |   |   |   |   |   |   |   |--- feature_8 <= 1.50\n",
      "|   |   |   |   |   |   |   |   |   |   |--- feature_7 <= 0.01\n",
      "|   |   |   |   |   |   |   |   |   |   |   |--- truncated branch of depth 3\n",
      "|   |   |   |   |   |   |   |   |   |   |--- feature_7 >  0.01\n",
      "|   |   |   |   |   |   |   |   |   |   |   |--- truncated branch of depth 8\n",
      "|   |   |   |   |   |   |   |   |   |--- feature_8 >  1.50\n",
      "|   |   |   |   |   |   |   |   |   |   |--- feature_1 <= 0.16\n",
      "|   |   |   |   |   |   |   |   |   |   |   |--- truncated branch of depth 3\n",
      "|   |   |   |   |   |   |   |   |   |   |--- feature_1 >  0.16\n",
      "|   |   |   |   |   |   |   |   |   |   |   |--- class: 0\n",
      "|   |   |   |   |   |   |   |--- feature_4 >  2.50\n",
      "|   |   |   |   |   |   |   |   |--- feature_5 <= 3.50\n",
      "|   |   |   |   |   |   |   |   |   |--- feature_0 <= 0.15\n",
      "|   |   |   |   |   |   |   |   |   |   |--- feature_2 <= 0.39\n",
      "|   |   |   |   |   |   |   |   |   |   |   |--- truncated branch of depth 7\n",
      "|   |   |   |   |   |   |   |   |   |   |--- feature_2 >  0.39\n",
      "|   |   |   |   |   |   |   |   |   |   |   |--- truncated branch of depth 2\n",
      "|   |   |   |   |   |   |   |   |   |--- feature_0 >  0.15\n",
      "|   |   |   |   |   |   |   |   |   |   |--- feature_9 <= 0.50\n",
      "|   |   |   |   |   |   |   |   |   |   |   |--- class: 0\n",
      "|   |   |   |   |   |   |   |   |   |   |--- feature_9 >  0.50\n",
      "|   |   |   |   |   |   |   |   |   |   |   |--- truncated branch of depth 4\n",
      "|   |   |   |   |   |   |   |   |--- feature_5 >  3.50\n",
      "|   |   |   |   |   |   |   |   |   |--- feature_3 <= 5.00\n",
      "|   |   |   |   |   |   |   |   |   |   |--- feature_7 <= 0.01\n",
      "|   |   |   |   |   |   |   |   |   |   |   |--- truncated branch of depth 5\n",
      "|   |   |   |   |   |   |   |   |   |   |--- feature_7 >  0.01\n",
      "|   |   |   |   |   |   |   |   |   |   |   |--- class: 0\n",
      "|   |   |   |   |   |   |   |   |   |--- feature_3 >  5.00\n",
      "|   |   |   |   |   |   |   |   |   |   |--- feature_7 <= 0.01\n",
      "|   |   |   |   |   |   |   |   |   |   |   |--- truncated branch of depth 4\n",
      "|   |   |   |   |   |   |   |   |   |   |--- feature_7 >  0.01\n",
      "|   |   |   |   |   |   |   |   |   |   |   |--- class: 1\n",
      "|   |   |   |   |   |   |--- feature_7 >  0.05\n",
      "|   |   |   |   |   |   |   |--- feature_8 <= 0.50\n",
      "|   |   |   |   |   |   |   |   |--- feature_3 <= 5.00\n",
      "|   |   |   |   |   |   |   |   |   |--- class: 1\n",
      "|   |   |   |   |   |   |   |   |--- feature_3 >  5.00\n",
      "|   |   |   |   |   |   |   |   |   |--- class: 0\n",
      "|   |   |   |   |   |   |   |--- feature_8 >  0.50\n",
      "|   |   |   |   |   |   |   |   |--- class: 0\n",
      "|   |   |   |   |   |--- feature_0 >  0.17\n",
      "|   |   |   |   |   |   |--- feature_4 <= 0.50\n",
      "|   |   |   |   |   |   |   |--- feature_0 <= 0.20\n",
      "|   |   |   |   |   |   |   |   |--- feature_0 <= 0.18\n",
      "|   |   |   |   |   |   |   |   |   |--- class: 0\n",
      "|   |   |   |   |   |   |   |   |--- feature_0 >  0.18\n",
      "|   |   |   |   |   |   |   |   |   |--- class: 1\n",
      "|   |   |   |   |   |   |   |--- feature_0 >  0.20\n",
      "|   |   |   |   |   |   |   |   |--- class: 0\n",
      "|   |   |   |   |   |   |--- feature_4 >  0.50\n",
      "|   |   |   |   |   |   |   |--- feature_5 <= 0.50\n",
      "|   |   |   |   |   |   |   |   |--- feature_0 <= 0.21\n",
      "|   |   |   |   |   |   |   |   |   |--- class: 0\n",
      "|   |   |   |   |   |   |   |   |--- feature_0 >  0.21\n",
      "|   |   |   |   |   |   |   |   |   |--- feature_0 <= 0.24\n",
      "|   |   |   |   |   |   |   |   |   |   |--- class: 1\n",
      "|   |   |   |   |   |   |   |   |   |--- feature_0 >  0.24\n",
      "|   |   |   |   |   |   |   |   |   |   |--- feature_2 <= 0.17\n",
      "|   |   |   |   |   |   |   |   |   |   |   |--- class: 1\n",
      "|   |   |   |   |   |   |   |   |   |   |--- feature_2 >  0.17\n",
      "|   |   |   |   |   |   |   |   |   |   |   |--- truncated branch of depth 3\n",
      "|   |   |   |   |   |   |   |--- feature_5 >  0.50\n",
      "|   |   |   |   |   |   |   |   |--- feature_2 <= 0.30\n",
      "|   |   |   |   |   |   |   |   |   |--- feature_2 <= 0.23\n",
      "|   |   |   |   |   |   |   |   |   |   |--- feature_0 <= 0.19\n",
      "|   |   |   |   |   |   |   |   |   |   |   |--- truncated branch of depth 3\n",
      "|   |   |   |   |   |   |   |   |   |   |--- feature_0 >  0.19\n",
      "|   |   |   |   |   |   |   |   |   |   |   |--- truncated branch of depth 5\n",
      "|   |   |   |   |   |   |   |   |   |--- feature_2 >  0.23\n",
      "|   |   |   |   |   |   |   |   |   |   |--- class: 1\n",
      "|   |   |   |   |   |   |   |   |--- feature_2 >  0.30\n",
      "|   |   |   |   |   |   |   |   |   |--- feature_0 <= 0.22\n",
      "|   |   |   |   |   |   |   |   |   |   |--- feature_7 <= 0.03\n",
      "|   |   |   |   |   |   |   |   |   |   |   |--- truncated branch of depth 4\n",
      "|   |   |   |   |   |   |   |   |   |   |--- feature_7 >  0.03\n",
      "|   |   |   |   |   |   |   |   |   |   |   |--- class: 1\n",
      "|   |   |   |   |   |   |   |   |   |--- feature_0 >  0.22\n",
      "|   |   |   |   |   |   |   |   |   |   |--- class: 0\n",
      "|   |   |   |--- feature_1 >  0.16\n",
      "|   |   |   |   |--- feature_3 <= 9.50\n",
      "|   |   |   |   |   |--- feature_4 <= 6.50\n",
      "|   |   |   |   |   |   |--- feature_0 <= 0.14\n",
      "|   |   |   |   |   |   |   |--- feature_0 <= 0.14\n",
      "|   |   |   |   |   |   |   |   |--- feature_4 <= 5.50\n",
      "|   |   |   |   |   |   |   |   |   |--- class: 1\n",
      "|   |   |   |   |   |   |   |   |--- feature_4 >  5.50\n",
      "|   |   |   |   |   |   |   |   |   |--- feature_0 <= 0.12\n",
      "|   |   |   |   |   |   |   |   |   |   |--- class: 1\n",
      "|   |   |   |   |   |   |   |   |   |--- feature_0 >  0.12\n",
      "|   |   |   |   |   |   |   |   |   |   |--- feature_0 <= 0.12\n",
      "|   |   |   |   |   |   |   |   |   |   |   |--- class: 0\n",
      "|   |   |   |   |   |   |   |   |   |   |--- feature_0 >  0.12\n",
      "|   |   |   |   |   |   |   |   |   |   |   |--- class: 1\n",
      "|   |   |   |   |   |   |   |--- feature_0 >  0.14\n",
      "|   |   |   |   |   |   |   |   |--- feature_2 <= 0.36\n",
      "|   |   |   |   |   |   |   |   |   |--- class: 0\n",
      "|   |   |   |   |   |   |   |   |--- feature_2 >  0.36\n",
      "|   |   |   |   |   |   |   |   |   |--- class: 1\n",
      "|   |   |   |   |   |   |--- feature_0 >  0.14\n",
      "|   |   |   |   |   |   |   |--- class: 1\n",
      "|   |   |   |   |   |--- feature_4 >  6.50\n",
      "|   |   |   |   |   |   |--- class: 0\n",
      "|   |   |   |   |--- feature_3 >  9.50\n",
      "|   |   |   |   |   |--- feature_3 <= 10.50\n",
      "|   |   |   |   |   |   |--- class: 0\n",
      "|   |   |   |   |   |--- feature_3 >  10.50\n",
      "|   |   |   |   |   |   |--- class: 1\n",
      "|   |   |--- feature_9 >  1.50\n",
      "|   |   |   |--- feature_3 <= 10.50\n",
      "|   |   |   |   |--- feature_2 <= 0.17\n",
      "|   |   |   |   |   |--- feature_0 <= 0.30\n",
      "|   |   |   |   |   |   |--- feature_1 <= 0.14\n",
      "|   |   |   |   |   |   |   |--- feature_2 <= 0.10\n",
      "|   |   |   |   |   |   |   |   |--- feature_5 <= 3.50\n",
      "|   |   |   |   |   |   |   |   |   |--- feature_1 <= 0.03\n",
      "|   |   |   |   |   |   |   |   |   |   |--- class: 0\n",
      "|   |   |   |   |   |   |   |   |   |--- feature_1 >  0.03\n",
      "|   |   |   |   |   |   |   |   |   |   |--- class: 1\n",
      "|   |   |   |   |   |   |   |   |--- feature_5 >  3.50\n",
      "|   |   |   |   |   |   |   |   |   |--- class: 0\n",
      "|   |   |   |   |   |   |   |--- feature_2 >  0.10\n",
      "|   |   |   |   |   |   |   |   |--- class: 1\n",
      "|   |   |   |   |   |   |--- feature_1 >  0.14\n",
      "|   |   |   |   |   |   |   |--- feature_1 <= 0.15\n",
      "|   |   |   |   |   |   |   |   |--- class: 0\n",
      "|   |   |   |   |   |   |   |--- feature_1 >  0.15\n",
      "|   |   |   |   |   |   |   |   |--- feature_8 <= 1.50\n",
      "|   |   |   |   |   |   |   |   |   |--- class: 0\n",
      "|   |   |   |   |   |   |   |   |--- feature_8 >  1.50\n",
      "|   |   |   |   |   |   |   |   |   |--- class: 1\n",
      "|   |   |   |   |   |--- feature_0 >  0.30\n",
      "|   |   |   |   |   |   |--- class: 0\n",
      "|   |   |   |   |--- feature_2 >  0.17\n",
      "|   |   |   |   |   |--- feature_6 <= 0.70\n",
      "|   |   |   |   |   |   |--- feature_3 <= 0.50\n",
      "|   |   |   |   |   |   |   |--- feature_4 <= 2.50\n",
      "|   |   |   |   |   |   |   |   |--- class: 0\n",
      "|   |   |   |   |   |   |   |--- feature_4 >  2.50\n",
      "|   |   |   |   |   |   |   |   |--- feature_5 <= 1.50\n",
      "|   |   |   |   |   |   |   |   |   |--- feature_4 <= 4.50\n",
      "|   |   |   |   |   |   |   |   |   |   |--- class: 1\n",
      "|   |   |   |   |   |   |   |   |   |--- feature_4 >  4.50\n",
      "|   |   |   |   |   |   |   |   |   |   |--- feature_2 <= 0.20\n",
      "|   |   |   |   |   |   |   |   |   |   |   |--- class: 1\n",
      "|   |   |   |   |   |   |   |   |   |   |--- feature_2 >  0.20\n",
      "|   |   |   |   |   |   |   |   |   |   |   |--- truncated branch of depth 2\n",
      "|   |   |   |   |   |   |   |   |--- feature_5 >  1.50\n",
      "|   |   |   |   |   |   |   |   |   |--- class: 1\n",
      "|   |   |   |   |   |   |--- feature_3 >  0.50\n",
      "|   |   |   |   |   |   |   |--- class: 1\n",
      "|   |   |   |   |   |--- feature_6 >  0.70\n",
      "|   |   |   |   |   |   |--- feature_0 <= 0.20\n",
      "|   |   |   |   |   |   |   |--- feature_1 <= 0.02\n",
      "|   |   |   |   |   |   |   |   |--- class: 0\n",
      "|   |   |   |   |   |   |   |--- feature_1 >  0.02\n",
      "|   |   |   |   |   |   |   |   |--- feature_5 <= 0.50\n",
      "|   |   |   |   |   |   |   |   |   |--- feature_7 <= 0.01\n",
      "|   |   |   |   |   |   |   |   |   |   |--- class: 0\n",
      "|   |   |   |   |   |   |   |   |   |--- feature_7 >  0.01\n",
      "|   |   |   |   |   |   |   |   |   |   |--- class: 1\n",
      "|   |   |   |   |   |   |   |   |--- feature_5 >  0.50\n",
      "|   |   |   |   |   |   |   |   |   |--- class: 1\n",
      "|   |   |   |   |   |   |--- feature_0 >  0.20\n",
      "|   |   |   |   |   |   |   |--- feature_0 <= 0.28\n",
      "|   |   |   |   |   |   |   |   |--- class: 0\n",
      "|   |   |   |   |   |   |   |--- feature_0 >  0.28\n",
      "|   |   |   |   |   |   |   |   |--- class: 1\n",
      "|   |   |   |--- feature_3 >  10.50\n",
      "|   |   |   |   |--- feature_4 <= 4.50\n",
      "|   |   |   |   |   |--- class: 0\n",
      "|   |   |   |   |--- feature_4 >  4.50\n",
      "|   |   |   |   |   |--- class: 1\n",
      "|   |--- feature_1 >  0.17\n",
      "|   |   |--- feature_0 <= 0.17\n",
      "|   |   |   |--- feature_0 <= 0.13\n",
      "|   |   |   |   |--- feature_8 <= 2.50\n",
      "|   |   |   |   |   |--- feature_2 <= 0.24\n",
      "|   |   |   |   |   |   |--- feature_1 <= 0.79\n",
      "|   |   |   |   |   |   |   |--- feature_0 <= 0.11\n",
      "|   |   |   |   |   |   |   |   |--- feature_8 <= 1.50\n",
      "|   |   |   |   |   |   |   |   |   |--- feature_6 <= 0.26\n",
      "|   |   |   |   |   |   |   |   |   |   |--- class: 0\n",
      "|   |   |   |   |   |   |   |   |   |--- feature_6 >  0.26\n",
      "|   |   |   |   |   |   |   |   |   |   |--- feature_0 <= 0.11\n",
      "|   |   |   |   |   |   |   |   |   |   |   |--- class: 0\n",
      "|   |   |   |   |   |   |   |   |   |   |--- feature_0 >  0.11\n",
      "|   |   |   |   |   |   |   |   |   |   |   |--- class: 1\n",
      "|   |   |   |   |   |   |   |   |--- feature_8 >  1.50\n",
      "|   |   |   |   |   |   |   |   |   |--- class: 1\n",
      "|   |   |   |   |   |   |   |--- feature_0 >  0.11\n",
      "|   |   |   |   |   |   |   |   |--- feature_2 <= 0.12\n",
      "|   |   |   |   |   |   |   |   |   |--- class: 1\n",
      "|   |   |   |   |   |   |   |   |--- feature_2 >  0.12\n",
      "|   |   |   |   |   |   |   |   |   |--- feature_7 <= 0.05\n",
      "|   |   |   |   |   |   |   |   |   |   |--- feature_1 <= 0.77\n",
      "|   |   |   |   |   |   |   |   |   |   |   |--- class: 0\n",
      "|   |   |   |   |   |   |   |   |   |   |--- feature_1 >  0.77\n",
      "|   |   |   |   |   |   |   |   |   |   |   |--- truncated branch of depth 2\n",
      "|   |   |   |   |   |   |   |   |   |--- feature_7 >  0.05\n",
      "|   |   |   |   |   |   |   |   |   |   |--- feature_4 <= 4.00\n",
      "|   |   |   |   |   |   |   |   |   |   |   |--- class: 0\n",
      "|   |   |   |   |   |   |   |   |   |   |--- feature_4 >  4.00\n",
      "|   |   |   |   |   |   |   |   |   |   |   |--- class: 1\n",
      "|   |   |   |   |   |   |--- feature_1 >  0.79\n",
      "|   |   |   |   |   |   |   |--- feature_6 <= 0.61\n",
      "|   |   |   |   |   |   |   |   |--- feature_0 <= 0.13\n",
      "|   |   |   |   |   |   |   |   |   |--- feature_4 <= 4.00\n",
      "|   |   |   |   |   |   |   |   |   |   |--- feature_2 <= 0.12\n",
      "|   |   |   |   |   |   |   |   |   |   |   |--- truncated branch of depth 3\n",
      "|   |   |   |   |   |   |   |   |   |   |--- feature_2 >  0.12\n",
      "|   |   |   |   |   |   |   |   |   |   |   |--- truncated branch of depth 14\n",
      "|   |   |   |   |   |   |   |   |   |--- feature_4 >  4.00\n",
      "|   |   |   |   |   |   |   |   |   |   |--- feature_4 <= 5.50\n",
      "|   |   |   |   |   |   |   |   |   |   |   |--- class: 0\n",
      "|   |   |   |   |   |   |   |   |   |   |--- feature_4 >  5.50\n",
      "|   |   |   |   |   |   |   |   |   |   |   |--- truncated branch of depth 7\n",
      "|   |   |   |   |   |   |   |   |--- feature_0 >  0.13\n",
      "|   |   |   |   |   |   |   |   |   |--- feature_1 <= 0.98\n",
      "|   |   |   |   |   |   |   |   |   |   |--- feature_0 <= 0.13\n",
      "|   |   |   |   |   |   |   |   |   |   |   |--- class: 1\n",
      "|   |   |   |   |   |   |   |   |   |   |--- feature_0 >  0.13\n",
      "|   |   |   |   |   |   |   |   |   |   |   |--- truncated branch of depth 6\n",
      "|   |   |   |   |   |   |   |   |   |--- feature_1 >  0.98\n",
      "|   |   |   |   |   |   |   |   |   |   |--- feature_8 <= 1.50\n",
      "|   |   |   |   |   |   |   |   |   |   |   |--- class: 1\n",
      "|   |   |   |   |   |   |   |   |   |   |--- feature_8 >  1.50\n",
      "|   |   |   |   |   |   |   |   |   |   |   |--- class: 0\n",
      "|   |   |   |   |   |   |   |--- feature_6 >  0.61\n",
      "|   |   |   |   |   |   |   |   |--- feature_5 <= 1.50\n",
      "|   |   |   |   |   |   |   |   |   |--- feature_0 <= 0.13\n",
      "|   |   |   |   |   |   |   |   |   |   |--- feature_0 <= 0.12\n",
      "|   |   |   |   |   |   |   |   |   |   |   |--- class: 0\n",
      "|   |   |   |   |   |   |   |   |   |   |--- feature_0 >  0.12\n",
      "|   |   |   |   |   |   |   |   |   |   |   |--- class: 1\n",
      "|   |   |   |   |   |   |   |   |   |--- feature_0 >  0.13\n",
      "|   |   |   |   |   |   |   |   |   |   |--- class: 0\n",
      "|   |   |   |   |   |   |   |   |--- feature_5 >  1.50\n",
      "|   |   |   |   |   |   |   |   |   |--- feature_0 <= 0.12\n",
      "|   |   |   |   |   |   |   |   |   |   |--- feature_0 <= 0.11\n",
      "|   |   |   |   |   |   |   |   |   |   |   |--- class: 0\n",
      "|   |   |   |   |   |   |   |   |   |   |--- feature_0 >  0.11\n",
      "|   |   |   |   |   |   |   |   |   |   |   |--- truncated branch of depth 3\n",
      "|   |   |   |   |   |   |   |   |   |--- feature_0 >  0.12\n",
      "|   |   |   |   |   |   |   |   |   |   |--- class: 0\n",
      "|   |   |   |   |   |--- feature_2 >  0.24\n",
      "|   |   |   |   |   |   |--- feature_2 <= 0.48\n",
      "|   |   |   |   |   |   |   |--- feature_0 <= 0.12\n",
      "|   |   |   |   |   |   |   |   |--- feature_7 <= 0.12\n",
      "|   |   |   |   |   |   |   |   |   |--- feature_7 <= 0.01\n",
      "|   |   |   |   |   |   |   |   |   |   |--- feature_6 <= 0.37\n",
      "|   |   |   |   |   |   |   |   |   |   |   |--- truncated branch of depth 7\n",
      "|   |   |   |   |   |   |   |   |   |   |--- feature_6 >  0.37\n",
      "|   |   |   |   |   |   |   |   |   |   |   |--- truncated branch of depth 10\n",
      "|   |   |   |   |   |   |   |   |   |--- feature_7 >  0.01\n",
      "|   |   |   |   |   |   |   |   |   |   |--- feature_0 <= 0.11\n",
      "|   |   |   |   |   |   |   |   |   |   |   |--- truncated branch of depth 3\n",
      "|   |   |   |   |   |   |   |   |   |   |--- feature_0 >  0.11\n",
      "|   |   |   |   |   |   |   |   |   |   |   |--- truncated branch of depth 7\n",
      "|   |   |   |   |   |   |   |   |--- feature_7 >  0.12\n",
      "|   |   |   |   |   |   |   |   |   |--- feature_0 <= 0.12\n",
      "|   |   |   |   |   |   |   |   |   |   |--- feature_1 <= 0.98\n",
      "|   |   |   |   |   |   |   |   |   |   |   |--- truncated branch of depth 2\n",
      "|   |   |   |   |   |   |   |   |   |   |--- feature_1 >  0.98\n",
      "|   |   |   |   |   |   |   |   |   |   |   |--- class: 0\n",
      "|   |   |   |   |   |   |   |   |   |--- feature_0 >  0.12\n",
      "|   |   |   |   |   |   |   |   |   |   |--- class: 1\n",
      "|   |   |   |   |   |   |   |--- feature_0 >  0.12\n",
      "|   |   |   |   |   |   |   |   |--- feature_1 <= 0.96\n",
      "|   |   |   |   |   |   |   |   |   |--- feature_0 <= 0.13\n",
      "|   |   |   |   |   |   |   |   |   |   |--- feature_4 <= 5.50\n",
      "|   |   |   |   |   |   |   |   |   |   |   |--- class: 0\n",
      "|   |   |   |   |   |   |   |   |   |   |--- feature_4 >  5.50\n",
      "|   |   |   |   |   |   |   |   |   |   |   |--- class: 1\n",
      "|   |   |   |   |   |   |   |   |   |--- feature_0 >  0.13\n",
      "|   |   |   |   |   |   |   |   |   |   |--- feature_0 <= 0.13\n",
      "|   |   |   |   |   |   |   |   |   |   |   |--- truncated branch of depth 3\n",
      "|   |   |   |   |   |   |   |   |   |   |--- feature_0 >  0.13\n",
      "|   |   |   |   |   |   |   |   |   |   |   |--- truncated branch of depth 4\n",
      "|   |   |   |   |   |   |   |   |--- feature_1 >  0.96\n",
      "|   |   |   |   |   |   |   |   |   |--- feature_0 <= 0.13\n",
      "|   |   |   |   |   |   |   |   |   |   |--- feature_2 <= 0.41\n",
      "|   |   |   |   |   |   |   |   |   |   |   |--- truncated branch of depth 4\n",
      "|   |   |   |   |   |   |   |   |   |   |--- feature_2 >  0.41\n",
      "|   |   |   |   |   |   |   |   |   |   |   |--- class: 0\n",
      "|   |   |   |   |   |   |   |   |   |--- feature_0 >  0.13\n",
      "|   |   |   |   |   |   |   |   |   |   |--- feature_2 <= 0.43\n",
      "|   |   |   |   |   |   |   |   |   |   |   |--- truncated branch of depth 6\n",
      "|   |   |   |   |   |   |   |   |   |   |--- feature_2 >  0.43\n",
      "|   |   |   |   |   |   |   |   |   |   |   |--- class: 0\n",
      "|   |   |   |   |   |   |--- feature_2 >  0.48\n",
      "|   |   |   |   |   |   |   |--- feature_5 <= 0.50\n",
      "|   |   |   |   |   |   |   |   |--- feature_1 <= 0.98\n",
      "|   |   |   |   |   |   |   |   |   |--- class: 1\n",
      "|   |   |   |   |   |   |   |   |--- feature_1 >  0.98\n",
      "|   |   |   |   |   |   |   |   |   |--- class: 0\n",
      "|   |   |   |   |   |   |   |--- feature_5 >  0.50\n",
      "|   |   |   |   |   |   |   |   |--- feature_5 <= 3.50\n",
      "|   |   |   |   |   |   |   |   |   |--- feature_1 <= 0.98\n",
      "|   |   |   |   |   |   |   |   |   |   |--- feature_0 <= 0.12\n",
      "|   |   |   |   |   |   |   |   |   |   |   |--- truncated branch of depth 4\n",
      "|   |   |   |   |   |   |   |   |   |   |--- feature_0 >  0.12\n",
      "|   |   |   |   |   |   |   |   |   |   |   |--- truncated branch of depth 5\n",
      "|   |   |   |   |   |   |   |   |   |--- feature_1 >  0.98\n",
      "|   |   |   |   |   |   |   |   |   |   |--- feature_3 <= 4.00\n",
      "|   |   |   |   |   |   |   |   |   |   |   |--- class: 0\n",
      "|   |   |   |   |   |   |   |   |   |   |--- feature_3 >  4.00\n",
      "|   |   |   |   |   |   |   |   |   |   |   |--- truncated branch of depth 2\n",
      "|   |   |   |   |   |   |   |   |--- feature_5 >  3.50\n",
      "|   |   |   |   |   |   |   |   |   |--- feature_0 <= 0.11\n",
      "|   |   |   |   |   |   |   |   |   |   |--- class: 1\n",
      "|   |   |   |   |   |   |   |   |   |--- feature_0 >  0.11\n",
      "|   |   |   |   |   |   |   |   |   |   |--- feature_1 <= 0.89\n",
      "|   |   |   |   |   |   |   |   |   |   |   |--- truncated branch of depth 2\n",
      "|   |   |   |   |   |   |   |   |   |   |--- feature_1 >  0.89\n",
      "|   |   |   |   |   |   |   |   |   |   |   |--- class: 0\n",
      "|   |   |   |   |--- feature_8 >  2.50\n",
      "|   |   |   |   |   |--- class: 1\n",
      "|   |   |   |--- feature_0 >  0.13\n",
      "|   |   |   |   |--- feature_1 <= 0.98\n",
      "|   |   |   |   |   |--- feature_3 <= 7.50\n",
      "|   |   |   |   |   |   |--- feature_1 <= 0.96\n",
      "|   |   |   |   |   |   |   |--- feature_2 <= 0.17\n",
      "|   |   |   |   |   |   |   |   |--- feature_7 <= 0.01\n",
      "|   |   |   |   |   |   |   |   |   |--- feature_1 <= 0.79\n",
      "|   |   |   |   |   |   |   |   |   |   |--- feature_4 <= 1.50\n",
      "|   |   |   |   |   |   |   |   |   |   |   |--- class: 0\n",
      "|   |   |   |   |   |   |   |   |   |   |--- feature_4 >  1.50\n",
      "|   |   |   |   |   |   |   |   |   |   |   |--- truncated branch of depth 3\n",
      "|   |   |   |   |   |   |   |   |   |--- feature_1 >  0.79\n",
      "|   |   |   |   |   |   |   |   |   |   |--- feature_1 <= 0.96\n",
      "|   |   |   |   |   |   |   |   |   |   |   |--- truncated branch of depth 2\n",
      "|   |   |   |   |   |   |   |   |   |   |--- feature_1 >  0.96\n",
      "|   |   |   |   |   |   |   |   |   |   |   |--- class: 1\n",
      "|   |   |   |   |   |   |   |   |--- feature_7 >  0.01\n",
      "|   |   |   |   |   |   |   |   |   |--- feature_7 <= 0.07\n",
      "|   |   |   |   |   |   |   |   |   |   |--- class: 0\n",
      "|   |   |   |   |   |   |   |   |   |--- feature_7 >  0.07\n",
      "|   |   |   |   |   |   |   |   |   |   |--- class: 1\n",
      "|   |   |   |   |   |   |   |--- feature_2 >  0.17\n",
      "|   |   |   |   |   |   |   |   |--- feature_7 <= 0.03\n",
      "|   |   |   |   |   |   |   |   |   |--- feature_0 <= 0.14\n",
      "|   |   |   |   |   |   |   |   |   |   |--- feature_0 <= 0.14\n",
      "|   |   |   |   |   |   |   |   |   |   |   |--- truncated branch of depth 7\n",
      "|   |   |   |   |   |   |   |   |   |   |--- feature_0 >  0.14\n",
      "|   |   |   |   |   |   |   |   |   |   |   |--- class: 1\n",
      "|   |   |   |   |   |   |   |   |   |--- feature_0 >  0.14\n",
      "|   |   |   |   |   |   |   |   |   |   |--- feature_0 <= 0.16\n",
      "|   |   |   |   |   |   |   |   |   |   |   |--- truncated branch of depth 4\n",
      "|   |   |   |   |   |   |   |   |   |   |--- feature_0 >  0.16\n",
      "|   |   |   |   |   |   |   |   |   |   |   |--- truncated branch of depth 5\n",
      "|   |   |   |   |   |   |   |   |--- feature_7 >  0.03\n",
      "|   |   |   |   |   |   |   |   |   |--- feature_4 <= 1.50\n",
      "|   |   |   |   |   |   |   |   |   |   |--- feature_2 <= 0.70\n",
      "|   |   |   |   |   |   |   |   |   |   |   |--- class: 0\n",
      "|   |   |   |   |   |   |   |   |   |   |--- feature_2 >  0.70\n",
      "|   |   |   |   |   |   |   |   |   |   |   |--- class: 1\n",
      "|   |   |   |   |   |   |   |   |   |--- feature_4 >  1.50\n",
      "|   |   |   |   |   |   |   |   |   |   |--- feature_4 <= 2.50\n",
      "|   |   |   |   |   |   |   |   |   |   |   |--- truncated branch of depth 2\n",
      "|   |   |   |   |   |   |   |   |   |   |--- feature_4 >  2.50\n",
      "|   |   |   |   |   |   |   |   |   |   |   |--- truncated branch of depth 7\n",
      "|   |   |   |   |   |   |--- feature_1 >  0.96\n",
      "|   |   |   |   |   |   |   |--- feature_7 <= 0.15\n",
      "|   |   |   |   |   |   |   |   |--- feature_7 <= 0.11\n",
      "|   |   |   |   |   |   |   |   |   |--- feature_0 <= 0.17\n",
      "|   |   |   |   |   |   |   |   |   |   |--- feature_4 <= 2.50\n",
      "|   |   |   |   |   |   |   |   |   |   |   |--- truncated branch of depth 10\n",
      "|   |   |   |   |   |   |   |   |   |   |--- feature_4 >  2.50\n",
      "|   |   |   |   |   |   |   |   |   |   |   |--- truncated branch of depth 8\n",
      "|   |   |   |   |   |   |   |   |   |--- feature_0 >  0.17\n",
      "|   |   |   |   |   |   |   |   |   |   |--- class: 1\n",
      "|   |   |   |   |   |   |   |   |--- feature_7 >  0.11\n",
      "|   |   |   |   |   |   |   |   |   |--- class: 0\n",
      "|   |   |   |   |   |   |   |--- feature_7 >  0.15\n",
      "|   |   |   |   |   |   |   |   |--- feature_0 <= 0.16\n",
      "|   |   |   |   |   |   |   |   |   |--- class: 1\n",
      "|   |   |   |   |   |   |   |   |--- feature_0 >  0.16\n",
      "|   |   |   |   |   |   |   |   |   |--- class: 0\n",
      "|   |   |   |   |   |--- feature_3 >  7.50\n",
      "|   |   |   |   |   |   |--- feature_1 <= 0.79\n",
      "|   |   |   |   |   |   |   |--- feature_0 <= 0.14\n",
      "|   |   |   |   |   |   |   |   |--- feature_7 <= 0.01\n",
      "|   |   |   |   |   |   |   |   |   |--- class: 1\n",
      "|   |   |   |   |   |   |   |   |--- feature_7 >  0.01\n",
      "|   |   |   |   |   |   |   |   |   |--- class: 0\n",
      "|   |   |   |   |   |   |   |--- feature_0 >  0.14\n",
      "|   |   |   |   |   |   |   |   |--- feature_1 <= 0.18\n",
      "|   |   |   |   |   |   |   |   |   |--- feature_2 <= 0.27\n",
      "|   |   |   |   |   |   |   |   |   |   |--- feature_8 <= 1.50\n",
      "|   |   |   |   |   |   |   |   |   |   |   |--- class: 1\n",
      "|   |   |   |   |   |   |   |   |   |   |--- feature_8 >  1.50\n",
      "|   |   |   |   |   |   |   |   |   |   |   |--- truncated branch of depth 2\n",
      "|   |   |   |   |   |   |   |   |   |--- feature_2 >  0.27\n",
      "|   |   |   |   |   |   |   |   |   |   |--- class: 0\n",
      "|   |   |   |   |   |   |   |   |--- feature_1 >  0.18\n",
      "|   |   |   |   |   |   |   |   |   |--- class: 1\n",
      "|   |   |   |   |   |   |--- feature_1 >  0.79\n",
      "|   |   |   |   |   |   |   |--- feature_0 <= 0.14\n",
      "|   |   |   |   |   |   |   |   |--- class: 0\n",
      "|   |   |   |   |   |   |   |--- feature_0 >  0.14\n",
      "|   |   |   |   |   |   |   |   |--- feature_4 <= 4.00\n",
      "|   |   |   |   |   |   |   |   |   |--- feature_0 <= 0.14\n",
      "|   |   |   |   |   |   |   |   |   |   |--- feature_5 <= 3.50\n",
      "|   |   |   |   |   |   |   |   |   |   |   |--- class: 0\n",
      "|   |   |   |   |   |   |   |   |   |   |--- feature_5 >  3.50\n",
      "|   |   |   |   |   |   |   |   |   |   |   |--- class: 1\n",
      "|   |   |   |   |   |   |   |   |   |--- feature_0 >  0.14\n",
      "|   |   |   |   |   |   |   |   |   |   |--- class: 1\n",
      "|   |   |   |   |   |   |   |   |--- feature_4 >  4.00\n",
      "|   |   |   |   |   |   |   |   |   |--- feature_4 <= 6.50\n",
      "|   |   |   |   |   |   |   |   |   |   |--- feature_0 <= 0.14\n",
      "|   |   |   |   |   |   |   |   |   |   |   |--- truncated branch of depth 2\n",
      "|   |   |   |   |   |   |   |   |   |   |--- feature_0 >  0.14\n",
      "|   |   |   |   |   |   |   |   |   |   |   |--- truncated branch of depth 5\n",
      "|   |   |   |   |   |   |   |   |   |--- feature_4 >  6.50\n",
      "|   |   |   |   |   |   |   |   |   |   |--- class: 1\n",
      "|   |   |   |   |--- feature_1 >  0.98\n",
      "|   |   |   |   |   |--- feature_5 <= 2.50\n",
      "|   |   |   |   |   |   |--- feature_6 <= 0.41\n",
      "|   |   |   |   |   |   |   |--- feature_8 <= 1.50\n",
      "|   |   |   |   |   |   |   |   |--- feature_2 <= 0.31\n",
      "|   |   |   |   |   |   |   |   |   |--- feature_7 <= 0.01\n",
      "|   |   |   |   |   |   |   |   |   |   |--- feature_2 <= 0.17\n",
      "|   |   |   |   |   |   |   |   |   |   |   |--- class: 1\n",
      "|   |   |   |   |   |   |   |   |   |   |--- feature_2 >  0.17\n",
      "|   |   |   |   |   |   |   |   |   |   |   |--- truncated branch of depth 4\n",
      "|   |   |   |   |   |   |   |   |   |--- feature_7 >  0.01\n",
      "|   |   |   |   |   |   |   |   |   |   |--- feature_3 <= 8.00\n",
      "|   |   |   |   |   |   |   |   |   |   |   |--- truncated branch of depth 3\n",
      "|   |   |   |   |   |   |   |   |   |   |--- feature_3 >  8.00\n",
      "|   |   |   |   |   |   |   |   |   |   |   |--- class: 0\n",
      "|   |   |   |   |   |   |   |   |--- feature_2 >  0.31\n",
      "|   |   |   |   |   |   |   |   |   |--- feature_0 <= 0.14\n",
      "|   |   |   |   |   |   |   |   |   |   |--- feature_1 <= 0.98\n",
      "|   |   |   |   |   |   |   |   |   |   |   |--- truncated branch of depth 2\n",
      "|   |   |   |   |   |   |   |   |   |   |--- feature_1 >  0.98\n",
      "|   |   |   |   |   |   |   |   |   |   |   |--- class: 0\n",
      "|   |   |   |   |   |   |   |   |   |--- feature_0 >  0.14\n",
      "|   |   |   |   |   |   |   |   |   |   |--- feature_2 <= 0.44\n",
      "|   |   |   |   |   |   |   |   |   |   |   |--- class: 0\n",
      "|   |   |   |   |   |   |   |   |   |   |--- feature_2 >  0.44\n",
      "|   |   |   |   |   |   |   |   |   |   |   |--- truncated branch of depth 3\n",
      "|   |   |   |   |   |   |   |--- feature_8 >  1.50\n",
      "|   |   |   |   |   |   |   |   |--- feature_3 <= 8.00\n",
      "|   |   |   |   |   |   |   |   |   |--- feature_1 <= 0.98\n",
      "|   |   |   |   |   |   |   |   |   |   |--- class: 0\n",
      "|   |   |   |   |   |   |   |   |   |--- feature_1 >  0.98\n",
      "|   |   |   |   |   |   |   |   |   |   |--- class: 1\n",
      "|   |   |   |   |   |   |   |   |--- feature_3 >  8.00\n",
      "|   |   |   |   |   |   |   |   |   |--- class: 1\n",
      "|   |   |   |   |   |   |--- feature_6 >  0.41\n",
      "|   |   |   |   |   |   |   |--- feature_4 <= 0.50\n",
      "|   |   |   |   |   |   |   |   |--- feature_1 <= 0.98\n",
      "|   |   |   |   |   |   |   |   |   |--- class: 0\n",
      "|   |   |   |   |   |   |   |   |--- feature_1 >  0.98\n",
      "|   |   |   |   |   |   |   |   |   |--- class: 1\n",
      "|   |   |   |   |   |   |   |--- feature_4 >  0.50\n",
      "|   |   |   |   |   |   |   |   |--- feature_4 <= 4.00\n",
      "|   |   |   |   |   |   |   |   |   |--- feature_0 <= 0.16\n",
      "|   |   |   |   |   |   |   |   |   |   |--- feature_7 <= 0.03\n",
      "|   |   |   |   |   |   |   |   |   |   |   |--- truncated branch of depth 2\n",
      "|   |   |   |   |   |   |   |   |   |   |--- feature_7 >  0.03\n",
      "|   |   |   |   |   |   |   |   |   |   |   |--- class: 0\n",
      "|   |   |   |   |   |   |   |   |   |--- feature_0 >  0.16\n",
      "|   |   |   |   |   |   |   |   |   |   |--- class: 1\n",
      "|   |   |   |   |   |   |   |   |--- feature_4 >  4.00\n",
      "|   |   |   |   |   |   |   |   |   |--- feature_0 <= 0.16\n",
      "|   |   |   |   |   |   |   |   |   |   |--- feature_0 <= 0.15\n",
      "|   |   |   |   |   |   |   |   |   |   |   |--- truncated branch of depth 7\n",
      "|   |   |   |   |   |   |   |   |   |   |--- feature_0 >  0.15\n",
      "|   |   |   |   |   |   |   |   |   |   |   |--- class: 1\n",
      "|   |   |   |   |   |   |   |   |   |--- feature_0 >  0.16\n",
      "|   |   |   |   |   |   |   |   |   |   |--- feature_2 <= 0.25\n",
      "|   |   |   |   |   |   |   |   |   |   |   |--- class: 1\n",
      "|   |   |   |   |   |   |   |   |   |   |--- feature_2 >  0.25\n",
      "|   |   |   |   |   |   |   |   |   |   |   |--- class: 0\n",
      "|   |   |   |   |   |--- feature_5 >  2.50\n",
      "|   |   |   |   |   |   |--- feature_0 <= 0.16\n",
      "|   |   |   |   |   |   |   |--- feature_0 <= 0.13\n",
      "|   |   |   |   |   |   |   |   |--- class: 1\n",
      "|   |   |   |   |   |   |   |--- feature_0 >  0.13\n",
      "|   |   |   |   |   |   |   |   |--- feature_0 <= 0.16\n",
      "|   |   |   |   |   |   |   |   |   |--- feature_0 <= 0.15\n",
      "|   |   |   |   |   |   |   |   |   |   |--- feature_0 <= 0.15\n",
      "|   |   |   |   |   |   |   |   |   |   |   |--- truncated branch of depth 11\n",
      "|   |   |   |   |   |   |   |   |   |   |--- feature_0 >  0.15\n",
      "|   |   |   |   |   |   |   |   |   |   |   |--- class: 0\n",
      "|   |   |   |   |   |   |   |   |   |--- feature_0 >  0.15\n",
      "|   |   |   |   |   |   |   |   |   |   |--- feature_2 <= 0.50\n",
      "|   |   |   |   |   |   |   |   |   |   |   |--- class: 1\n",
      "|   |   |   |   |   |   |   |   |   |   |--- feature_2 >  0.50\n",
      "|   |   |   |   |   |   |   |   |   |   |   |--- class: 0\n",
      "|   |   |   |   |   |   |   |   |--- feature_0 >  0.16\n",
      "|   |   |   |   |   |   |   |   |   |--- feature_8 <= 0.50\n",
      "|   |   |   |   |   |   |   |   |   |   |--- class: 1\n",
      "|   |   |   |   |   |   |   |   |   |--- feature_8 >  0.50\n",
      "|   |   |   |   |   |   |   |   |   |   |--- feature_0 <= 0.16\n",
      "|   |   |   |   |   |   |   |   |   |   |   |--- truncated branch of depth 2\n",
      "|   |   |   |   |   |   |   |   |   |   |--- feature_0 >  0.16\n",
      "|   |   |   |   |   |   |   |   |   |   |   |--- class: 0\n",
      "|   |   |   |   |   |   |--- feature_0 >  0.16\n",
      "|   |   |   |   |   |   |   |--- feature_3 <= 0.50\n",
      "|   |   |   |   |   |   |   |   |--- feature_0 <= 0.17\n",
      "|   |   |   |   |   |   |   |   |   |--- class: 1\n",
      "|   |   |   |   |   |   |   |   |--- feature_0 >  0.17\n",
      "|   |   |   |   |   |   |   |   |   |--- feature_1 <= 0.98\n",
      "|   |   |   |   |   |   |   |   |   |   |--- class: 0\n",
      "|   |   |   |   |   |   |   |   |   |--- feature_1 >  0.98\n",
      "|   |   |   |   |   |   |   |   |   |   |--- class: 1\n",
      "|   |   |   |   |   |   |   |--- feature_3 >  0.50\n",
      "|   |   |   |   |   |   |   |   |--- class: 1\n",
      "|   |   |--- feature_0 >  0.17\n",
      "|   |   |   |--- feature_1 <= 0.96\n",
      "|   |   |   |   |--- feature_0 <= 0.18\n",
      "|   |   |   |   |   |--- feature_1 <= 0.79\n",
      "|   |   |   |   |   |   |--- feature_0 <= 0.18\n",
      "|   |   |   |   |   |   |   |--- feature_4 <= 4.00\n",
      "|   |   |   |   |   |   |   |   |--- feature_3 <= 0.50\n",
      "|   |   |   |   |   |   |   |   |   |--- class: 1\n",
      "|   |   |   |   |   |   |   |   |--- feature_3 >  0.50\n",
      "|   |   |   |   |   |   |   |   |   |--- class: 0\n",
      "|   |   |   |   |   |   |   |--- feature_4 >  4.00\n",
      "|   |   |   |   |   |   |   |   |--- class: 1\n",
      "|   |   |   |   |   |   |--- feature_0 >  0.18\n",
      "|   |   |   |   |   |   |   |--- class: 0\n",
      "|   |   |   |   |   |--- feature_1 >  0.79\n",
      "|   |   |   |   |   |   |--- feature_0 <= 0.17\n",
      "|   |   |   |   |   |   |   |--- class: 1\n",
      "|   |   |   |   |   |   |--- feature_0 >  0.17\n",
      "|   |   |   |   |   |   |   |--- feature_0 <= 0.17\n",
      "|   |   |   |   |   |   |   |   |--- class: 0\n",
      "|   |   |   |   |   |   |   |--- feature_0 >  0.17\n",
      "|   |   |   |   |   |   |   |   |--- feature_0 <= 0.17\n",
      "|   |   |   |   |   |   |   |   |   |--- class: 1\n",
      "|   |   |   |   |   |   |   |   |--- feature_0 >  0.17\n",
      "|   |   |   |   |   |   |   |   |   |--- feature_3 <= 8.00\n",
      "|   |   |   |   |   |   |   |   |   |   |--- feature_0 <= 0.18\n",
      "|   |   |   |   |   |   |   |   |   |   |   |--- class: 0\n",
      "|   |   |   |   |   |   |   |   |   |   |--- feature_0 >  0.18\n",
      "|   |   |   |   |   |   |   |   |   |   |   |--- truncated branch of depth 2\n",
      "|   |   |   |   |   |   |   |   |   |--- feature_3 >  8.00\n",
      "|   |   |   |   |   |   |   |   |   |   |--- class: 1\n",
      "|   |   |   |   |--- feature_0 >  0.18\n",
      "|   |   |   |   |   |--- feature_0 <= 0.31\n",
      "|   |   |   |   |   |   |--- feature_4 <= 0.50\n",
      "|   |   |   |   |   |   |   |--- feature_2 <= 0.46\n",
      "|   |   |   |   |   |   |   |   |--- feature_5 <= 3.50\n",
      "|   |   |   |   |   |   |   |   |   |--- class: 0\n",
      "|   |   |   |   |   |   |   |   |--- feature_5 >  3.50\n",
      "|   |   |   |   |   |   |   |   |   |--- feature_0 <= 0.22\n",
      "|   |   |   |   |   |   |   |   |   |   |--- class: 0\n",
      "|   |   |   |   |   |   |   |   |   |--- feature_0 >  0.22\n",
      "|   |   |   |   |   |   |   |   |   |   |--- class: 1\n",
      "|   |   |   |   |   |   |   |--- feature_2 >  0.46\n",
      "|   |   |   |   |   |   |   |   |--- feature_0 <= 0.25\n",
      "|   |   |   |   |   |   |   |   |   |--- feature_2 <= 0.50\n",
      "|   |   |   |   |   |   |   |   |   |   |--- class: 0\n",
      "|   |   |   |   |   |   |   |   |   |--- feature_2 >  0.50\n",
      "|   |   |   |   |   |   |   |   |   |   |--- class: 1\n",
      "|   |   |   |   |   |   |   |   |--- feature_0 >  0.25\n",
      "|   |   |   |   |   |   |   |   |   |--- class: 1\n",
      "|   |   |   |   |   |   |--- feature_4 >  0.50\n",
      "|   |   |   |   |   |   |   |--- feature_0 <= 0.18\n",
      "|   |   |   |   |   |   |   |   |--- feature_2 <= 0.24\n",
      "|   |   |   |   |   |   |   |   |   |--- feature_0 <= 0.18\n",
      "|   |   |   |   |   |   |   |   |   |   |--- class: 0\n",
      "|   |   |   |   |   |   |   |   |   |--- feature_0 >  0.18\n",
      "|   |   |   |   |   |   |   |   |   |   |--- class: 1\n",
      "|   |   |   |   |   |   |   |   |--- feature_2 >  0.24\n",
      "|   |   |   |   |   |   |   |   |   |--- class: 1\n",
      "|   |   |   |   |   |   |   |--- feature_0 >  0.18\n",
      "|   |   |   |   |   |   |   |   |--- feature_7 <= 0.01\n",
      "|   |   |   |   |   |   |   |   |   |--- feature_0 <= 0.28\n",
      "|   |   |   |   |   |   |   |   |   |   |--- feature_0 <= 0.19\n",
      "|   |   |   |   |   |   |   |   |   |   |   |--- class: 0\n",
      "|   |   |   |   |   |   |   |   |   |   |--- feature_0 >  0.19\n",
      "|   |   |   |   |   |   |   |   |   |   |   |--- truncated branch of depth 8\n",
      "|   |   |   |   |   |   |   |   |   |--- feature_0 >  0.28\n",
      "|   |   |   |   |   |   |   |   |   |   |--- feature_8 <= 0.50\n",
      "|   |   |   |   |   |   |   |   |   |   |   |--- class: 1\n",
      "|   |   |   |   |   |   |   |   |   |   |--- feature_8 >  0.50\n",
      "|   |   |   |   |   |   |   |   |   |   |   |--- class: 0\n",
      "|   |   |   |   |   |   |   |   |--- feature_7 >  0.01\n",
      "|   |   |   |   |   |   |   |   |   |--- feature_2 <= 0.40\n",
      "|   |   |   |   |   |   |   |   |   |   |--- feature_6 <= 0.26\n",
      "|   |   |   |   |   |   |   |   |   |   |   |--- truncated branch of depth 6\n",
      "|   |   |   |   |   |   |   |   |   |   |--- feature_6 >  0.26\n",
      "|   |   |   |   |   |   |   |   |   |   |   |--- truncated branch of depth 9\n",
      "|   |   |   |   |   |   |   |   |   |--- feature_2 >  0.40\n",
      "|   |   |   |   |   |   |   |   |   |   |--- feature_0 <= 0.19\n",
      "|   |   |   |   |   |   |   |   |   |   |   |--- class: 0\n",
      "|   |   |   |   |   |   |   |   |   |   |--- feature_0 >  0.19\n",
      "|   |   |   |   |   |   |   |   |   |   |   |--- truncated branch of depth 4\n",
      "|   |   |   |   |   |--- feature_0 >  0.31\n",
      "|   |   |   |   |   |   |--- feature_0 <= 0.35\n",
      "|   |   |   |   |   |   |   |--- feature_0 <= 0.33\n",
      "|   |   |   |   |   |   |   |   |--- class: 1\n",
      "|   |   |   |   |   |   |   |--- feature_0 >  0.33\n",
      "|   |   |   |   |   |   |   |   |--- feature_1 <= 0.88\n",
      "|   |   |   |   |   |   |   |   |   |--- feature_6 <= 0.26\n",
      "|   |   |   |   |   |   |   |   |   |   |--- class: 1\n",
      "|   |   |   |   |   |   |   |   |   |--- feature_6 >  0.26\n",
      "|   |   |   |   |   |   |   |   |   |   |--- class: 0\n",
      "|   |   |   |   |   |   |   |   |--- feature_1 >  0.88\n",
      "|   |   |   |   |   |   |   |   |   |--- class: 1\n",
      "|   |   |   |   |   |   |--- feature_0 >  0.35\n",
      "|   |   |   |   |   |   |   |--- feature_1 <= 0.18\n",
      "|   |   |   |   |   |   |   |   |--- class: 1\n",
      "|   |   |   |   |   |   |   |--- feature_1 >  0.18\n",
      "|   |   |   |   |   |   |   |   |--- feature_6 <= 0.26\n",
      "|   |   |   |   |   |   |   |   |   |--- class: 0\n",
      "|   |   |   |   |   |   |   |   |--- feature_6 >  0.26\n",
      "|   |   |   |   |   |   |   |   |   |--- feature_3 <= 8.50\n",
      "|   |   |   |   |   |   |   |   |   |   |--- feature_0 <= 0.59\n",
      "|   |   |   |   |   |   |   |   |   |   |   |--- truncated branch of depth 5\n",
      "|   |   |   |   |   |   |   |   |   |   |--- feature_0 >  0.59\n",
      "|   |   |   |   |   |   |   |   |   |   |   |--- class: 0\n",
      "|   |   |   |   |   |   |   |   |   |--- feature_3 >  8.50\n",
      "|   |   |   |   |   |   |   |   |   |   |--- class: 0\n",
      "|   |   |   |--- feature_1 >  0.96\n",
      "|   |   |   |   |--- feature_4 <= 2.50\n",
      "|   |   |   |   |   |--- feature_2 <= 0.30\n",
      "|   |   |   |   |   |   |--- feature_2 <= 0.20\n",
      "|   |   |   |   |   |   |   |--- feature_4 <= 0.50\n",
      "|   |   |   |   |   |   |   |   |--- feature_7 <= 0.03\n",
      "|   |   |   |   |   |   |   |   |   |--- feature_1 <= 0.98\n",
      "|   |   |   |   |   |   |   |   |   |   |--- feature_3 <= 2.00\n",
      "|   |   |   |   |   |   |   |   |   |   |   |--- class: 1\n",
      "|   |   |   |   |   |   |   |   |   |   |--- feature_3 >  2.00\n",
      "|   |   |   |   |   |   |   |   |   |   |   |--- class: 0\n",
      "|   |   |   |   |   |   |   |   |   |--- feature_1 >  0.98\n",
      "|   |   |   |   |   |   |   |   |   |   |--- class: 0\n",
      "|   |   |   |   |   |   |   |   |--- feature_7 >  0.03\n",
      "|   |   |   |   |   |   |   |   |   |--- class: 0\n",
      "|   |   |   |   |   |   |   |--- feature_4 >  0.50\n",
      "|   |   |   |   |   |   |   |   |--- feature_0 <= 0.21\n",
      "|   |   |   |   |   |   |   |   |   |--- feature_7 <= 0.01\n",
      "|   |   |   |   |   |   |   |   |   |   |--- class: 1\n",
      "|   |   |   |   |   |   |   |   |   |--- feature_7 >  0.01\n",
      "|   |   |   |   |   |   |   |   |   |   |--- feature_1 <= 0.98\n",
      "|   |   |   |   |   |   |   |   |   |   |   |--- class: 0\n",
      "|   |   |   |   |   |   |   |   |   |   |--- feature_1 >  0.98\n",
      "|   |   |   |   |   |   |   |   |   |   |   |--- class: 1\n",
      "|   |   |   |   |   |   |   |   |--- feature_0 >  0.21\n",
      "|   |   |   |   |   |   |   |   |   |--- feature_3 <= 0.50\n",
      "|   |   |   |   |   |   |   |   |   |   |--- class: 0\n",
      "|   |   |   |   |   |   |   |   |   |--- feature_3 >  0.50\n",
      "|   |   |   |   |   |   |   |   |   |   |--- feature_7 <= 0.03\n",
      "|   |   |   |   |   |   |   |   |   |   |   |--- truncated branch of depth 5\n",
      "|   |   |   |   |   |   |   |   |   |   |--- feature_7 >  0.03\n",
      "|   |   |   |   |   |   |   |   |   |   |   |--- class: 1\n",
      "|   |   |   |   |   |   |--- feature_2 >  0.20\n",
      "|   |   |   |   |   |   |   |--- feature_0 <= 0.32\n",
      "|   |   |   |   |   |   |   |   |--- feature_8 <= 0.50\n",
      "|   |   |   |   |   |   |   |   |   |--- feature_5 <= 3.50\n",
      "|   |   |   |   |   |   |   |   |   |   |--- class: 1\n",
      "|   |   |   |   |   |   |   |   |   |--- feature_5 >  3.50\n",
      "|   |   |   |   |   |   |   |   |   |   |--- class: 0\n",
      "|   |   |   |   |   |   |   |   |--- feature_8 >  0.50\n",
      "|   |   |   |   |   |   |   |   |   |--- feature_1 <= 0.98\n",
      "|   |   |   |   |   |   |   |   |   |   |--- feature_2 <= 0.27\n",
      "|   |   |   |   |   |   |   |   |   |   |   |--- truncated branch of depth 3\n",
      "|   |   |   |   |   |   |   |   |   |   |--- feature_2 >  0.27\n",
      "|   |   |   |   |   |   |   |   |   |   |   |--- truncated branch of depth 3\n",
      "|   |   |   |   |   |   |   |   |   |--- feature_1 >  0.98\n",
      "|   |   |   |   |   |   |   |   |   |   |--- feature_2 <= 0.26\n",
      "|   |   |   |   |   |   |   |   |   |   |   |--- truncated branch of depth 2\n",
      "|   |   |   |   |   |   |   |   |   |   |--- feature_2 >  0.26\n",
      "|   |   |   |   |   |   |   |   |   |   |   |--- truncated branch of depth 2\n",
      "|   |   |   |   |   |   |   |--- feature_0 >  0.32\n",
      "|   |   |   |   |   |   |   |   |--- class: 1\n",
      "|   |   |   |   |   |--- feature_2 >  0.30\n",
      "|   |   |   |   |   |   |--- feature_0 <= 0.18\n",
      "|   |   |   |   |   |   |   |--- feature_3 <= 1.50\n",
      "|   |   |   |   |   |   |   |   |--- feature_8 <= 0.50\n",
      "|   |   |   |   |   |   |   |   |   |--- class: 0\n",
      "|   |   |   |   |   |   |   |   |--- feature_8 >  0.50\n",
      "|   |   |   |   |   |   |   |   |   |--- class: 1\n",
      "|   |   |   |   |   |   |   |--- feature_3 >  1.50\n",
      "|   |   |   |   |   |   |   |   |--- class: 0\n",
      "|   |   |   |   |   |   |--- feature_0 >  0.18\n",
      "|   |   |   |   |   |   |   |--- feature_8 <= 0.50\n",
      "|   |   |   |   |   |   |   |   |--- feature_7 <= 0.05\n",
      "|   |   |   |   |   |   |   |   |   |--- class: 0\n",
      "|   |   |   |   |   |   |   |   |--- feature_7 >  0.05\n",
      "|   |   |   |   |   |   |   |   |   |--- class: 1\n",
      "|   |   |   |   |   |   |   |--- feature_8 >  0.50\n",
      "|   |   |   |   |   |   |   |   |--- feature_2 <= 0.49\n",
      "|   |   |   |   |   |   |   |   |   |--- feature_1 <= 0.98\n",
      "|   |   |   |   |   |   |   |   |   |   |--- feature_2 <= 0.36\n",
      "|   |   |   |   |   |   |   |   |   |   |   |--- class: 1\n",
      "|   |   |   |   |   |   |   |   |   |   |--- feature_2 >  0.36\n",
      "|   |   |   |   |   |   |   |   |   |   |   |--- truncated branch of depth 5\n",
      "|   |   |   |   |   |   |   |   |   |--- feature_1 >  0.98\n",
      "|   |   |   |   |   |   |   |   |   |   |--- class: 1\n",
      "|   |   |   |   |   |   |   |   |--- feature_2 >  0.49\n",
      "|   |   |   |   |   |   |   |   |   |--- feature_0 <= 0.20\n",
      "|   |   |   |   |   |   |   |   |   |   |--- class: 0\n",
      "|   |   |   |   |   |   |   |   |   |--- feature_0 >  0.20\n",
      "|   |   |   |   |   |   |   |   |   |   |--- feature_1 <= 0.98\n",
      "|   |   |   |   |   |   |   |   |   |   |   |--- class: 1\n",
      "|   |   |   |   |   |   |   |   |   |   |--- feature_1 >  0.98\n",
      "|   |   |   |   |   |   |   |   |   |   |   |--- class: 0\n",
      "|   |   |   |   |--- feature_4 >  2.50\n",
      "|   |   |   |   |   |--- feature_2 <= 0.12\n",
      "|   |   |   |   |   |   |--- feature_5 <= 1.50\n",
      "|   |   |   |   |   |   |   |--- feature_0 <= 0.18\n",
      "|   |   |   |   |   |   |   |   |--- class: 1\n",
      "|   |   |   |   |   |   |   |--- feature_0 >  0.18\n",
      "|   |   |   |   |   |   |   |   |--- class: 0\n",
      "|   |   |   |   |   |   |--- feature_5 >  1.50\n",
      "|   |   |   |   |   |   |   |--- feature_1 <= 0.98\n",
      "|   |   |   |   |   |   |   |   |--- feature_4 <= 6.50\n",
      "|   |   |   |   |   |   |   |   |   |--- class: 1\n",
      "|   |   |   |   |   |   |   |   |--- feature_4 >  6.50\n",
      "|   |   |   |   |   |   |   |   |   |--- class: 0\n",
      "|   |   |   |   |   |   |   |--- feature_1 >  0.98\n",
      "|   |   |   |   |   |   |   |   |--- feature_2 <= 0.08\n",
      "|   |   |   |   |   |   |   |   |   |--- class: 1\n",
      "|   |   |   |   |   |   |   |   |--- feature_2 >  0.08\n",
      "|   |   |   |   |   |   |   |   |   |--- class: 0\n",
      "|   |   |   |   |   |--- feature_2 >  0.12\n",
      "|   |   |   |   |   |   |--- feature_2 <= 0.27\n",
      "|   |   |   |   |   |   |   |--- feature_0 <= 0.39\n",
      "|   |   |   |   |   |   |   |   |--- feature_4 <= 4.00\n",
      "|   |   |   |   |   |   |   |   |   |--- feature_7 <= 0.05\n",
      "|   |   |   |   |   |   |   |   |   |   |--- feature_5 <= 1.50\n",
      "|   |   |   |   |   |   |   |   |   |   |   |--- truncated branch of depth 5\n",
      "|   |   |   |   |   |   |   |   |   |   |--- feature_5 >  1.50\n",
      "|   |   |   |   |   |   |   |   |   |   |   |--- truncated branch of depth 3\n",
      "|   |   |   |   |   |   |   |   |   |--- feature_7 >  0.05\n",
      "|   |   |   |   |   |   |   |   |   |   |--- feature_1 <= 0.98\n",
      "|   |   |   |   |   |   |   |   |   |   |   |--- class: 1\n",
      "|   |   |   |   |   |   |   |   |   |   |--- feature_1 >  0.98\n",
      "|   |   |   |   |   |   |   |   |   |   |   |--- truncated branch of depth 3\n",
      "|   |   |   |   |   |   |   |   |--- feature_4 >  4.00\n",
      "|   |   |   |   |   |   |   |   |   |--- feature_2 <= 0.20\n",
      "|   |   |   |   |   |   |   |   |   |   |--- feature_0 <= 0.23\n",
      "|   |   |   |   |   |   |   |   |   |   |   |--- truncated branch of depth 8\n",
      "|   |   |   |   |   |   |   |   |   |   |--- feature_0 >  0.23\n",
      "|   |   |   |   |   |   |   |   |   |   |   |--- truncated branch of depth 6\n",
      "|   |   |   |   |   |   |   |   |   |--- feature_2 >  0.20\n",
      "|   |   |   |   |   |   |   |   |   |   |--- feature_3 <= 3.00\n",
      "|   |   |   |   |   |   |   |   |   |   |   |--- truncated branch of depth 7\n",
      "|   |   |   |   |   |   |   |   |   |   |--- feature_3 >  3.00\n",
      "|   |   |   |   |   |   |   |   |   |   |   |--- truncated branch of depth 5\n",
      "|   |   |   |   |   |   |   |--- feature_0 >  0.39\n",
      "|   |   |   |   |   |   |   |   |--- feature_1 <= 0.99\n",
      "|   |   |   |   |   |   |   |   |   |--- class: 1\n",
      "|   |   |   |   |   |   |   |   |--- feature_1 >  0.99\n",
      "|   |   |   |   |   |   |   |   |   |--- class: 0\n",
      "|   |   |   |   |   |   |--- feature_2 >  0.27\n",
      "|   |   |   |   |   |   |   |--- feature_0 <= 0.32\n",
      "|   |   |   |   |   |   |   |   |--- feature_0 <= 0.29\n",
      "|   |   |   |   |   |   |   |   |   |--- feature_3 <= 8.00\n",
      "|   |   |   |   |   |   |   |   |   |   |--- feature_0 <= 0.17\n",
      "|   |   |   |   |   |   |   |   |   |   |   |--- class: 1\n",
      "|   |   |   |   |   |   |   |   |   |   |--- feature_0 >  0.17\n",
      "|   |   |   |   |   |   |   |   |   |   |   |--- truncated branch of depth 12\n",
      "|   |   |   |   |   |   |   |   |   |--- feature_3 >  8.00\n",
      "|   |   |   |   |   |   |   |   |   |   |--- feature_1 <= 0.96\n",
      "|   |   |   |   |   |   |   |   |   |   |   |--- class: 1\n",
      "|   |   |   |   |   |   |   |   |   |   |--- feature_1 >  0.96\n",
      "|   |   |   |   |   |   |   |   |   |   |   |--- truncated branch of depth 4\n",
      "|   |   |   |   |   |   |   |   |--- feature_0 >  0.29\n",
      "|   |   |   |   |   |   |   |   |   |--- class: 1\n",
      "|   |   |   |   |   |   |   |--- feature_0 >  0.32\n",
      "|   |   |   |   |   |   |   |   |--- feature_4 <= 5.50\n",
      "|   |   |   |   |   |   |   |   |   |--- class: 0\n",
      "|   |   |   |   |   |   |   |   |--- feature_4 >  5.50\n",
      "|   |   |   |   |   |   |   |   |   |--- feature_3 <= 2.00\n",
      "|   |   |   |   |   |   |   |   |   |   |--- class: 0\n",
      "|   |   |   |   |   |   |   |   |   |--- feature_3 >  2.00\n",
      "|   |   |   |   |   |   |   |   |   |   |--- class: 1\n",
      "\n"
     ]
    }
   ],
   "source": [
    "text_representation = tree.export_text(model)\n",
    "print(text_representation)"
   ]
  },
  {
   "cell_type": "markdown",
   "metadata": {},
   "source": [
    "Дає змогу збереження у файл:"
   ]
  },
  {
   "cell_type": "code",
   "execution_count": 44,
   "metadata": {},
   "outputs": [],
   "source": [
    "with open(\"decistion_tree.log\", \"w\") as fout:\n",
    "    fout.write(text_representation)"
   ]
  },
  {
   "cell_type": "markdown",
   "metadata": {},
   "source": [
    "### _Графічне зображення_"
   ]
  },
  {
   "cell_type": "markdown",
   "metadata": {},
   "source": [
    "Можна побудувати дерево, використовуючи два різних шляхи:"
   ]
  },
  {
   "cell_type": "markdown",
   "metadata": {},
   "source": [
    "**[plot_tree](https://scikit-learn.org/stable/modules/generated/sklearn.tree.plot_tree.html)** (повільна візуалізація - це може зайняти деякий час):\n"
   ]
  },
  {
   "cell_type": "code",
   "execution_count": null,
   "metadata": {
    "tags": [],
    "pycharm": {
     "is_executing": true
    }
   },
   "outputs": [
    {
     "name": "stdout",
     "output_type": "stream",
     "text": [
      "Error in callback <function flush_figures at 0x000002487C5E0A60> (for post_execute):\n"
     ]
    },
    {
     "ename": "KeyboardInterrupt",
     "evalue": "",
     "output_type": "error",
     "traceback": [
      "\u001B[1;31m---------------------------------------------------------------------------\u001B[0m",
      "\u001B[1;31mKeyboardInterrupt\u001B[0m                         Traceback (most recent call last)",
      "\u001B[1;32mc:\\users\\soles\\desktop\\git\\data_analysis\\.venv\\lib\\site-packages\\matplotlib_inline\\backend_inline.py\u001B[0m in \u001B[0;36mflush_figures\u001B[1;34m()\u001B[0m\n\u001B[0;32m    119\u001B[0m         \u001B[1;31m# ignore the tracking, just draw and close all figures\u001B[0m\u001B[1;33m\u001B[0m\u001B[1;33m\u001B[0m\u001B[1;33m\u001B[0m\u001B[0m\n\u001B[0;32m    120\u001B[0m         \u001B[1;32mtry\u001B[0m\u001B[1;33m:\u001B[0m\u001B[1;33m\u001B[0m\u001B[1;33m\u001B[0m\u001B[0m\n\u001B[1;32m--> 121\u001B[1;33m             \u001B[1;32mreturn\u001B[0m \u001B[0mshow\u001B[0m\u001B[1;33m(\u001B[0m\u001B[1;32mTrue\u001B[0m\u001B[1;33m)\u001B[0m\u001B[1;33m\u001B[0m\u001B[1;33m\u001B[0m\u001B[0m\n\u001B[0m\u001B[0;32m    122\u001B[0m         \u001B[1;32mexcept\u001B[0m \u001B[0mException\u001B[0m \u001B[1;32mas\u001B[0m \u001B[0me\u001B[0m\u001B[1;33m:\u001B[0m\u001B[1;33m\u001B[0m\u001B[1;33m\u001B[0m\u001B[0m\n\u001B[0;32m    123\u001B[0m             \u001B[1;31m# safely show traceback if in IPython, else raise\u001B[0m\u001B[1;33m\u001B[0m\u001B[1;33m\u001B[0m\u001B[1;33m\u001B[0m\u001B[0m\n",
      "\u001B[1;32mc:\\users\\soles\\desktop\\git\\data_analysis\\.venv\\lib\\site-packages\\matplotlib_inline\\backend_inline.py\u001B[0m in \u001B[0;36mshow\u001B[1;34m(close, block)\u001B[0m\n\u001B[0;32m     39\u001B[0m     \u001B[1;32mtry\u001B[0m\u001B[1;33m:\u001B[0m\u001B[1;33m\u001B[0m\u001B[1;33m\u001B[0m\u001B[0m\n\u001B[0;32m     40\u001B[0m         \u001B[1;32mfor\u001B[0m \u001B[0mfigure_manager\u001B[0m \u001B[1;32min\u001B[0m \u001B[0mGcf\u001B[0m\u001B[1;33m.\u001B[0m\u001B[0mget_all_fig_managers\u001B[0m\u001B[1;33m(\u001B[0m\u001B[1;33m)\u001B[0m\u001B[1;33m:\u001B[0m\u001B[1;33m\u001B[0m\u001B[1;33m\u001B[0m\u001B[0m\n\u001B[1;32m---> 41\u001B[1;33m             display(\n\u001B[0m\u001B[0;32m     42\u001B[0m                 \u001B[0mfigure_manager\u001B[0m\u001B[1;33m.\u001B[0m\u001B[0mcanvas\u001B[0m\u001B[1;33m.\u001B[0m\u001B[0mfigure\u001B[0m\u001B[1;33m,\u001B[0m\u001B[1;33m\u001B[0m\u001B[1;33m\u001B[0m\u001B[0m\n\u001B[0;32m     43\u001B[0m                 \u001B[0mmetadata\u001B[0m\u001B[1;33m=\u001B[0m\u001B[0m_fetch_figure_metadata\u001B[0m\u001B[1;33m(\u001B[0m\u001B[0mfigure_manager\u001B[0m\u001B[1;33m.\u001B[0m\u001B[0mcanvas\u001B[0m\u001B[1;33m.\u001B[0m\u001B[0mfigure\u001B[0m\u001B[1;33m)\u001B[0m\u001B[1;33m\u001B[0m\u001B[1;33m\u001B[0m\u001B[0m\n",
      "\u001B[1;32mc:\\users\\soles\\desktop\\git\\data_analysis\\.venv\\lib\\site-packages\\IPython\\core\\display.py\u001B[0m in \u001B[0;36mdisplay\u001B[1;34m(include, exclude, metadata, transient, display_id, *objs, **kwargs)\u001B[0m\n\u001B[0;32m    318\u001B[0m             \u001B[0mpublish_display_data\u001B[0m\u001B[1;33m(\u001B[0m\u001B[0mdata\u001B[0m\u001B[1;33m=\u001B[0m\u001B[0mobj\u001B[0m\u001B[1;33m,\u001B[0m \u001B[0mmetadata\u001B[0m\u001B[1;33m=\u001B[0m\u001B[0mmetadata\u001B[0m\u001B[1;33m,\u001B[0m \u001B[1;33m**\u001B[0m\u001B[0mkwargs\u001B[0m\u001B[1;33m)\u001B[0m\u001B[1;33m\u001B[0m\u001B[1;33m\u001B[0m\u001B[0m\n\u001B[0;32m    319\u001B[0m         \u001B[1;32melse\u001B[0m\u001B[1;33m:\u001B[0m\u001B[1;33m\u001B[0m\u001B[1;33m\u001B[0m\u001B[0m\n\u001B[1;32m--> 320\u001B[1;33m             \u001B[0mformat_dict\u001B[0m\u001B[1;33m,\u001B[0m \u001B[0mmd_dict\u001B[0m \u001B[1;33m=\u001B[0m \u001B[0mformat\u001B[0m\u001B[1;33m(\u001B[0m\u001B[0mobj\u001B[0m\u001B[1;33m,\u001B[0m \u001B[0minclude\u001B[0m\u001B[1;33m=\u001B[0m\u001B[0minclude\u001B[0m\u001B[1;33m,\u001B[0m \u001B[0mexclude\u001B[0m\u001B[1;33m=\u001B[0m\u001B[0mexclude\u001B[0m\u001B[1;33m)\u001B[0m\u001B[1;33m\u001B[0m\u001B[1;33m\u001B[0m\u001B[0m\n\u001B[0m\u001B[0;32m    321\u001B[0m             \u001B[1;32mif\u001B[0m \u001B[1;32mnot\u001B[0m \u001B[0mformat_dict\u001B[0m\u001B[1;33m:\u001B[0m\u001B[1;33m\u001B[0m\u001B[1;33m\u001B[0m\u001B[0m\n\u001B[0;32m    322\u001B[0m                 \u001B[1;31m# nothing to display (e.g. _ipython_display_ took over)\u001B[0m\u001B[1;33m\u001B[0m\u001B[1;33m\u001B[0m\u001B[1;33m\u001B[0m\u001B[0m\n",
      "\u001B[1;32mc:\\users\\soles\\desktop\\git\\data_analysis\\.venv\\lib\\site-packages\\IPython\\core\\formatters.py\u001B[0m in \u001B[0;36mformat\u001B[1;34m(self, obj, include, exclude)\u001B[0m\n\u001B[0;32m    178\u001B[0m             \u001B[0mmd\u001B[0m \u001B[1;33m=\u001B[0m \u001B[1;32mNone\u001B[0m\u001B[1;33m\u001B[0m\u001B[1;33m\u001B[0m\u001B[0m\n\u001B[0;32m    179\u001B[0m             \u001B[1;32mtry\u001B[0m\u001B[1;33m:\u001B[0m\u001B[1;33m\u001B[0m\u001B[1;33m\u001B[0m\u001B[0m\n\u001B[1;32m--> 180\u001B[1;33m                 \u001B[0mdata\u001B[0m \u001B[1;33m=\u001B[0m \u001B[0mformatter\u001B[0m\u001B[1;33m(\u001B[0m\u001B[0mobj\u001B[0m\u001B[1;33m)\u001B[0m\u001B[1;33m\u001B[0m\u001B[1;33m\u001B[0m\u001B[0m\n\u001B[0m\u001B[0;32m    181\u001B[0m             \u001B[1;32mexcept\u001B[0m\u001B[1;33m:\u001B[0m\u001B[1;33m\u001B[0m\u001B[1;33m\u001B[0m\u001B[0m\n\u001B[0;32m    182\u001B[0m                 \u001B[1;31m# FIXME: log the exception\u001B[0m\u001B[1;33m\u001B[0m\u001B[1;33m\u001B[0m\u001B[1;33m\u001B[0m\u001B[0m\n",
      "\u001B[1;32mc:\\users\\soles\\desktop\\git\\data_analysis\\.venv\\lib\\site-packages\\decorator.py\u001B[0m in \u001B[0;36mfun\u001B[1;34m(*args, **kw)\u001B[0m\n\u001B[0;32m    230\u001B[0m             \u001B[1;32mif\u001B[0m \u001B[1;32mnot\u001B[0m \u001B[0mkwsyntax\u001B[0m\u001B[1;33m:\u001B[0m\u001B[1;33m\u001B[0m\u001B[1;33m\u001B[0m\u001B[0m\n\u001B[0;32m    231\u001B[0m                 \u001B[0margs\u001B[0m\u001B[1;33m,\u001B[0m \u001B[0mkw\u001B[0m \u001B[1;33m=\u001B[0m \u001B[0mfix\u001B[0m\u001B[1;33m(\u001B[0m\u001B[0margs\u001B[0m\u001B[1;33m,\u001B[0m \u001B[0mkw\u001B[0m\u001B[1;33m,\u001B[0m \u001B[0msig\u001B[0m\u001B[1;33m)\u001B[0m\u001B[1;33m\u001B[0m\u001B[1;33m\u001B[0m\u001B[0m\n\u001B[1;32m--> 232\u001B[1;33m             \u001B[1;32mreturn\u001B[0m \u001B[0mcaller\u001B[0m\u001B[1;33m(\u001B[0m\u001B[0mfunc\u001B[0m\u001B[1;33m,\u001B[0m \u001B[1;33m*\u001B[0m\u001B[1;33m(\u001B[0m\u001B[0mextras\u001B[0m \u001B[1;33m+\u001B[0m \u001B[0margs\u001B[0m\u001B[1;33m)\u001B[0m\u001B[1;33m,\u001B[0m \u001B[1;33m**\u001B[0m\u001B[0mkw\u001B[0m\u001B[1;33m)\u001B[0m\u001B[1;33m\u001B[0m\u001B[1;33m\u001B[0m\u001B[0m\n\u001B[0m\u001B[0;32m    233\u001B[0m     \u001B[0mfun\u001B[0m\u001B[1;33m.\u001B[0m\u001B[0m__name__\u001B[0m \u001B[1;33m=\u001B[0m \u001B[0mfunc\u001B[0m\u001B[1;33m.\u001B[0m\u001B[0m__name__\u001B[0m\u001B[1;33m\u001B[0m\u001B[1;33m\u001B[0m\u001B[0m\n\u001B[0;32m    234\u001B[0m     \u001B[0mfun\u001B[0m\u001B[1;33m.\u001B[0m\u001B[0m__doc__\u001B[0m \u001B[1;33m=\u001B[0m \u001B[0mfunc\u001B[0m\u001B[1;33m.\u001B[0m\u001B[0m__doc__\u001B[0m\u001B[1;33m\u001B[0m\u001B[1;33m\u001B[0m\u001B[0m\n",
      "\u001B[1;32mc:\\users\\soles\\desktop\\git\\data_analysis\\.venv\\lib\\site-packages\\IPython\\core\\formatters.py\u001B[0m in \u001B[0;36mcatch_format_error\u001B[1;34m(method, self, *args, **kwargs)\u001B[0m\n\u001B[0;32m    222\u001B[0m     \u001B[1;34m\"\"\"show traceback on failed format call\"\"\"\u001B[0m\u001B[1;33m\u001B[0m\u001B[1;33m\u001B[0m\u001B[0m\n\u001B[0;32m    223\u001B[0m     \u001B[1;32mtry\u001B[0m\u001B[1;33m:\u001B[0m\u001B[1;33m\u001B[0m\u001B[1;33m\u001B[0m\u001B[0m\n\u001B[1;32m--> 224\u001B[1;33m         \u001B[0mr\u001B[0m \u001B[1;33m=\u001B[0m \u001B[0mmethod\u001B[0m\u001B[1;33m(\u001B[0m\u001B[0mself\u001B[0m\u001B[1;33m,\u001B[0m \u001B[1;33m*\u001B[0m\u001B[0margs\u001B[0m\u001B[1;33m,\u001B[0m \u001B[1;33m**\u001B[0m\u001B[0mkwargs\u001B[0m\u001B[1;33m)\u001B[0m\u001B[1;33m\u001B[0m\u001B[1;33m\u001B[0m\u001B[0m\n\u001B[0m\u001B[0;32m    225\u001B[0m     \u001B[1;32mexcept\u001B[0m \u001B[0mNotImplementedError\u001B[0m\u001B[1;33m:\u001B[0m\u001B[1;33m\u001B[0m\u001B[1;33m\u001B[0m\u001B[0m\n\u001B[0;32m    226\u001B[0m         \u001B[1;31m# don't warn on NotImplementedErrors\u001B[0m\u001B[1;33m\u001B[0m\u001B[1;33m\u001B[0m\u001B[1;33m\u001B[0m\u001B[0m\n",
      "\u001B[1;32mc:\\users\\soles\\desktop\\git\\data_analysis\\.venv\\lib\\site-packages\\IPython\\core\\formatters.py\u001B[0m in \u001B[0;36m__call__\u001B[1;34m(self, obj)\u001B[0m\n\u001B[0;32m    339\u001B[0m                 \u001B[1;32mpass\u001B[0m\u001B[1;33m\u001B[0m\u001B[1;33m\u001B[0m\u001B[0m\n\u001B[0;32m    340\u001B[0m             \u001B[1;32melse\u001B[0m\u001B[1;33m:\u001B[0m\u001B[1;33m\u001B[0m\u001B[1;33m\u001B[0m\u001B[0m\n\u001B[1;32m--> 341\u001B[1;33m                 \u001B[1;32mreturn\u001B[0m \u001B[0mprinter\u001B[0m\u001B[1;33m(\u001B[0m\u001B[0mobj\u001B[0m\u001B[1;33m)\u001B[0m\u001B[1;33m\u001B[0m\u001B[1;33m\u001B[0m\u001B[0m\n\u001B[0m\u001B[0;32m    342\u001B[0m             \u001B[1;31m# Finally look for special method names\u001B[0m\u001B[1;33m\u001B[0m\u001B[1;33m\u001B[0m\u001B[1;33m\u001B[0m\u001B[0m\n\u001B[0;32m    343\u001B[0m             \u001B[0mmethod\u001B[0m \u001B[1;33m=\u001B[0m \u001B[0mget_real_method\u001B[0m\u001B[1;33m(\u001B[0m\u001B[0mobj\u001B[0m\u001B[1;33m,\u001B[0m \u001B[0mself\u001B[0m\u001B[1;33m.\u001B[0m\u001B[0mprint_method\u001B[0m\u001B[1;33m)\u001B[0m\u001B[1;33m\u001B[0m\u001B[1;33m\u001B[0m\u001B[0m\n",
      "\u001B[1;32mc:\\users\\soles\\desktop\\git\\data_analysis\\.venv\\lib\\site-packages\\IPython\\core\\pylabtools.py\u001B[0m in \u001B[0;36m<lambda>\u001B[1;34m(fig)\u001B[0m\n\u001B[0;32m    251\u001B[0m \u001B[1;33m\u001B[0m\u001B[0m\n\u001B[0;32m    252\u001B[0m     \u001B[1;32mif\u001B[0m \u001B[1;34m'png'\u001B[0m \u001B[1;32min\u001B[0m \u001B[0mformats\u001B[0m\u001B[1;33m:\u001B[0m\u001B[1;33m\u001B[0m\u001B[1;33m\u001B[0m\u001B[0m\n\u001B[1;32m--> 253\u001B[1;33m         \u001B[0mpng_formatter\u001B[0m\u001B[1;33m.\u001B[0m\u001B[0mfor_type\u001B[0m\u001B[1;33m(\u001B[0m\u001B[0mFigure\u001B[0m\u001B[1;33m,\u001B[0m \u001B[1;32mlambda\u001B[0m \u001B[0mfig\u001B[0m\u001B[1;33m:\u001B[0m \u001B[0mprint_figure\u001B[0m\u001B[1;33m(\u001B[0m\u001B[0mfig\u001B[0m\u001B[1;33m,\u001B[0m \u001B[1;34m'png'\u001B[0m\u001B[1;33m,\u001B[0m \u001B[1;33m**\u001B[0m\u001B[0mkwargs\u001B[0m\u001B[1;33m)\u001B[0m\u001B[1;33m)\u001B[0m\u001B[1;33m\u001B[0m\u001B[1;33m\u001B[0m\u001B[0m\n\u001B[0m\u001B[0;32m    254\u001B[0m     \u001B[1;32mif\u001B[0m \u001B[1;34m'retina'\u001B[0m \u001B[1;32min\u001B[0m \u001B[0mformats\u001B[0m \u001B[1;32mor\u001B[0m \u001B[1;34m'png2x'\u001B[0m \u001B[1;32min\u001B[0m \u001B[0mformats\u001B[0m\u001B[1;33m:\u001B[0m\u001B[1;33m\u001B[0m\u001B[1;33m\u001B[0m\u001B[0m\n\u001B[0;32m    255\u001B[0m         \u001B[0mpng_formatter\u001B[0m\u001B[1;33m.\u001B[0m\u001B[0mfor_type\u001B[0m\u001B[1;33m(\u001B[0m\u001B[0mFigure\u001B[0m\u001B[1;33m,\u001B[0m \u001B[1;32mlambda\u001B[0m \u001B[0mfig\u001B[0m\u001B[1;33m:\u001B[0m \u001B[0mretina_figure\u001B[0m\u001B[1;33m(\u001B[0m\u001B[0mfig\u001B[0m\u001B[1;33m,\u001B[0m \u001B[1;33m**\u001B[0m\u001B[0mkwargs\u001B[0m\u001B[1;33m)\u001B[0m\u001B[1;33m)\u001B[0m\u001B[1;33m\u001B[0m\u001B[1;33m\u001B[0m\u001B[0m\n",
      "\u001B[1;32mc:\\users\\soles\\desktop\\git\\data_analysis\\.venv\\lib\\site-packages\\IPython\\core\\pylabtools.py\u001B[0m in \u001B[0;36mprint_figure\u001B[1;34m(fig, fmt, bbox_inches, **kwargs)\u001B[0m\n\u001B[0;32m    135\u001B[0m         \u001B[0mFigureCanvasBase\u001B[0m\u001B[1;33m(\u001B[0m\u001B[0mfig\u001B[0m\u001B[1;33m)\u001B[0m\u001B[1;33m\u001B[0m\u001B[1;33m\u001B[0m\u001B[0m\n\u001B[0;32m    136\u001B[0m \u001B[1;33m\u001B[0m\u001B[0m\n\u001B[1;32m--> 137\u001B[1;33m     \u001B[0mfig\u001B[0m\u001B[1;33m.\u001B[0m\u001B[0mcanvas\u001B[0m\u001B[1;33m.\u001B[0m\u001B[0mprint_figure\u001B[0m\u001B[1;33m(\u001B[0m\u001B[0mbytes_io\u001B[0m\u001B[1;33m,\u001B[0m \u001B[1;33m**\u001B[0m\u001B[0mkw\u001B[0m\u001B[1;33m)\u001B[0m\u001B[1;33m\u001B[0m\u001B[1;33m\u001B[0m\u001B[0m\n\u001B[0m\u001B[0;32m    138\u001B[0m     \u001B[0mdata\u001B[0m \u001B[1;33m=\u001B[0m \u001B[0mbytes_io\u001B[0m\u001B[1;33m.\u001B[0m\u001B[0mgetvalue\u001B[0m\u001B[1;33m(\u001B[0m\u001B[1;33m)\u001B[0m\u001B[1;33m\u001B[0m\u001B[1;33m\u001B[0m\u001B[0m\n\u001B[0;32m    139\u001B[0m     \u001B[1;32mif\u001B[0m \u001B[0mfmt\u001B[0m \u001B[1;33m==\u001B[0m \u001B[1;34m'svg'\u001B[0m\u001B[1;33m:\u001B[0m\u001B[1;33m\u001B[0m\u001B[1;33m\u001B[0m\u001B[0m\n",
      "\u001B[1;32mc:\\users\\soles\\desktop\\git\\data_analysis\\.venv\\lib\\site-packages\\matplotlib\\backend_bases.py\u001B[0m in \u001B[0;36mprint_figure\u001B[1;34m(self, filename, dpi, facecolor, edgecolor, orientation, format, bbox_inches, pad_inches, bbox_extra_artists, backend, **kwargs)\u001B[0m\n\u001B[0;32m   2253\u001B[0m                 \u001B[1;31m# force the figure dpi to 72), so we need to set it again here.\u001B[0m\u001B[1;33m\u001B[0m\u001B[1;33m\u001B[0m\u001B[1;33m\u001B[0m\u001B[0m\n\u001B[0;32m   2254\u001B[0m                 \u001B[1;32mwith\u001B[0m \u001B[0mcbook\u001B[0m\u001B[1;33m.\u001B[0m\u001B[0m_setattr_cm\u001B[0m\u001B[1;33m(\u001B[0m\u001B[0mself\u001B[0m\u001B[1;33m.\u001B[0m\u001B[0mfigure\u001B[0m\u001B[1;33m,\u001B[0m \u001B[0mdpi\u001B[0m\u001B[1;33m=\u001B[0m\u001B[0mdpi\u001B[0m\u001B[1;33m)\u001B[0m\u001B[1;33m:\u001B[0m\u001B[1;33m\u001B[0m\u001B[1;33m\u001B[0m\u001B[0m\n\u001B[1;32m-> 2255\u001B[1;33m                     result = print_method(\n\u001B[0m\u001B[0;32m   2256\u001B[0m                         \u001B[0mfilename\u001B[0m\u001B[1;33m,\u001B[0m\u001B[1;33m\u001B[0m\u001B[1;33m\u001B[0m\u001B[0m\n\u001B[0;32m   2257\u001B[0m                         \u001B[0mfacecolor\u001B[0m\u001B[1;33m=\u001B[0m\u001B[0mfacecolor\u001B[0m\u001B[1;33m,\u001B[0m\u001B[1;33m\u001B[0m\u001B[1;33m\u001B[0m\u001B[0m\n",
      "\u001B[1;32mc:\\users\\soles\\desktop\\git\\data_analysis\\.venv\\lib\\site-packages\\matplotlib\\backend_bases.py\u001B[0m in \u001B[0;36mwrapper\u001B[1;34m(*args, **kwargs)\u001B[0m\n\u001B[0;32m   1667\u001B[0m             \u001B[0mkwargs\u001B[0m\u001B[1;33m.\u001B[0m\u001B[0mpop\u001B[0m\u001B[1;33m(\u001B[0m\u001B[0marg\u001B[0m\u001B[1;33m)\u001B[0m\u001B[1;33m\u001B[0m\u001B[1;33m\u001B[0m\u001B[0m\n\u001B[0;32m   1668\u001B[0m \u001B[1;33m\u001B[0m\u001B[0m\n\u001B[1;32m-> 1669\u001B[1;33m         \u001B[1;32mreturn\u001B[0m \u001B[0mfunc\u001B[0m\u001B[1;33m(\u001B[0m\u001B[1;33m*\u001B[0m\u001B[0margs\u001B[0m\u001B[1;33m,\u001B[0m \u001B[1;33m**\u001B[0m\u001B[0mkwargs\u001B[0m\u001B[1;33m)\u001B[0m\u001B[1;33m\u001B[0m\u001B[1;33m\u001B[0m\u001B[0m\n\u001B[0m\u001B[0;32m   1670\u001B[0m \u001B[1;33m\u001B[0m\u001B[0m\n\u001B[0;32m   1671\u001B[0m     \u001B[1;32mreturn\u001B[0m \u001B[0mwrapper\u001B[0m\u001B[1;33m\u001B[0m\u001B[1;33m\u001B[0m\u001B[0m\n",
      "\u001B[1;32mc:\\users\\soles\\desktop\\git\\data_analysis\\.venv\\lib\\site-packages\\matplotlib\\backends\\backend_agg.py\u001B[0m in \u001B[0;36mprint_png\u001B[1;34m(self, filename_or_obj, metadata, pil_kwargs, *args)\u001B[0m\n\u001B[0;32m    506\u001B[0m             \u001B[1;33m*\u001B[0m\u001B[0mmetadata\u001B[0m\u001B[1;33m*\u001B[0m\u001B[1;33m,\u001B[0m \u001B[0mincluding\u001B[0m \u001B[0mthe\u001B[0m \u001B[0mdefault\u001B[0m \u001B[1;34m'Software'\u001B[0m \u001B[0mkey\u001B[0m\u001B[1;33m.\u001B[0m\u001B[1;33m\u001B[0m\u001B[1;33m\u001B[0m\u001B[0m\n\u001B[0;32m    507\u001B[0m         \"\"\"\n\u001B[1;32m--> 508\u001B[1;33m         \u001B[0mFigureCanvasAgg\u001B[0m\u001B[1;33m.\u001B[0m\u001B[0mdraw\u001B[0m\u001B[1;33m(\u001B[0m\u001B[0mself\u001B[0m\u001B[1;33m)\u001B[0m\u001B[1;33m\u001B[0m\u001B[1;33m\u001B[0m\u001B[0m\n\u001B[0m\u001B[0;32m    509\u001B[0m         mpl.image.imsave(\n\u001B[0;32m    510\u001B[0m             \u001B[0mfilename_or_obj\u001B[0m\u001B[1;33m,\u001B[0m \u001B[0mself\u001B[0m\u001B[1;33m.\u001B[0m\u001B[0mbuffer_rgba\u001B[0m\u001B[1;33m(\u001B[0m\u001B[1;33m)\u001B[0m\u001B[1;33m,\u001B[0m \u001B[0mformat\u001B[0m\u001B[1;33m=\u001B[0m\u001B[1;34m\"png\"\u001B[0m\u001B[1;33m,\u001B[0m \u001B[0morigin\u001B[0m\u001B[1;33m=\u001B[0m\u001B[1;34m\"upper\"\u001B[0m\u001B[1;33m,\u001B[0m\u001B[1;33m\u001B[0m\u001B[1;33m\u001B[0m\u001B[0m\n",
      "\u001B[1;32mc:\\users\\soles\\desktop\\git\\data_analysis\\.venv\\lib\\site-packages\\matplotlib\\backends\\backend_agg.py\u001B[0m in \u001B[0;36mdraw\u001B[1;34m(self)\u001B[0m\n\u001B[0;32m    404\u001B[0m              (self.toolbar._wait_cursor_for_draw_cm() if self.toolbar\n\u001B[0;32m    405\u001B[0m               else nullcontext()):\n\u001B[1;32m--> 406\u001B[1;33m             \u001B[0mself\u001B[0m\u001B[1;33m.\u001B[0m\u001B[0mfigure\u001B[0m\u001B[1;33m.\u001B[0m\u001B[0mdraw\u001B[0m\u001B[1;33m(\u001B[0m\u001B[0mself\u001B[0m\u001B[1;33m.\u001B[0m\u001B[0mrenderer\u001B[0m\u001B[1;33m)\u001B[0m\u001B[1;33m\u001B[0m\u001B[1;33m\u001B[0m\u001B[0m\n\u001B[0m\u001B[0;32m    407\u001B[0m             \u001B[1;31m# A GUI class may be need to update a window using this draw, so\u001B[0m\u001B[1;33m\u001B[0m\u001B[1;33m\u001B[0m\u001B[1;33m\u001B[0m\u001B[0m\n\u001B[0;32m    408\u001B[0m             \u001B[1;31m# don't forget to call the superclass.\u001B[0m\u001B[1;33m\u001B[0m\u001B[1;33m\u001B[0m\u001B[1;33m\u001B[0m\u001B[0m\n",
      "\u001B[1;32mc:\\users\\soles\\desktop\\git\\data_analysis\\.venv\\lib\\site-packages\\matplotlib\\artist.py\u001B[0m in \u001B[0;36mdraw_wrapper\u001B[1;34m(artist, renderer, *args, **kwargs)\u001B[0m\n\u001B[0;32m     72\u001B[0m     \u001B[1;33m@\u001B[0m\u001B[0mwraps\u001B[0m\u001B[1;33m(\u001B[0m\u001B[0mdraw\u001B[0m\u001B[1;33m)\u001B[0m\u001B[1;33m\u001B[0m\u001B[1;33m\u001B[0m\u001B[0m\n\u001B[0;32m     73\u001B[0m     \u001B[1;32mdef\u001B[0m \u001B[0mdraw_wrapper\u001B[0m\u001B[1;33m(\u001B[0m\u001B[0martist\u001B[0m\u001B[1;33m,\u001B[0m \u001B[0mrenderer\u001B[0m\u001B[1;33m,\u001B[0m \u001B[1;33m*\u001B[0m\u001B[0margs\u001B[0m\u001B[1;33m,\u001B[0m \u001B[1;33m**\u001B[0m\u001B[0mkwargs\u001B[0m\u001B[1;33m)\u001B[0m\u001B[1;33m:\u001B[0m\u001B[1;33m\u001B[0m\u001B[1;33m\u001B[0m\u001B[0m\n\u001B[1;32m---> 74\u001B[1;33m         \u001B[0mresult\u001B[0m \u001B[1;33m=\u001B[0m \u001B[0mdraw\u001B[0m\u001B[1;33m(\u001B[0m\u001B[0martist\u001B[0m\u001B[1;33m,\u001B[0m \u001B[0mrenderer\u001B[0m\u001B[1;33m,\u001B[0m \u001B[1;33m*\u001B[0m\u001B[0margs\u001B[0m\u001B[1;33m,\u001B[0m \u001B[1;33m**\u001B[0m\u001B[0mkwargs\u001B[0m\u001B[1;33m)\u001B[0m\u001B[1;33m\u001B[0m\u001B[1;33m\u001B[0m\u001B[0m\n\u001B[0m\u001B[0;32m     75\u001B[0m         \u001B[1;32mif\u001B[0m \u001B[0mrenderer\u001B[0m\u001B[1;33m.\u001B[0m\u001B[0m_rasterizing\u001B[0m\u001B[1;33m:\u001B[0m\u001B[1;33m\u001B[0m\u001B[1;33m\u001B[0m\u001B[0m\n\u001B[0;32m     76\u001B[0m             \u001B[0mrenderer\u001B[0m\u001B[1;33m.\u001B[0m\u001B[0mstop_rasterizing\u001B[0m\u001B[1;33m(\u001B[0m\u001B[1;33m)\u001B[0m\u001B[1;33m\u001B[0m\u001B[1;33m\u001B[0m\u001B[0m\n",
      "\u001B[1;32mc:\\users\\soles\\desktop\\git\\data_analysis\\.venv\\lib\\site-packages\\matplotlib\\artist.py\u001B[0m in \u001B[0;36mdraw_wrapper\u001B[1;34m(artist, renderer, *args, **kwargs)\u001B[0m\n\u001B[0;32m     49\u001B[0m                 \u001B[0mrenderer\u001B[0m\u001B[1;33m.\u001B[0m\u001B[0mstart_filter\u001B[0m\u001B[1;33m(\u001B[0m\u001B[1;33m)\u001B[0m\u001B[1;33m\u001B[0m\u001B[1;33m\u001B[0m\u001B[0m\n\u001B[0;32m     50\u001B[0m \u001B[1;33m\u001B[0m\u001B[0m\n\u001B[1;32m---> 51\u001B[1;33m             \u001B[1;32mreturn\u001B[0m \u001B[0mdraw\u001B[0m\u001B[1;33m(\u001B[0m\u001B[0martist\u001B[0m\u001B[1;33m,\u001B[0m \u001B[0mrenderer\u001B[0m\u001B[1;33m,\u001B[0m \u001B[1;33m*\u001B[0m\u001B[0margs\u001B[0m\u001B[1;33m,\u001B[0m \u001B[1;33m**\u001B[0m\u001B[0mkwargs\u001B[0m\u001B[1;33m)\u001B[0m\u001B[1;33m\u001B[0m\u001B[1;33m\u001B[0m\u001B[0m\n\u001B[0m\u001B[0;32m     52\u001B[0m         \u001B[1;32mfinally\u001B[0m\u001B[1;33m:\u001B[0m\u001B[1;33m\u001B[0m\u001B[1;33m\u001B[0m\u001B[0m\n\u001B[0;32m     53\u001B[0m             \u001B[1;32mif\u001B[0m \u001B[0martist\u001B[0m\u001B[1;33m.\u001B[0m\u001B[0mget_agg_filter\u001B[0m\u001B[1;33m(\u001B[0m\u001B[1;33m)\u001B[0m \u001B[1;32mis\u001B[0m \u001B[1;32mnot\u001B[0m \u001B[1;32mNone\u001B[0m\u001B[1;33m:\u001B[0m\u001B[1;33m\u001B[0m\u001B[1;33m\u001B[0m\u001B[0m\n",
      "\u001B[1;32mc:\\users\\soles\\desktop\\git\\data_analysis\\.venv\\lib\\site-packages\\matplotlib\\figure.py\u001B[0m in \u001B[0;36mdraw\u001B[1;34m(self, renderer)\u001B[0m\n\u001B[0;32m   2788\u001B[0m \u001B[1;33m\u001B[0m\u001B[0m\n\u001B[0;32m   2789\u001B[0m             \u001B[0mself\u001B[0m\u001B[1;33m.\u001B[0m\u001B[0mpatch\u001B[0m\u001B[1;33m.\u001B[0m\u001B[0mdraw\u001B[0m\u001B[1;33m(\u001B[0m\u001B[0mrenderer\u001B[0m\u001B[1;33m)\u001B[0m\u001B[1;33m\u001B[0m\u001B[1;33m\u001B[0m\u001B[0m\n\u001B[1;32m-> 2790\u001B[1;33m             mimage._draw_list_compositing_images(\n\u001B[0m\u001B[0;32m   2791\u001B[0m                 renderer, self, artists, self.suppressComposite)\n\u001B[0;32m   2792\u001B[0m \u001B[1;33m\u001B[0m\u001B[0m\n",
      "\u001B[1;32mc:\\users\\soles\\desktop\\git\\data_analysis\\.venv\\lib\\site-packages\\matplotlib\\image.py\u001B[0m in \u001B[0;36m_draw_list_compositing_images\u001B[1;34m(renderer, parent, artists, suppress_composite)\u001B[0m\n\u001B[0;32m    130\u001B[0m     \u001B[1;32mif\u001B[0m \u001B[0mnot_composite\u001B[0m \u001B[1;32mor\u001B[0m \u001B[1;32mnot\u001B[0m \u001B[0mhas_images\u001B[0m\u001B[1;33m:\u001B[0m\u001B[1;33m\u001B[0m\u001B[1;33m\u001B[0m\u001B[0m\n\u001B[0;32m    131\u001B[0m         \u001B[1;32mfor\u001B[0m \u001B[0ma\u001B[0m \u001B[1;32min\u001B[0m \u001B[0martists\u001B[0m\u001B[1;33m:\u001B[0m\u001B[1;33m\u001B[0m\u001B[1;33m\u001B[0m\u001B[0m\n\u001B[1;32m--> 132\u001B[1;33m             \u001B[0ma\u001B[0m\u001B[1;33m.\u001B[0m\u001B[0mdraw\u001B[0m\u001B[1;33m(\u001B[0m\u001B[0mrenderer\u001B[0m\u001B[1;33m)\u001B[0m\u001B[1;33m\u001B[0m\u001B[1;33m\u001B[0m\u001B[0m\n\u001B[0m\u001B[0;32m    133\u001B[0m     \u001B[1;32melse\u001B[0m\u001B[1;33m:\u001B[0m\u001B[1;33m\u001B[0m\u001B[1;33m\u001B[0m\u001B[0m\n\u001B[0;32m    134\u001B[0m         \u001B[1;31m# Composite any adjacent images together\u001B[0m\u001B[1;33m\u001B[0m\u001B[1;33m\u001B[0m\u001B[1;33m\u001B[0m\u001B[0m\n",
      "\u001B[1;32mc:\\users\\soles\\desktop\\git\\data_analysis\\.venv\\lib\\site-packages\\matplotlib\\artist.py\u001B[0m in \u001B[0;36mdraw_wrapper\u001B[1;34m(artist, renderer, *args, **kwargs)\u001B[0m\n\u001B[0;32m     49\u001B[0m                 \u001B[0mrenderer\u001B[0m\u001B[1;33m.\u001B[0m\u001B[0mstart_filter\u001B[0m\u001B[1;33m(\u001B[0m\u001B[1;33m)\u001B[0m\u001B[1;33m\u001B[0m\u001B[1;33m\u001B[0m\u001B[0m\n\u001B[0;32m     50\u001B[0m \u001B[1;33m\u001B[0m\u001B[0m\n\u001B[1;32m---> 51\u001B[1;33m             \u001B[1;32mreturn\u001B[0m \u001B[0mdraw\u001B[0m\u001B[1;33m(\u001B[0m\u001B[0martist\u001B[0m\u001B[1;33m,\u001B[0m \u001B[0mrenderer\u001B[0m\u001B[1;33m,\u001B[0m \u001B[1;33m*\u001B[0m\u001B[0margs\u001B[0m\u001B[1;33m,\u001B[0m \u001B[1;33m**\u001B[0m\u001B[0mkwargs\u001B[0m\u001B[1;33m)\u001B[0m\u001B[1;33m\u001B[0m\u001B[1;33m\u001B[0m\u001B[0m\n\u001B[0m\u001B[0;32m     52\u001B[0m         \u001B[1;32mfinally\u001B[0m\u001B[1;33m:\u001B[0m\u001B[1;33m\u001B[0m\u001B[1;33m\u001B[0m\u001B[0m\n\u001B[0;32m     53\u001B[0m             \u001B[1;32mif\u001B[0m \u001B[0martist\u001B[0m\u001B[1;33m.\u001B[0m\u001B[0mget_agg_filter\u001B[0m\u001B[1;33m(\u001B[0m\u001B[1;33m)\u001B[0m \u001B[1;32mis\u001B[0m \u001B[1;32mnot\u001B[0m \u001B[1;32mNone\u001B[0m\u001B[1;33m:\u001B[0m\u001B[1;33m\u001B[0m\u001B[1;33m\u001B[0m\u001B[0m\n",
      "\u001B[1;32mc:\\users\\soles\\desktop\\git\\data_analysis\\.venv\\lib\\site-packages\\matplotlib\\_api\\deprecation.py\u001B[0m in \u001B[0;36mwrapper\u001B[1;34m(*inner_args, **inner_kwargs)\u001B[0m\n\u001B[0;32m    429\u001B[0m                          \u001B[1;32melse\u001B[0m \u001B[0mdeprecation_addendum\u001B[0m\u001B[1;33m,\u001B[0m\u001B[1;33m\u001B[0m\u001B[1;33m\u001B[0m\u001B[0m\n\u001B[0;32m    430\u001B[0m                 **kwargs)\n\u001B[1;32m--> 431\u001B[1;33m         \u001B[1;32mreturn\u001B[0m \u001B[0mfunc\u001B[0m\u001B[1;33m(\u001B[0m\u001B[1;33m*\u001B[0m\u001B[0minner_args\u001B[0m\u001B[1;33m,\u001B[0m \u001B[1;33m**\u001B[0m\u001B[0minner_kwargs\u001B[0m\u001B[1;33m)\u001B[0m\u001B[1;33m\u001B[0m\u001B[1;33m\u001B[0m\u001B[0m\n\u001B[0m\u001B[0;32m    432\u001B[0m \u001B[1;33m\u001B[0m\u001B[0m\n\u001B[0;32m    433\u001B[0m     \u001B[1;32mreturn\u001B[0m \u001B[0mwrapper\u001B[0m\u001B[1;33m\u001B[0m\u001B[1;33m\u001B[0m\u001B[0m\n",
      "\u001B[1;32mc:\\users\\soles\\desktop\\git\\data_analysis\\.venv\\lib\\site-packages\\matplotlib\\axes\\_base.py\u001B[0m in \u001B[0;36mdraw\u001B[1;34m(self, renderer, inframe)\u001B[0m\n\u001B[0;32m   2919\u001B[0m             \u001B[0mrenderer\u001B[0m\u001B[1;33m.\u001B[0m\u001B[0mstop_rasterizing\u001B[0m\u001B[1;33m(\u001B[0m\u001B[1;33m)\u001B[0m\u001B[1;33m\u001B[0m\u001B[1;33m\u001B[0m\u001B[0m\n\u001B[0;32m   2920\u001B[0m \u001B[1;33m\u001B[0m\u001B[0m\n\u001B[1;32m-> 2921\u001B[1;33m         \u001B[0mmimage\u001B[0m\u001B[1;33m.\u001B[0m\u001B[0m_draw_list_compositing_images\u001B[0m\u001B[1;33m(\u001B[0m\u001B[0mrenderer\u001B[0m\u001B[1;33m,\u001B[0m \u001B[0mself\u001B[0m\u001B[1;33m,\u001B[0m \u001B[0martists\u001B[0m\u001B[1;33m)\u001B[0m\u001B[1;33m\u001B[0m\u001B[1;33m\u001B[0m\u001B[0m\n\u001B[0m\u001B[0;32m   2922\u001B[0m \u001B[1;33m\u001B[0m\u001B[0m\n\u001B[0;32m   2923\u001B[0m         \u001B[0mrenderer\u001B[0m\u001B[1;33m.\u001B[0m\u001B[0mclose_group\u001B[0m\u001B[1;33m(\u001B[0m\u001B[1;34m'axes'\u001B[0m\u001B[1;33m)\u001B[0m\u001B[1;33m\u001B[0m\u001B[1;33m\u001B[0m\u001B[0m\n",
      "\u001B[1;32mc:\\users\\soles\\desktop\\git\\data_analysis\\.venv\\lib\\site-packages\\matplotlib\\image.py\u001B[0m in \u001B[0;36m_draw_list_compositing_images\u001B[1;34m(renderer, parent, artists, suppress_composite)\u001B[0m\n\u001B[0;32m    130\u001B[0m     \u001B[1;32mif\u001B[0m \u001B[0mnot_composite\u001B[0m \u001B[1;32mor\u001B[0m \u001B[1;32mnot\u001B[0m \u001B[0mhas_images\u001B[0m\u001B[1;33m:\u001B[0m\u001B[1;33m\u001B[0m\u001B[1;33m\u001B[0m\u001B[0m\n\u001B[0;32m    131\u001B[0m         \u001B[1;32mfor\u001B[0m \u001B[0ma\u001B[0m \u001B[1;32min\u001B[0m \u001B[0martists\u001B[0m\u001B[1;33m:\u001B[0m\u001B[1;33m\u001B[0m\u001B[1;33m\u001B[0m\u001B[0m\n\u001B[1;32m--> 132\u001B[1;33m             \u001B[0ma\u001B[0m\u001B[1;33m.\u001B[0m\u001B[0mdraw\u001B[0m\u001B[1;33m(\u001B[0m\u001B[0mrenderer\u001B[0m\u001B[1;33m)\u001B[0m\u001B[1;33m\u001B[0m\u001B[1;33m\u001B[0m\u001B[0m\n\u001B[0m\u001B[0;32m    133\u001B[0m     \u001B[1;32melse\u001B[0m\u001B[1;33m:\u001B[0m\u001B[1;33m\u001B[0m\u001B[1;33m\u001B[0m\u001B[0m\n\u001B[0;32m    134\u001B[0m         \u001B[1;31m# Composite any adjacent images together\u001B[0m\u001B[1;33m\u001B[0m\u001B[1;33m\u001B[0m\u001B[1;33m\u001B[0m\u001B[0m\n",
      "\u001B[1;32mc:\\users\\soles\\desktop\\git\\data_analysis\\.venv\\lib\\site-packages\\matplotlib\\artist.py\u001B[0m in \u001B[0;36mdraw_wrapper\u001B[1;34m(artist, renderer, *args, **kwargs)\u001B[0m\n\u001B[0;32m     49\u001B[0m                 \u001B[0mrenderer\u001B[0m\u001B[1;33m.\u001B[0m\u001B[0mstart_filter\u001B[0m\u001B[1;33m(\u001B[0m\u001B[1;33m)\u001B[0m\u001B[1;33m\u001B[0m\u001B[1;33m\u001B[0m\u001B[0m\n\u001B[0;32m     50\u001B[0m \u001B[1;33m\u001B[0m\u001B[0m\n\u001B[1;32m---> 51\u001B[1;33m             \u001B[1;32mreturn\u001B[0m \u001B[0mdraw\u001B[0m\u001B[1;33m(\u001B[0m\u001B[0martist\u001B[0m\u001B[1;33m,\u001B[0m \u001B[0mrenderer\u001B[0m\u001B[1;33m,\u001B[0m \u001B[1;33m*\u001B[0m\u001B[0margs\u001B[0m\u001B[1;33m,\u001B[0m \u001B[1;33m**\u001B[0m\u001B[0mkwargs\u001B[0m\u001B[1;33m)\u001B[0m\u001B[1;33m\u001B[0m\u001B[1;33m\u001B[0m\u001B[0m\n\u001B[0m\u001B[0;32m     52\u001B[0m         \u001B[1;32mfinally\u001B[0m\u001B[1;33m:\u001B[0m\u001B[1;33m\u001B[0m\u001B[1;33m\u001B[0m\u001B[0m\n\u001B[0;32m     53\u001B[0m             \u001B[1;32mif\u001B[0m \u001B[0martist\u001B[0m\u001B[1;33m.\u001B[0m\u001B[0mget_agg_filter\u001B[0m\u001B[1;33m(\u001B[0m\u001B[1;33m)\u001B[0m \u001B[1;32mis\u001B[0m \u001B[1;32mnot\u001B[0m \u001B[1;32mNone\u001B[0m\u001B[1;33m:\u001B[0m\u001B[1;33m\u001B[0m\u001B[1;33m\u001B[0m\u001B[0m\n",
      "\u001B[1;32mc:\\users\\soles\\desktop\\git\\data_analysis\\.venv\\lib\\site-packages\\matplotlib\\text.py\u001B[0m in \u001B[0;36mdraw\u001B[1;34m(self, renderer)\u001B[0m\n\u001B[0;32m   1960\u001B[0m         \u001B[1;31m# Draw text, including FancyBboxPatch, after FancyArrowPatch.\u001B[0m\u001B[1;33m\u001B[0m\u001B[1;33m\u001B[0m\u001B[1;33m\u001B[0m\u001B[0m\n\u001B[0;32m   1961\u001B[0m         \u001B[1;31m# Otherwise, a wedge arrowstyle can land partly on top of the Bbox.\u001B[0m\u001B[1;33m\u001B[0m\u001B[1;33m\u001B[0m\u001B[1;33m\u001B[0m\u001B[0m\n\u001B[1;32m-> 1962\u001B[1;33m         \u001B[0mText\u001B[0m\u001B[1;33m.\u001B[0m\u001B[0mdraw\u001B[0m\u001B[1;33m(\u001B[0m\u001B[0mself\u001B[0m\u001B[1;33m,\u001B[0m \u001B[0mrenderer\u001B[0m\u001B[1;33m)\u001B[0m\u001B[1;33m\u001B[0m\u001B[1;33m\u001B[0m\u001B[0m\n\u001B[0m\u001B[0;32m   1963\u001B[0m \u001B[1;33m\u001B[0m\u001B[0m\n\u001B[0;32m   1964\u001B[0m     \u001B[1;32mdef\u001B[0m \u001B[0mget_window_extent\u001B[0m\u001B[1;33m(\u001B[0m\u001B[0mself\u001B[0m\u001B[1;33m,\u001B[0m \u001B[0mrenderer\u001B[0m\u001B[1;33m=\u001B[0m\u001B[1;32mNone\u001B[0m\u001B[1;33m)\u001B[0m\u001B[1;33m:\u001B[0m\u001B[1;33m\u001B[0m\u001B[1;33m\u001B[0m\u001B[0m\n",
      "\u001B[1;32mc:\\users\\soles\\desktop\\git\\data_analysis\\.venv\\lib\\site-packages\\matplotlib\\artist.py\u001B[0m in \u001B[0;36mdraw_wrapper\u001B[1;34m(artist, renderer, *args, **kwargs)\u001B[0m\n\u001B[0;32m     49\u001B[0m                 \u001B[0mrenderer\u001B[0m\u001B[1;33m.\u001B[0m\u001B[0mstart_filter\u001B[0m\u001B[1;33m(\u001B[0m\u001B[1;33m)\u001B[0m\u001B[1;33m\u001B[0m\u001B[1;33m\u001B[0m\u001B[0m\n\u001B[0;32m     50\u001B[0m \u001B[1;33m\u001B[0m\u001B[0m\n\u001B[1;32m---> 51\u001B[1;33m             \u001B[1;32mreturn\u001B[0m \u001B[0mdraw\u001B[0m\u001B[1;33m(\u001B[0m\u001B[0martist\u001B[0m\u001B[1;33m,\u001B[0m \u001B[0mrenderer\u001B[0m\u001B[1;33m,\u001B[0m \u001B[1;33m*\u001B[0m\u001B[0margs\u001B[0m\u001B[1;33m,\u001B[0m \u001B[1;33m**\u001B[0m\u001B[0mkwargs\u001B[0m\u001B[1;33m)\u001B[0m\u001B[1;33m\u001B[0m\u001B[1;33m\u001B[0m\u001B[0m\n\u001B[0m\u001B[0;32m     52\u001B[0m         \u001B[1;32mfinally\u001B[0m\u001B[1;33m:\u001B[0m\u001B[1;33m\u001B[0m\u001B[1;33m\u001B[0m\u001B[0m\n\u001B[0;32m     53\u001B[0m             \u001B[1;32mif\u001B[0m \u001B[0martist\u001B[0m\u001B[1;33m.\u001B[0m\u001B[0mget_agg_filter\u001B[0m\u001B[1;33m(\u001B[0m\u001B[1;33m)\u001B[0m \u001B[1;32mis\u001B[0m \u001B[1;32mnot\u001B[0m \u001B[1;32mNone\u001B[0m\u001B[1;33m:\u001B[0m\u001B[1;33m\u001B[0m\u001B[1;33m\u001B[0m\u001B[0m\n",
      "\u001B[1;32mc:\\users\\soles\\desktop\\git\\data_analysis\\.venv\\lib\\site-packages\\matplotlib\\text.py\u001B[0m in \u001B[0;36mdraw\u001B[1;34m(self, renderer)\u001B[0m\n\u001B[0;32m    725\u001B[0m                                           mtext=mtext)\n\u001B[0;32m    726\u001B[0m                 \u001B[1;32melse\u001B[0m\u001B[1;33m:\u001B[0m\u001B[1;33m\u001B[0m\u001B[1;33m\u001B[0m\u001B[0m\n\u001B[1;32m--> 727\u001B[1;33m                     textrenderer.draw_text(gc, x, y, clean_line,\n\u001B[0m\u001B[0;32m    728\u001B[0m                                            \u001B[0mtextobj\u001B[0m\u001B[1;33m.\u001B[0m\u001B[0m_fontproperties\u001B[0m\u001B[1;33m,\u001B[0m \u001B[0mangle\u001B[0m\u001B[1;33m,\u001B[0m\u001B[1;33m\u001B[0m\u001B[1;33m\u001B[0m\u001B[0m\n\u001B[0;32m    729\u001B[0m                                            ismath=ismath, mtext=mtext)\n",
      "\u001B[1;32mc:\\users\\soles\\desktop\\git\\data_analysis\\.venv\\lib\\site-packages\\matplotlib\\backends\\backend_agg.py\u001B[0m in \u001B[0;36mdraw_text\u001B[1;34m(self, gc, x, y, s, prop, angle, ismath, mtext)\u001B[0m\n\u001B[0;32m    201\u001B[0m         \u001B[1;31m# We pass '0' for angle here, since it will be rotated (in raster\u001B[0m\u001B[1;33m\u001B[0m\u001B[1;33m\u001B[0m\u001B[1;33m\u001B[0m\u001B[0m\n\u001B[0;32m    202\u001B[0m         \u001B[1;31m# space) in the following call to draw_text_image).\u001B[0m\u001B[1;33m\u001B[0m\u001B[1;33m\u001B[0m\u001B[1;33m\u001B[0m\u001B[0m\n\u001B[1;32m--> 203\u001B[1;33m         \u001B[0mfont\u001B[0m\u001B[1;33m.\u001B[0m\u001B[0mset_text\u001B[0m\u001B[1;33m(\u001B[0m\u001B[0ms\u001B[0m\u001B[1;33m,\u001B[0m \u001B[1;36m0\u001B[0m\u001B[1;33m,\u001B[0m \u001B[0mflags\u001B[0m\u001B[1;33m=\u001B[0m\u001B[0mflags\u001B[0m\u001B[1;33m)\u001B[0m\u001B[1;33m\u001B[0m\u001B[1;33m\u001B[0m\u001B[0m\n\u001B[0m\u001B[0;32m    204\u001B[0m         font.draw_glyphs_to_bitmap(\n\u001B[0;32m    205\u001B[0m             antialiased=mpl.rcParams['text.antialiased'])\n",
      "\u001B[1;31mKeyboardInterrupt\u001B[0m: "
     ]
    }
   ],
   "source": [
    "fig = plt.figure(figsize=(25,20))\n",
    "_ = tree.plot_tree(model,\n",
    "               feature_names = col,\n",
    "               class_names = y.unique(),\n",
    "               filled = True)"
   ]
  },
  {
   "cell_type": "code",
   "execution_count": null,
   "metadata": {
    "tags": [],
    "pycharm": {
     "is_executing": true
    }
   },
   "outputs": [],
   "source": [
    "fig.savefig('decision_tree.png')"
   ]
  },
  {
   "cell_type": "markdown",
   "metadata": {},
   "source": [
    "Або можна використати більш швидкий функціонал - бібліотеку **[python-graphviz](https://scikit-learn.org/stable/modules/generated/sklearn.tree.export_graphviz.html)** ."
   ]
  },
  {
   "cell_type": "code",
   "execution_count": null,
   "metadata": {
    "pycharm": {
     "is_executing": true
    }
   },
   "outputs": [],
   "source": [
    "import graphviz\n",
    "dot_data = tree.export_graphviz(model,\n",
    "               feature_names = col,\n",
    "               class_names = y.unique(),\n",
    "                                filled=True)"
   ]
  },
  {
   "cell_type": "markdown",
   "metadata": {},
   "source": [
    "Після створення можна намалювати граф"
   ]
  },
  {
   "cell_type": "code",
   "execution_count": null,
   "metadata": {
    "tags": [],
    "pycharm": {
     "is_executing": true
    }
   },
   "outputs": [],
   "source": [
    "graph = graphviz.Source(dot_data, format=\"png\")\n",
    "graph"
   ]
  },
  {
   "cell_type": "markdown",
   "metadata": {},
   "source": [
    "І передати його у файл:"
   ]
  },
  {
   "cell_type": "code",
   "execution_count": null,
   "metadata": {
    "pycharm": {
     "is_executing": true
    }
   },
   "outputs": [],
   "source": [
    "graph.render(\"decision_tree_graphivz\")"
   ]
  },
  {
   "cell_type": "markdown",
   "metadata": {
    "id": "VUMjKczqTThq"
   },
   "source": [
    "## Завдання"
   ]
  },
  {
   "cell_type": "code",
   "execution_count": null,
   "metadata": {
    "pycharm": {
     "is_executing": true
    }
   },
   "outputs": [],
   "source": [
    "model = ExtraTreesClassifier"
   ]
  },
  {
   "cell_type": "markdown",
   "metadata": {},
   "source": [
    "**Завдання 1** Створіть функцію користувача, яка буде обчислювати точність визначеної класифікаційної моделі"
   ]
  },
  {
   "cell_type": "code",
   "execution_count": null,
   "metadata": {
    "pycharm": {
     "is_executing": true
    }
   },
   "outputs": [],
   "source": [
    "def model_ac(x_train, y_train, x_test, y_test, clf):\n",
    "     model = clf()\n",
    "     model.fit(x_train, y_train)\n",
    "     yhat = model.predict(x_test)\n",
    "     accuracy = accuracy_score(y_test, yhat)\n",
    "     return accuracy"
   ]
  },
  {
   "cell_type": "markdown",
   "metadata": {},
   "source": [
    "<details><summary>Натисніть <b>тут,</b> щоб отримати розв'язок</summary>\n",
    "<code>\n",
    "    model = clf()\n",
    "    model.fit(x_train, y_train)\n",
    "    yhat = model.predict(x_test)\n",
    "    accuracy = accuracy_score(y_test, yhat)\n",
    "    return accuracy\n",
    "    </code>\n",
    "</details>"
   ]
  },
  {
   "cell_type": "code",
   "execution_count": null,
   "metadata": {
    "pycharm": {
     "is_executing": true
    }
   },
   "outputs": [],
   "source": [
    "print('Accuracy: %.2f' % (model_ac(X_train, y_train, X_test, y_test, model)*100))"
   ]
  },
  {
   "cell_type": "markdown",
   "metadata": {},
   "source": [
    "**Завдання 2** Створіть функцію користувача, яка буде обчислювати вагу вхідних полів визначеної класифікаційної моделі."
   ]
  },
  {
   "cell_type": "code",
   "execution_count": null,
   "metadata": {
    "pycharm": {
     "is_executing": true
    }
   },
   "outputs": [],
   "source": [
    "def model_imp(x_train, y_train, clf):\n",
    "    model = clf()\n",
    "    model.fit(x_train, y_train)\n",
    "    feat_importances = pd.Series(model.feature_importances_, index=x_enc.columns)\n",
    "    return feat_importances.sort_values(ascending=False)"
   ]
  },
  {
   "cell_type": "markdown",
   "metadata": {},
   "source": [
    "<details><summary>Натисніть <b>тут,</b> щоб отримати розв'язок</summary>\n",
    "<code>\n",
    "    model = clf()\n",
    "    model.fit(x_train, y_train)\n",
    "    feat_importances = pd.Series(model.feature_importances_, index=x_enc.columns)\n",
    "    return feat_importances.sort_values(ascending=False)\n",
    "    </code>\n",
    "</details>"
   ]
  },
  {
   "cell_type": "code",
   "execution_count": null,
   "metadata": {
    "pycharm": {
     "is_executing": true
    }
   },
   "outputs": [],
   "source": [
    "imp = model_imp(X_train, y_train, model)\n",
    "print(imp)"
   ]
  },
  {
   "cell_type": "markdown",
   "metadata": {},
   "source": [
    "**Завдання 3** Побудуйте графік, який показує точність залежності визначеної моделі від кількості вхідних елементів"
   ]
  },
  {
   "cell_type": "code",
   "execution_count": null,
   "metadata": {
    "pycharm": {
     "is_executing": true
    }
   },
   "outputs": [],
   "source": [
    "col = []\n",
    "ac = []\n",
    "for c in imp.index:\n",
    "    col.append(c)\n",
    "    ac.append(model_ac(X_train[col], y_train, X_test[col], y_test, model))\n",
    "    print('Input fields: ', len(col), 'Accuracy: %.2f' % (ac[-1]*100))\n",
    "ac = pd.Series(ac)\n",
    "ac.plot()"
   ]
  },
  {
   "cell_type": "markdown",
   "metadata": {},
   "source": [
    "<details><summary>Натисніть <b>тут,</b> щоб отримати розв'язок</summary>\n",
    "<code>\n",
    "col = []\n",
    "ac = []\n",
    "for c in imp.index:\n",
    "    col.append(c)\n",
    "    ac.append(model_ac(X_train[col], y_train, X_test[col], y_test, model))\n",
    "    print('Input fields: ', len(col), 'Accuracy: %.2f' % (ac[-1]*100))\n",
    "ac = pd.Series(ac)\n",
    "ac.plot()\n",
    "    </code>\n",
    "</details>"
   ]
  },
  {
   "cell_type": "markdown",
   "metadata": {
    "id": "iEbNXiqmTTh0"
   },
   "source": [
    "## Індивідуальне завдання."
   ]
  },
  {
   "cell_type": "markdown",
   "metadata": {},
   "source": [
    "**Завдання ** Виконайте завдання 1-3, та зробіть власні висновки з виконання лаболаторної роботи"
   ]
  },
  {
   "cell_type": "markdown",
   "metadata": {
    "id": "iEbNXiqmTTh0",
    "pycharm": {
     "name": "#%% md\n"
    }
   },
   "source": [
    "## Висновок\n",
    "\n",
    "У цій лабораторній роботі ми навчилися робити попередню обробку даних. Зокрема,\n",
    "змінювати типи даних, нормалізувати та обробляти категорійні дані.\n",
    "Було показано, як зробити вибір вхідних полів різними методами, будувати навчальні та тестові набори даних.\n",
    "Показано, як працювати з різними класифікаторами, візуалізувати дерево рішень. В\n",
    "результаті лабораторної роботи вивчено, як на основі статистичної бази даних передбачити,\n",
    "чи буде клієнт підписувати строковий депозит чи ні.\n",
    "Точність прийняття рішення становить близько 90%"
   ]
  }
 ],
 "metadata": {
  "colab": {
   "collapsed_sections": [],
   "name": "VDA_Banking_L2.ipynb",
   "provenance": [],
   "toc_visible": true
  },
  "kernelspec": {
   "display_name": "Python 3 (ipykernel)",
   "language": "python",
   "name": "python3"
  },
  "language_info": {
   "codemirror_mode": {
    "name": "ipython",
    "version": 3
   },
   "file_extension": ".py",
   "mimetype": "text/x-python",
   "name": "python",
   "nbconvert_exporter": "python",
   "pygments_lexer": "ipython3",
   "version": "3.9.1"
  }
 },
 "nbformat": 4,
 "nbformat_minor": 4
}