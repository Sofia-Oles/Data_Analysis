{
 "cells": [
  {
   "cell_type": "markdown",
   "metadata": {},
   "source": [
    "<center>\n",
    "\n",
    "</center>"
   ]
  },
  {
   "cell_type": "markdown",
   "metadata": {},
   "source": [
    "## **Лабораторна робота 1**\n",
    "Тема: Статистичний аналіз даних.\n",
    "Мета: завантаження, препроцесний та статистичний аналіз медичних даних  ELISA тесту та даних про вакцинацію."
   ]
  },
  {
   "cell_type": "markdown",
   "metadata": {},
   "source": [
    "## Короткі теоретичні відомості\n",
    "Основна складність статистичного аналізу реальних даних полягає в тому, що вони готуються або подаються у формі, незручній для машинних методів статистичного аналізу. Тому у даній лабораторній роботі розглядаються методи автоматичної попередньої підготовки реальних даних. Наступне завдання - це здатність грамотно зманіпулювати та трансформувати великі дані так, щоб отримати зручний статистичний звіт як у табличній формі, так і у вигляді графіків.\n",
    "Тому основна мета, яку ми маємо досягти в цій лабораторній роботі,-навчитися завантажувати, попередньо обробляти та проводити базовий статистичний аналіз за допомогою сучасних методів DataMining даних анкет, отриманих під час опитування людей."
   ]
  },
  {
   "cell_type": "markdown",
   "metadata": {},
   "source": [
    "## Індивідуальний варіант №16\n",
    "Побудуйте графік максимальної температури для чоловіків при Covid для кожної вікової категорії."
   ]
  },
  {
   "cell_type": "markdown",
   "metadata": {},
   "source": [
    "## Варіант розв'язку графіком розсіювання\n",
    "\n",
    "Деякі бібліотеки необхідно імпортувати перед початком роботи"
   ]
  },
  {
   "cell_type": "code",
   "execution_count": 1,
   "metadata": {
    "pycharm": {
     "name": "#%%\n"
    }
   },
   "outputs": [],
   "source": [
    "import pandas as pd\n",
    "from datetime import datetime\n",
    "import matplotlib.pyplot as plt\n",
    "import seaborn as sns"
   ]
  },
  {
   "cell_type": "markdown",
   "metadata": {},
   "source": [
    "Дату та час з першого стовпця таблиці виберемо як індексне поле, також напишемо функцію,\n",
    "яка перетворюватиме будь-який формат дати й часу у формат дати й часу на python."
   ]
  },
  {
   "cell_type": "code",
   "execution_count": 2,
   "metadata": {
    "pycharm": {
     "name": "#%%\n"
    }
   },
   "outputs": [],
   "source": [
    "def parse(x):\n",
    "    y = x.split()\n",
    "    t = y[1][:8]\n",
    "    z = y[0] + \" \" + t\n",
    "    d = datetime.strptime(z, '%Y-%m-%d %H:%M:%S')\n",
    "    return d\n"
   ]
  },
  {
   "cell_type": "markdown",
   "metadata": {},
   "source": [
    "Тепер прочитаємо наші дані з таблиці."
   ]
  },
  {
   "cell_type": "code",
   "execution_count": 3,
   "metadata": {
    "pycharm": {
     "name": "#%%\n"
    }
   },
   "outputs": [],
   "source": [
    "df = pd.read_excel('COVID_19.xlsx', 'Sheet1', na_values=\"NaN\", parse_dates=['Date time'], index_col=0, date_parser=parse)\n"
   ]
  },
  {
   "cell_type": "markdown",
   "metadata": {},
   "source": [
    "Отриманий  dataset містить 3308 рядків та 14 стовпчиків"
   ]
  },
  {
   "cell_type": "markdown",
   "metadata": {},
   "source": [
    "Отримаємо інформацію про максимальні температурні показники для чоловіків з кожної вікової категорії за допомогою функції pivot_table()."
   ]
  },
  {
   "cell_type": "code",
   "execution_count": 4,
   "metadata": {
    "pycharm": {
     "name": "#%%\n"
    }
   },
   "outputs": [],
   "source": [
    "df_men = df[df['Gender'] == 'Male (Чоловік)']\n",
    "data_men=pd.pivot_table(df_men,\n",
    "                values= 'Maximum body temperature',\n",
    "                index= ['Age'],\n",
    "                columns=['Gender'],\n",
    "                aggfunc='max')"
   ]
  },
  {
   "cell_type": "code",
   "execution_count": 6,
   "metadata": {
    "pycharm": {
     "name": "#%%\n"
    }
   },
   "outputs": [
    {
     "name": "stdout",
     "output_type": "stream",
     "text": [
      "Gender  Male (Чоловік)\n",
      "Age                   \n",
      "0-15              38.7\n",
      "16-22             38.8\n",
      "23-40             38.8\n",
      "40-65             38.8\n",
      ">65               38.8\n"
     ]
    }
   ],
   "source": [
    "print(data_men)"
   ]
  },
  {
   "cell_type": "markdown",
   "metadata": {},
   "source": [
    "Звізуалізуємо графік розсіювання згідно варіанту:"
   ]
  },
  {
   "cell_type": "code",
   "execution_count": 7,
   "metadata": {
    "pycharm": {
     "name": "#%%\n"
    }
   },
   "outputs": [
    {
     "data": {
      "text/plain": "<AxesSubplot:xlabel='Age'>"
     },
     "execution_count": 7,
     "metadata": {},
     "output_type": "execute_result"
    },
    {
     "data": {
      "text/plain": "<Figure size 432x288 with 1 Axes>",
      "image/png": "[encoded data removed]"
     },
     "metadata": {
      "needs_background": "light"
     },
     "output_type": "display_data"
    }
   ],
   "source": [
    "sns.scatterplot(data=data_men)"
   ]
  },
  {
   "cell_type": "markdown",
   "metadata": {},
   "source": [
    "## Варіант розв'язку стовпчастою діаграмою"
   ]
  },
  {
   "cell_type": "code",
   "execution_count": 8,
   "metadata": {
    "pycharm": {
     "name": "#%%\n"
    }
   },
   "outputs": [],
   "source": [
    "df_men = df[df['Gender'] == 'Male (Чоловік)']\n",
    "data_men=pd.pivot_table(df_men,\n",
    "                values= 'Maximum body temperature',\n",
    "                index= ['Age'],\n",
    "                columns=['Gender'],\n",
    "                aggfunc='max')"
   ]
  },
  {
   "cell_type": "code",
   "execution_count": 9,
   "metadata": {
    "pycharm": {
     "name": "#%%\n"
    }
   },
   "outputs": [],
   "source": [
    "list_of_temp, list_of_ages = [], []"
   ]
  },
  {
   "cell_type": "code",
   "execution_count": 10,
   "metadata": {
    "pycharm": {
     "name": "#%%\n"
    }
   },
   "outputs": [],
   "source": [
    "for i in data_men.iterrows():\n",
    "    list_of_ages.append(i[0])\n",
    "    for j in i[1]:\n",
    "        list_of_temp.append(float(j))\n",
    "\n",
    "list_of_temp.remove(list_of_temp[-1])\n",
    "list_of_ages.remove(list_of_ages[-1])"
   ]
  },
  {
   "cell_type": "markdown",
   "metadata": {},
   "source": [
    "Глянемо вміст масиву віку та масиву температур."
   ]
  },
  {
   "cell_type": "code",
   "execution_count": 11,
   "metadata": {
    "pycharm": {
     "name": "#%%\n"
    }
   },
   "outputs": [
    {
     "name": "stdout",
     "output_type": "stream",
     "text": [
      "[38.7, 38.8, 38.8, 38.8] ['0-15', '16-22', '23-40', '40-65']\n"
     ]
    }
   ],
   "source": [
    "print(list_of_temp, list_of_ages)"
   ]
  },
  {
   "cell_type": "markdown",
   "metadata": {},
   "source": [
    "Побудова гістограми."
   ]
  },
  {
   "cell_type": "code",
   "execution_count": 12,
   "metadata": {
    "pycharm": {
     "name": "#%%\n"
    }
   },
   "outputs": [
    {
     "data": {
      "text/plain": "<Figure size 432x288 with 1 Axes>",
      "image/png": "[encoded data removed]"
     },
     "metadata": {
      "needs_background": "light"
     },
     "output_type": "display_data"
    }
   ],
   "source": [
    "plt.bar([x for x in list_of_ages], [d + 0.00005 for d in list_of_temp],\n",
    "        width=0.2, color='blue')\n",
    "plt.ylim(ymin=37)\n",
    "plt.show()\n"
   ]
  },
  {
   "cell_type": "markdown",
   "metadata": {},
   "source": [
    "## Висновок\n",
    "\n",
    "В цій лабораторній роботі розглянуто основні методи завантаження та попередньої обробки даних.\n",
    "Я проаналізувала та візуалізувала дані з файлу “COVID_19.xlsx”, а також навчилась працювати з основами бібліотек “ pandas” та “ seaborn ”,\n",
    "побудувала діаграму розсіювання та стовпчасту діаграму згідно до завдань свого варіанту. Як можна помітити, на діаграмі розсіювання чіткіше видно температури згідно до кожної з категорій,\n",
    "в той час як стовпчикова діаграма зообразила стовпці майже однакової висоти. \n"
   ]
  }
 ],
 "metadata": {
  "colab": {
   "collapsed_sections": [],
   "name": "Lab1 Basic statistical analysis.ipynb",
   "provenance": []
  },
  "kernelspec": {
   "display_name": "Python 3 (ipykernel)",
   "language": "python",
   "name": "python3"
  },
  "language_info": {
   "codemirror_mode": {
    "name": "ipython",
    "version": 3
   },
   "file_extension": ".py",
   "mimetype": "text/x-python",
   "name": "python",
   "nbconvert_exporter": "python",
   "pygments_lexer": "ipython3",
   "version": "3.9.1"
  }
 },
 "nbformat": 4,
 "nbformat_minor": 4
}